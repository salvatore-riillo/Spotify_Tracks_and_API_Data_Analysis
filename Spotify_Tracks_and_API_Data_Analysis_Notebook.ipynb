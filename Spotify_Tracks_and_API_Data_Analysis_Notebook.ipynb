{
  "nbformat": 4,
  "nbformat_minor": 0,
  "metadata": {
    "colab": {
      "provenance": []
    },
    "kernelspec": {
      "name": "python3",
      "display_name": "Python 3"
    },
    "language_info": {
      "name": "python"
    }
  },
  "cells": [
    {
      "cell_type": "markdown",
      "source": [
        "# OUTLINE:"
      ],
      "metadata": {
        "id": "PB-dupZlX8tS"
      }
    },
    {
      "cell_type": "markdown",
      "source": [
        "We have a file in .db format that contains music tracks data.\n",
        "The business question is not very specific, we just know that initially we have to explore the database using SQL, and then enrich it with the Track and the Authors' Names by using a Spotify API.\n",
        "\n",
        "After that we can proceed with some general analysis to get some insight such as the top songs and so on.\n",
        "\n",
        "Let's start."
      ],
      "metadata": {
        "id": "sm3-Fox6YODV"
      }
    },
    {
      "cell_type": "code",
      "source": [
        "# Importing the required libraries\n",
        "\n",
        "from google.colab import drive\n",
        "import sqlite3\n",
        "import pandas as pd\n",
        "import numpy as np\n",
        "import json\n",
        "import requests\n",
        "from requests.auth import HTTPBasicAuth\n",
        "!pip install spotipy\n",
        "import spotipy\n",
        "from spotipy.oauth2 import SpotifyClientCredentials\n",
        "import time\n",
        "import os"
      ],
      "metadata": {
        "id": "epohd1HVrBNB",
        "colab": {
          "base_uri": "https://localhost:8080/"
        },
        "outputId": "f6c503ce-db54-4f17-92d5-ceb89111f7c3"
      },
      "execution_count": null,
      "outputs": [
        {
          "output_type": "stream",
          "name": "stdout",
          "text": [
            "Requirement already satisfied: spotipy in /usr/local/lib/python3.10/dist-packages (2.23.0)\n",
            "Requirement already satisfied: redis>=3.5.3 in /usr/local/lib/python3.10/dist-packages (from spotipy) (5.0.1)\n",
            "Requirement already satisfied: requests>=2.25.0 in /usr/local/lib/python3.10/dist-packages (from spotipy) (2.31.0)\n",
            "Requirement already satisfied: six>=1.15.0 in /usr/local/lib/python3.10/dist-packages (from spotipy) (1.16.0)\n",
            "Requirement already satisfied: urllib3>=1.26.0 in /usr/local/lib/python3.10/dist-packages (from spotipy) (2.0.7)\n",
            "Requirement already satisfied: async-timeout>=4.0.2 in /usr/local/lib/python3.10/dist-packages (from redis>=3.5.3->spotipy) (4.0.3)\n",
            "Requirement already satisfied: charset-normalizer<4,>=2 in /usr/local/lib/python3.10/dist-packages (from requests>=2.25.0->spotipy) (3.3.2)\n",
            "Requirement already satisfied: idna<4,>=2.5 in /usr/local/lib/python3.10/dist-packages (from requests>=2.25.0->spotipy) (3.4)\n",
            "Requirement already satisfied: certifi>=2017.4.17 in /usr/local/lib/python3.10/dist-packages (from requests>=2.25.0->spotipy) (2023.7.22)\n"
          ]
        }
      ]
    },
    {
      "cell_type": "code",
      "source": [
        "# Connecting the notebook to my Google Drive\n",
        "\n",
        "drive.mount('/content/drive')"
      ],
      "metadata": {
        "colab": {
          "base_uri": "https://localhost:8080/"
        },
        "id": "ktMOBolNMR3a",
        "outputId": "582594cd-eb12-41cd-d2d9-e438fe879a88"
      },
      "execution_count": null,
      "outputs": [
        {
          "output_type": "stream",
          "name": "stdout",
          "text": [
            "Drive already mounted at /content/drive; to attempt to forcibly remount, call drive.mount(\"/content/drive\", force_remount=True).\n"
          ]
        }
      ]
    },
    {
      "cell_type": "code",
      "source": [
        "# Creating a variable to store the list of all my files\n",
        "\n",
        "my_files = []\n",
        "\n",
        "\n",
        "# Putting the .db file in my Drive and add the filename to the list\n",
        "\n",
        "my_files.append('spotify_data.db')"
      ],
      "metadata": {
        "id": "mFlaX9eK-wxZ"
      },
      "execution_count": null,
      "outputs": []
    },
    {
      "cell_type": "code",
      "source": [
        "# Function to create filepath automatically from a filename.\n",
        "def file_path(file_name):\n",
        "  return f'/content/drive/MyDrive/ONEMEDIA/{file_name}'\n",
        "\n",
        "\n",
        "database_path = file_path(my_files[-1])"
      ],
      "metadata": {
        "id": "syT3NGX8qVHn"
      },
      "execution_count": null,
      "outputs": []
    },
    {
      "cell_type": "markdown",
      "source": [
        "."
      ],
      "metadata": {
        "id": "peulDmxZlt5w"
      }
    },
    {
      "cell_type": "markdown",
      "source": [
        "Now I will establish 2 SQLite connections. One to the physical .db file and one to an in-memory database. Then I will copy the physical one into the in-memory one.\n",
        "The reason for this is that the in-memory db is on the ram and it can be updated and changed, not just read."
      ],
      "metadata": {
        "id": "diaQWQ6wlvQA"
      }
    },
    {
      "cell_type": "code",
      "source": [
        "# Connect to an in-memory database\n",
        "memory_conn = sqlite3.connect(':memory:')\n",
        "cursor = memory_conn.cursor()"
      ],
      "metadata": {
        "id": "fGEVlFCCdiaB"
      },
      "execution_count": null,
      "outputs": []
    },
    {
      "cell_type": "code",
      "source": [
        "# Connect to the physical database\n",
        "physical_conn = sqlite3.connect(database_path)\n",
        "\n",
        "# Generate SQL script to recreate the physical database\n",
        "sql_script = \"\".join(line for line in physical_conn.iterdump())\n",
        "\n",
        "# Execute the script on the in-memory database\n",
        "memory_conn.executescript(sql_script)"
      ],
      "metadata": {
        "colab": {
          "base_uri": "https://localhost:8080/"
        },
        "id": "ZWU5tWz2eR6J",
        "outputId": "31d8e1d3-cd71-4138-9812-839d0adfcfc1"
      },
      "execution_count": null,
      "outputs": [
        {
          "output_type": "execute_result",
          "data": {
            "text/plain": [
              "<sqlite3.Cursor at 0x7eb48bb557c0>"
            ]
          },
          "metadata": {},
          "execution_count": 36
        }
      ]
    },
    {
      "cell_type": "code",
      "source": [
        "# Closing the connection to the physical DB. Not needed anymore.\n",
        "physical_conn.close()"
      ],
      "metadata": {
        "id": "mo83Q08Jie8E"
      },
      "execution_count": null,
      "outputs": []
    },
    {
      "cell_type": "code",
      "source": [
        "# Query to find all tables names in the database\n",
        "tab_names_query = \"SELECT name FROM sqlite_master WHERE type='table';\"\n",
        "\n",
        "# Executing the query\n",
        "cursor.execute(tab_names_query)\n",
        "\n",
        "# Fetching all results into a list\n",
        "tables = cursor.fetchall()\n",
        "\n",
        "# Updating the list so that it contains only the name\n",
        "tables = [table[0] for table in tables]\n",
        "\n",
        "# Printing the names of the tables\n",
        "print('The DB contains these tables:\\n')\n",
        "for table in tables:\n",
        "    print(table)"
      ],
      "metadata": {
        "colab": {
          "base_uri": "https://localhost:8080/"
        },
        "id": "EdaXS4j6Lph9",
        "outputId": "8f07592a-e394-4222-a3ed-70249c69ae7e"
      },
      "execution_count": null,
      "outputs": [
        {
          "output_type": "stream",
          "name": "stdout",
          "text": [
            "The DB contains these tables:\n",
            "\n",
            "characteristics\n",
            "charts\n",
            "ids\n",
            "release\n",
            "statistics\n"
          ]
        }
      ]
    },
    {
      "cell_type": "markdown",
      "source": [
        "Now I will create a python function to launch SQL queries to check tables headers, so I don't need to repeat the same thing 5 times."
      ],
      "metadata": {
        "id": "kTjIAEjdBGab"
      }
    },
    {
      "cell_type": "code",
      "source": [
        "def header_sql(cursor, query):\n",
        "    cursor.execute(query)\n",
        "\n",
        "    # Getting column names\n",
        "    column_names = [description[0] for description in cursor.description]\n",
        "\n",
        "    # Fetching all rows\n",
        "    rows = cursor.fetchall()\n",
        "\n",
        "    # Displaying column names and rows\n",
        "    print(\"Column Names:\", column_names, \"\\n\")\n",
        "    for row in rows:\n",
        "        print(row)"
      ],
      "metadata": {
        "id": "dBxv5NQfupxx"
      },
      "execution_count": null,
      "outputs": []
    },
    {
      "cell_type": "markdown",
      "source": [
        "I can start to write in SQL."
      ],
      "metadata": {
        "id": "uHZ4ktr4BkI2"
      }
    },
    {
      "cell_type": "code",
      "source": [
        "# Checking ids table\n",
        "\n",
        "query = \"SELECT * FROM ids LIMIT 5;\"\n",
        "header_sql(cursor, query)\n",
        "\n",
        "cursor.execute(\"SELECT COUNT(*) FROM ids\")\n",
        "lenght = cursor.fetchall()\n",
        "print(\"\\n Table lenght: \",lenght[0][0])"
      ],
      "metadata": {
        "colab": {
          "base_uri": "https://localhost:8080/"
        },
        "id": "gU2_DJoouwoQ",
        "outputId": "e52266f2-df61-4c73-bfcf-a57c2bedfc9c"
      },
      "execution_count": null,
      "outputs": [
        {
          "output_type": "stream",
          "name": "stdout",
          "text": [
            "Column Names: ['id', 'track_id', 'artist_id'] \n",
            "\n",
            "(491207958, '6dgUya35uo964z7GZXM07g', '74KM79TiuVKeVCqs8QtB0B')\n",
            "(556220890, '4d4ZXH4dr5bYfgErHiZCX2', '4q3ewBCX7sLwd24euuV69X')\n",
            "(204196266, '4vb777iaycnlFxVkJMmtfd', '75VKfyoBlkmrJFDqo1o2VY,6eUKZXaKkcviH0Ku9w2n3V')\n",
            "(655947751, '5HCyWlXZPP0y6Gqq8TgA20', '2tIP7SsRs7vjIcLrU85W8J,1uNFoZAHBGtllmzznpCI3s')\n",
            "(806275346, '1BxfuPKGuaTgP7aM0Bbdwr', '06HL4z0CvFAxyc27GXpf02')\n",
            "\n",
            " Table lenght:  826\n"
          ]
        }
      ]
    },
    {
      "cell_type": "markdown",
      "source": [
        "Here I am seeing that some artist has more than one ID. Let's check what is the maximum amont of artist IDs a track has."
      ],
      "metadata": {
        "id": "v0KrcqPNwfwm"
      }
    },
    {
      "cell_type": "code",
      "source": [
        "# Checking the max number of IDs\n",
        "\n",
        "query = '''SELECT MAX(artist_id_count) AS max_artist_ids\n",
        "FROM (\n",
        "    SELECT id, track_id,\n",
        "           LENGTH(artist_id) - LENGTH(REPLACE(artist_id, ',', '')) + 1 AS artist_id_count\n",
        "    FROM ids\n",
        ") AS subquery;\n",
        "'''\n",
        "\n",
        "cursor.execute(query)\n",
        "result = cursor.fetchall()\n",
        "\n",
        "print(\"The maximun number of artist ID for a track is \", result[0][0])"
      ],
      "metadata": {
        "colab": {
          "base_uri": "https://localhost:8080/"
        },
        "id": "Qn_Zw8SHvwNA",
        "outputId": "e5e3d1af-6c8b-40de-c619-9521632824ff"
      },
      "execution_count": null,
      "outputs": [
        {
          "output_type": "stream",
          "name": "stdout",
          "text": [
            "The maximun number of artist ID for a track is  8\n"
          ]
        }
      ]
    },
    {
      "cell_type": "markdown",
      "source": [
        "."
      ],
      "metadata": {
        "id": "u7RGtkX3uLFh"
      }
    },
    {
      "cell_type": "code",
      "source": [
        "# Counting Tracks Based on Number of Artist IDs\n",
        "\n",
        "query = '''SELECT\n",
        "    artist_id_count,\n",
        "    COUNT(*) as track_count\n",
        "FROM (\n",
        "    SELECT\n",
        "        track_id,\n",
        "        LENGTH(artist_id) - LENGTH(REPLACE(artist_id, ',', '')) + 1 AS artist_id_count\n",
        "    FROM ids\n",
        ") AS subquery\n",
        "GROUP BY artist_id_count\n",
        "ORDER BY artist_id_count;\n",
        "'''\n",
        "\n",
        "cursor.execute(query)\n",
        "result = cursor.fetchall()\n",
        "\n",
        "for num_artists, num_songs in result:\n",
        "    print(f\"{num_artists} Artists: {num_songs} Songs\")"
      ],
      "metadata": {
        "colab": {
          "base_uri": "https://localhost:8080/"
        },
        "id": "QHBQ47dQyZZP",
        "outputId": "112ae3c2-9eda-4117-d170-dadb903dd3f0"
      },
      "execution_count": null,
      "outputs": [
        {
          "output_type": "stream",
          "name": "stdout",
          "text": [
            "1 Artists: 511 Songs\n",
            "2 Artists: 223 Songs\n",
            "3 Artists: 70 Songs\n",
            "4 Artists: 12 Songs\n",
            "5 Artists: 4 Songs\n",
            "6 Artists: 3 Songs\n",
            "7 Artists: 2 Songs\n",
            "8 Artists: 1 Songs\n"
          ]
        }
      ]
    },
    {
      "cell_type": "markdown",
      "source": [
        "Since most entries have 1 to 3 artists, I'll split later the artist data into three separate columns and ignore anything after the third artist."
      ],
      "metadata": {
        "id": "GWdLTSyk2S6l"
      }
    },
    {
      "cell_type": "code",
      "source": [
        "# Checking release table\n",
        "\n",
        "query = \"SELECT * FROM release LIMIT 5;\"\n",
        "header_sql(cursor, query)\n",
        "\n",
        "cursor.execute(\"SELECT COUNT(*) FROM release;\")\n",
        "lenght = cursor.fetchall()\n",
        "print(\"\\n Table lenght: \",lenght[0][0])"
      ],
      "metadata": {
        "colab": {
          "base_uri": "https://localhost:8080/"
        },
        "id": "vg4YtSz30coU",
        "outputId": "401de112-7772-4796-cd72-e8af45702403"
      },
      "execution_count": null,
      "outputs": [
        {
          "output_type": "stream",
          "name": "stdout",
          "text": [
            "Column Names: ['id', 'released_year', 'released_month', 'released_day'] \n",
            "\n",
            "(491207958, 2022, 7, 15)\n",
            "(556220890, 2022, 5, 6)\n",
            "(204196266, 2021, 12, 23)\n",
            "(655947751, 2021, 7, 9)\n",
            "(806275346, 2019, 8, 23)\n",
            "\n",
            " Table lenght:  826\n"
          ]
        }
      ]
    },
    {
      "cell_type": "markdown",
      "source": [
        "Note: \"release\" is a locked word in some SQL dialects like mySQL. Here in SQLite it works without commas but one should be paying attention to such things."
      ],
      "metadata": {
        "id": "k6TyVI5k0xRv"
      }
    },
    {
      "cell_type": "code",
      "source": [
        "# Checking charts table\n",
        "\n",
        "query = \"SELECT * FROM charts LIMIT 5;\"\n",
        "header_sql(cursor, query)\n",
        "\n",
        "cursor.execute(\"SELECT COUNT(*) FROM charts;\")\n",
        "lenght = cursor.fetchall()\n",
        "print(\"\\n Table lenght: \",lenght[0][0])"
      ],
      "metadata": {
        "colab": {
          "base_uri": "https://localhost:8080/"
        },
        "id": "erK9R4XE1Lp_",
        "outputId": "a455d18e-72fd-4b77-ffca-5f958faab60d"
      },
      "execution_count": null,
      "outputs": [
        {
          "output_type": "stream",
          "name": "stdout",
          "text": [
            "Column Names: ['id', 'in_spotify_playlists', 'in_spotify_charts', 'streams', 'in_apple_playlists', 'in_apple_charts', 'in_deezer_playlists', 'in_deezer_charts', 'in_shazam_charts'] \n",
            "\n",
            "(491207958, 2346, 27, '342897938', 69, 12, '38', 8, '64')\n",
            "(556220890, 892, 3, '338422004', 10, 24, '11', 0, '0')\n",
            "(204196266, 2999, 0, '261286503', 60, 17, '154', 0, '22')\n",
            "(655947751, 17050, 36, '2665343922', 492, 99, '798', 31, '0')\n",
            "(806275346, 7858, 100, '800840817', 116, 207, '125', 12, '548')\n",
            "\n",
            " Table lenght:  826\n"
          ]
        }
      ]
    },
    {
      "cell_type": "code",
      "source": [
        "# Checking characteristics table\n",
        "\n",
        "query = \"SELECT * FROM characteristics LIMIT 5;\"\n",
        "header_sql(cursor, query)\n",
        "\n",
        "cursor.execute(\"SELECT COUNT(*) FROM characteristics;\")\n",
        "lenght = cursor.fetchall()\n",
        "print(\"\\n Table lenght: \",lenght[0][0])"
      ],
      "metadata": {
        "colab": {
          "base_uri": "https://localhost:8080/"
        },
        "id": "bqopCQC61pk3",
        "outputId": "16b66ce3-b63c-4554-e18d-4add3cfe967e"
      },
      "execution_count": null,
      "outputs": [
        {
          "output_type": "stream",
          "name": "stdout",
          "text": [
            "Column Names: ['id', 'bpm', 'key', 'mode'] \n",
            "\n",
            "(491207958, 139, 'G#', 'Major')\n",
            "(556220890, 130, 'C#', 'Major')\n",
            "(204196266, 108, 'G', 'Minor')\n",
            "(655947751, 170, 'C#', 'Major')\n",
            "(806275346, 170, 'A', 'Major')\n",
            "\n",
            " Table lenght:  826\n"
          ]
        }
      ]
    },
    {
      "cell_type": "code",
      "source": [
        "# Checking statistics table\n",
        "\n",
        "query = \"SELECT * FROM statistics LIMIT 5;\"\n",
        "header_sql(cursor, query)\n",
        "\n",
        "cursor.execute(\"SELECT COUNT(*) FROM statistics;\")\n",
        "lenght = cursor.fetchall()\n",
        "print(\"\\n Table lenght: \",lenght[0][0])"
      ],
      "metadata": {
        "colab": {
          "base_uri": "https://localhost:8080/"
        },
        "id": "oGIAM8kJ1sEi",
        "outputId": "2b30fd3f-8e61-4829-c01b-8ad48ce9a7c5"
      },
      "execution_count": null,
      "outputs": [
        {
          "output_type": "stream",
          "name": "stdout",
          "text": [
            "Column Names: ['id', 'danceability_%', 'valence_%', 'energy_%', 'acousticness_%', 'instrumentalness_%', 'liveness_%', 'speechiness_%'] \n",
            "\n",
            "(491207958, 74, 68, 68, 3, 0, 26, 4)\n",
            "(556220890, 82, 50, 67, 12, 0, 13, 5)\n",
            "(204196266, 96, 71, 42, 57, 0, 8, 9)\n",
            "(655947751, 59, 48, 76, 4, 0, 10, 5)\n",
            "(806275346, 55, 58, 72, 11, 0, 11, 15)\n",
            "\n",
            " Table lenght:  826\n"
          ]
        }
      ]
    },
    {
      "cell_type": "markdown",
      "source": [
        "."
      ],
      "metadata": {
        "id": "_qe1atO6ou_3"
      }
    },
    {
      "cell_type": "markdown",
      "source": [
        "."
      ],
      "metadata": {
        "id": "NBzijh2eowio"
      }
    },
    {
      "cell_type": "markdown",
      "source": [
        "I know already that the columns I need to use for the JOIN don't have any issues, so I will procede to create the joined table and will handle the other columns later."
      ],
      "metadata": {
        "id": "3nKD6X6o1yr8"
      }
    },
    {
      "cell_type": "code",
      "source": [
        "# SQL query to join my tables\n",
        "\n",
        "join_query = \"\"\"\n",
        "CREATE TABLE joined AS\n",
        "SELECT\n",
        "    ids.track_id,\n",
        "    ids.artist_id,\n",
        "    release.released_year,\n",
        "    release.released_month,\n",
        "    release.released_day,\n",
        "    charts.in_spotify_playlists,\n",
        "    charts.in_spotify_charts,\n",
        "    charts.streams,\n",
        "    charts.in_apple_playlists,\n",
        "    charts.in_apple_charts,\n",
        "    charts.in_deezer_playlists,\n",
        "    charts.in_deezer_charts,\n",
        "    charts.in_shazam_charts,\n",
        "    characteristics.bpm,\n",
        "    characteristics.key,\n",
        "    characteristics.mode,\n",
        "    statistics.\"danceability_%\",\n",
        "    statistics.\"valence_%\",\n",
        "    statistics.\"energy_%\",\n",
        "    statistics.\"acousticness_%\",\n",
        "    statistics.\"instrumentalness_%\",\n",
        "    statistics.\"liveness_%\",\n",
        "    statistics.\"speechiness_%\"\n",
        "FROM ids\n",
        "LEFT JOIN release ON ids.id = release.id\n",
        "LEFT JOIN charts ON ids.id = charts.id\n",
        "LEFT JOIN characteristics ON ids.id = characteristics.id\n",
        "LEFT JOIN statistics ON ids.id = statistics.id;\n",
        "\"\"\""
      ],
      "metadata": {
        "id": "Gz65JGnZ22pg"
      },
      "execution_count": null,
      "outputs": []
    },
    {
      "cell_type": "markdown",
      "source": [
        "Note: I had to use quotes for column names that contained the % sign."
      ],
      "metadata": {
        "id": "QeXUwSstB6E_"
      }
    },
    {
      "cell_type": "markdown",
      "source": [
        "."
      ],
      "metadata": {
        "id": "xrqVkuHkoy98"
      }
    },
    {
      "cell_type": "code",
      "source": [
        "# Executing the query\n",
        "cursor.execute(join_query)\n",
        "\n",
        "# Commit the changes\n",
        "memory_conn.commit()"
      ],
      "metadata": {
        "id": "JsOS5B3gfu9N"
      },
      "execution_count": null,
      "outputs": []
    },
    {
      "cell_type": "code",
      "source": [
        "cursor.execute(\"PRAGMA table_info(joined);\")\n",
        "result = cursor.fetchall()\n",
        "result"
      ],
      "metadata": {
        "colab": {
          "base_uri": "https://localhost:8080/"
        },
        "id": "o24mAJRhgLwC",
        "outputId": "7c98a2dc-3462-4830-9236-7a086fd3dce0"
      },
      "execution_count": null,
      "outputs": [
        {
          "output_type": "execute_result",
          "data": {
            "text/plain": [
              "[(0, 'track_id', 'TEXT', 0, None, 0),\n",
              " (1, 'artist_id', 'TEXT', 0, None, 0),\n",
              " (2, 'released_year', 'INT', 0, None, 0),\n",
              " (3, 'released_month', 'INT', 0, None, 0),\n",
              " (4, 'released_day', 'INT', 0, None, 0),\n",
              " (5, 'in_spotify_playlists', 'INT', 0, None, 0),\n",
              " (6, 'in_spotify_charts', 'INT', 0, None, 0),\n",
              " (7, 'streams', 'TEXT', 0, None, 0),\n",
              " (8, 'in_apple_playlists', 'INT', 0, None, 0),\n",
              " (9, 'in_apple_charts', 'INT', 0, None, 0),\n",
              " (10, 'in_deezer_playlists', 'TEXT', 0, None, 0),\n",
              " (11, 'in_deezer_charts', 'INT', 0, None, 0),\n",
              " (12, 'in_shazam_charts', 'TEXT', 0, None, 0),\n",
              " (13, 'bpm', 'INT', 0, None, 0),\n",
              " (14, 'key', 'TEXT', 0, None, 0),\n",
              " (15, 'mode', 'TEXT', 0, None, 0),\n",
              " (16, 'danceability_%', 'INT', 0, None, 0),\n",
              " (17, 'valence_%', 'INT', 0, None, 0),\n",
              " (18, 'energy_%', 'INT', 0, None, 0),\n",
              " (19, 'acousticness_%', 'INT', 0, None, 0),\n",
              " (20, 'instrumentalness_%', 'INT', 0, None, 0),\n",
              " (21, 'liveness_%', 'INT', 0, None, 0),\n",
              " (22, 'speechiness_%', 'INT', 0, None, 0)]"
            ]
          },
          "metadata": {},
          "execution_count": 49
        }
      ]
    },
    {
      "cell_type": "markdown",
      "source": [
        "."
      ],
      "metadata": {
        "id": "lUJcHbL6oDTu"
      }
    },
    {
      "cell_type": "markdown",
      "source": [
        "Now I can save the result of this query into a CSV file and get rid of the SQLite connection. From now on I will work with Pandas on the resulting Dataframe called \"df\"."
      ],
      "metadata": {
        "id": "b_KIYx4qn029"
      }
    },
    {
      "cell_type": "code",
      "source": [
        "query = \"SELECT * FROM joined;\"\n",
        "\n",
        "# Read the query results into a pandas DataFrame\n",
        "df = pd.read_sql_query(query, memory_conn)\n",
        "\n",
        "# Creating a new file name for the joined csv\n",
        "my_files.append('joined_csv.csv')\n",
        "\n",
        "# Downloading the df into CSV\n",
        "df.to_csv(file_path(my_files[-1]), index=False)\n",
        "\n",
        "# Closing the in memory connection\n",
        "memory_conn.close()\n",
        "\n",
        "print(f\"Data saved to CSV at {file_path(my_files[-1])}\")"
      ],
      "metadata": {
        "colab": {
          "base_uri": "https://localhost:8080/"
        },
        "id": "3DMj2kLa-TbJ",
        "outputId": "d7f5bdc1-c8ca-4405-b1fc-01bc4b63e097"
      },
      "execution_count": null,
      "outputs": [
        {
          "output_type": "stream",
          "name": "stdout",
          "text": [
            "Data saved to CSV at /content/drive/MyDrive/ONEMEDIA/joined_csv.csv\n"
          ]
        }
      ]
    },
    {
      "cell_type": "markdown",
      "source": [
        ".\n"
      ],
      "metadata": {
        "id": "D2Z6sZaIT4GP"
      }
    },
    {
      "cell_type": "markdown",
      "source": [
        "."
      ],
      "metadata": {
        "id": "sBxV62d6UGIr"
      }
    },
    {
      "cell_type": "markdown",
      "source": [
        "Now I will check the pandas dataframe, split the artist_id column and collect additional info from the API"
      ],
      "metadata": {
        "id": "F_4L7XTuTnh7"
      }
    },
    {
      "cell_type": "code",
      "source": [
        "# Checking the DF\n",
        "\n",
        "df.head(5)"
      ],
      "metadata": {
        "colab": {
          "base_uri": "https://localhost:8080/",
          "height": 255
        },
        "id": "hUH5SVW6CqT0",
        "outputId": "f72108e4-aaad-495e-86bf-5471a96243e8"
      },
      "execution_count": null,
      "outputs": [
        {
          "output_type": "execute_result",
          "data": {
            "text/plain": [
              "                 track_id                                      artist_id  \\\n",
              "0  6dgUya35uo964z7GZXM07g                         74KM79TiuVKeVCqs8QtB0B   \n",
              "1  4d4ZXH4dr5bYfgErHiZCX2                         4q3ewBCX7sLwd24euuV69X   \n",
              "2  4vb777iaycnlFxVkJMmtfd  75VKfyoBlkmrJFDqo1o2VY,6eUKZXaKkcviH0Ku9w2n3V   \n",
              "3  5HCyWlXZPP0y6Gqq8TgA20  2tIP7SsRs7vjIcLrU85W8J,1uNFoZAHBGtllmzznpCI3s   \n",
              "4  1BxfuPKGuaTgP7aM0Bbdwr                         06HL4z0CvFAxyc27GXpf02   \n",
              "\n",
              "   released_year  released_month  released_day  in_spotify_playlists  \\\n",
              "0           2022               7            15                  2346   \n",
              "1           2022               5             6                   892   \n",
              "2           2021              12            23                  2999   \n",
              "3           2021               7             9                 17050   \n",
              "4           2019               8            23                  7858   \n",
              "\n",
              "   in_spotify_charts     streams  in_apple_playlists  in_apple_charts  ...  \\\n",
              "0                 27   342897938                  69               12  ...   \n",
              "1                  3   338422004                  10               24  ...   \n",
              "2                  0   261286503                  60               17  ...   \n",
              "3                 36  2665343922                 492               99  ...   \n",
              "4                100   800840817                 116              207  ...   \n",
              "\n",
              "   bpm  key   mode  danceability_% valence_% energy_%  acousticness_%  \\\n",
              "0  139   G#  Major              74        68       68               3   \n",
              "1  130   C#  Major              82        50       67              12   \n",
              "2  108    G  Minor              96        71       42              57   \n",
              "3  170   C#  Major              59        48       76               4   \n",
              "4  170    A  Major              55        58       72              11   \n",
              "\n",
              "   instrumentalness_%  liveness_%  speechiness_%  \n",
              "0                   0          26              4  \n",
              "1                   0          13              5  \n",
              "2                   0           8              9  \n",
              "3                   0          10              5  \n",
              "4                   0          11             15  \n",
              "\n",
              "[5 rows x 23 columns]"
            ],
            "text/html": [
              "\n",
              "  <div id=\"df-e650c13d-d71e-4367-94e4-9a2942118aa7\" class=\"colab-df-container\">\n",
              "    <div>\n",
              "<style scoped>\n",
              "    .dataframe tbody tr th:only-of-type {\n",
              "        vertical-align: middle;\n",
              "    }\n",
              "\n",
              "    .dataframe tbody tr th {\n",
              "        vertical-align: top;\n",
              "    }\n",
              "\n",
              "    .dataframe thead th {\n",
              "        text-align: right;\n",
              "    }\n",
              "</style>\n",
              "<table border=\"1\" class=\"dataframe\">\n",
              "  <thead>\n",
              "    <tr style=\"text-align: right;\">\n",
              "      <th></th>\n",
              "      <th>track_id</th>\n",
              "      <th>artist_id</th>\n",
              "      <th>released_year</th>\n",
              "      <th>released_month</th>\n",
              "      <th>released_day</th>\n",
              "      <th>in_spotify_playlists</th>\n",
              "      <th>in_spotify_charts</th>\n",
              "      <th>streams</th>\n",
              "      <th>in_apple_playlists</th>\n",
              "      <th>in_apple_charts</th>\n",
              "      <th>...</th>\n",
              "      <th>bpm</th>\n",
              "      <th>key</th>\n",
              "      <th>mode</th>\n",
              "      <th>danceability_%</th>\n",
              "      <th>valence_%</th>\n",
              "      <th>energy_%</th>\n",
              "      <th>acousticness_%</th>\n",
              "      <th>instrumentalness_%</th>\n",
              "      <th>liveness_%</th>\n",
              "      <th>speechiness_%</th>\n",
              "    </tr>\n",
              "  </thead>\n",
              "  <tbody>\n",
              "    <tr>\n",
              "      <th>0</th>\n",
              "      <td>6dgUya35uo964z7GZXM07g</td>\n",
              "      <td>74KM79TiuVKeVCqs8QtB0B</td>\n",
              "      <td>2022</td>\n",
              "      <td>7</td>\n",
              "      <td>15</td>\n",
              "      <td>2346</td>\n",
              "      <td>27</td>\n",
              "      <td>342897938</td>\n",
              "      <td>69</td>\n",
              "      <td>12</td>\n",
              "      <td>...</td>\n",
              "      <td>139</td>\n",
              "      <td>G#</td>\n",
              "      <td>Major</td>\n",
              "      <td>74</td>\n",
              "      <td>68</td>\n",
              "      <td>68</td>\n",
              "      <td>3</td>\n",
              "      <td>0</td>\n",
              "      <td>26</td>\n",
              "      <td>4</td>\n",
              "    </tr>\n",
              "    <tr>\n",
              "      <th>1</th>\n",
              "      <td>4d4ZXH4dr5bYfgErHiZCX2</td>\n",
              "      <td>4q3ewBCX7sLwd24euuV69X</td>\n",
              "      <td>2022</td>\n",
              "      <td>5</td>\n",
              "      <td>6</td>\n",
              "      <td>892</td>\n",
              "      <td>3</td>\n",
              "      <td>338422004</td>\n",
              "      <td>10</td>\n",
              "      <td>24</td>\n",
              "      <td>...</td>\n",
              "      <td>130</td>\n",
              "      <td>C#</td>\n",
              "      <td>Major</td>\n",
              "      <td>82</td>\n",
              "      <td>50</td>\n",
              "      <td>67</td>\n",
              "      <td>12</td>\n",
              "      <td>0</td>\n",
              "      <td>13</td>\n",
              "      <td>5</td>\n",
              "    </tr>\n",
              "    <tr>\n",
              "      <th>2</th>\n",
              "      <td>4vb777iaycnlFxVkJMmtfd</td>\n",
              "      <td>75VKfyoBlkmrJFDqo1o2VY,6eUKZXaKkcviH0Ku9w2n3V</td>\n",
              "      <td>2021</td>\n",
              "      <td>12</td>\n",
              "      <td>23</td>\n",
              "      <td>2999</td>\n",
              "      <td>0</td>\n",
              "      <td>261286503</td>\n",
              "      <td>60</td>\n",
              "      <td>17</td>\n",
              "      <td>...</td>\n",
              "      <td>108</td>\n",
              "      <td>G</td>\n",
              "      <td>Minor</td>\n",
              "      <td>96</td>\n",
              "      <td>71</td>\n",
              "      <td>42</td>\n",
              "      <td>57</td>\n",
              "      <td>0</td>\n",
              "      <td>8</td>\n",
              "      <td>9</td>\n",
              "    </tr>\n",
              "    <tr>\n",
              "      <th>3</th>\n",
              "      <td>5HCyWlXZPP0y6Gqq8TgA20</td>\n",
              "      <td>2tIP7SsRs7vjIcLrU85W8J,1uNFoZAHBGtllmzznpCI3s</td>\n",
              "      <td>2021</td>\n",
              "      <td>7</td>\n",
              "      <td>9</td>\n",
              "      <td>17050</td>\n",
              "      <td>36</td>\n",
              "      <td>2665343922</td>\n",
              "      <td>492</td>\n",
              "      <td>99</td>\n",
              "      <td>...</td>\n",
              "      <td>170</td>\n",
              "      <td>C#</td>\n",
              "      <td>Major</td>\n",
              "      <td>59</td>\n",
              "      <td>48</td>\n",
              "      <td>76</td>\n",
              "      <td>4</td>\n",
              "      <td>0</td>\n",
              "      <td>10</td>\n",
              "      <td>5</td>\n",
              "    </tr>\n",
              "    <tr>\n",
              "      <th>4</th>\n",
              "      <td>1BxfuPKGuaTgP7aM0Bbdwr</td>\n",
              "      <td>06HL4z0CvFAxyc27GXpf02</td>\n",
              "      <td>2019</td>\n",
              "      <td>8</td>\n",
              "      <td>23</td>\n",
              "      <td>7858</td>\n",
              "      <td>100</td>\n",
              "      <td>800840817</td>\n",
              "      <td>116</td>\n",
              "      <td>207</td>\n",
              "      <td>...</td>\n",
              "      <td>170</td>\n",
              "      <td>A</td>\n",
              "      <td>Major</td>\n",
              "      <td>55</td>\n",
              "      <td>58</td>\n",
              "      <td>72</td>\n",
              "      <td>11</td>\n",
              "      <td>0</td>\n",
              "      <td>11</td>\n",
              "      <td>15</td>\n",
              "    </tr>\n",
              "  </tbody>\n",
              "</table>\n",
              "<p>5 rows × 23 columns</p>\n",
              "</div>\n",
              "    <div class=\"colab-df-buttons\">\n",
              "\n",
              "  <div class=\"colab-df-container\">\n",
              "    <button class=\"colab-df-convert\" onclick=\"convertToInteractive('df-e650c13d-d71e-4367-94e4-9a2942118aa7')\"\n",
              "            title=\"Convert this dataframe to an interactive table.\"\n",
              "            style=\"display:none;\">\n",
              "\n",
              "  <svg xmlns=\"http://www.w3.org/2000/svg\" height=\"24px\" viewBox=\"0 -960 960 960\">\n",
              "    <path d=\"M120-120v-720h720v720H120Zm60-500h600v-160H180v160Zm220 220h160v-160H400v160Zm0 220h160v-160H400v160ZM180-400h160v-160H180v160Zm440 0h160v-160H620v160ZM180-180h160v-160H180v160Zm440 0h160v-160H620v160Z\"/>\n",
              "  </svg>\n",
              "    </button>\n",
              "\n",
              "  <style>\n",
              "    .colab-df-container {\n",
              "      display:flex;\n",
              "      gap: 12px;\n",
              "    }\n",
              "\n",
              "    .colab-df-convert {\n",
              "      background-color: #E8F0FE;\n",
              "      border: none;\n",
              "      border-radius: 50%;\n",
              "      cursor: pointer;\n",
              "      display: none;\n",
              "      fill: #1967D2;\n",
              "      height: 32px;\n",
              "      padding: 0 0 0 0;\n",
              "      width: 32px;\n",
              "    }\n",
              "\n",
              "    .colab-df-convert:hover {\n",
              "      background-color: #E2EBFA;\n",
              "      box-shadow: 0px 1px 2px rgba(60, 64, 67, 0.3), 0px 1px 3px 1px rgba(60, 64, 67, 0.15);\n",
              "      fill: #174EA6;\n",
              "    }\n",
              "\n",
              "    .colab-df-buttons div {\n",
              "      margin-bottom: 4px;\n",
              "    }\n",
              "\n",
              "    [theme=dark] .colab-df-convert {\n",
              "      background-color: #3B4455;\n",
              "      fill: #D2E3FC;\n",
              "    }\n",
              "\n",
              "    [theme=dark] .colab-df-convert:hover {\n",
              "      background-color: #434B5C;\n",
              "      box-shadow: 0px 1px 3px 1px rgba(0, 0, 0, 0.15);\n",
              "      filter: drop-shadow(0px 1px 2px rgba(0, 0, 0, 0.3));\n",
              "      fill: #FFFFFF;\n",
              "    }\n",
              "  </style>\n",
              "\n",
              "    <script>\n",
              "      const buttonEl =\n",
              "        document.querySelector('#df-e650c13d-d71e-4367-94e4-9a2942118aa7 button.colab-df-convert');\n",
              "      buttonEl.style.display =\n",
              "        google.colab.kernel.accessAllowed ? 'block' : 'none';\n",
              "\n",
              "      async function convertToInteractive(key) {\n",
              "        const element = document.querySelector('#df-e650c13d-d71e-4367-94e4-9a2942118aa7');\n",
              "        const dataTable =\n",
              "          await google.colab.kernel.invokeFunction('convertToInteractive',\n",
              "                                                    [key], {});\n",
              "        if (!dataTable) return;\n",
              "\n",
              "        const docLinkHtml = 'Like what you see? Visit the ' +\n",
              "          '<a target=\"_blank\" href=https://colab.research.google.com/notebooks/data_table.ipynb>data table notebook</a>'\n",
              "          + ' to learn more about interactive tables.';\n",
              "        element.innerHTML = '';\n",
              "        dataTable['output_type'] = 'display_data';\n",
              "        await google.colab.output.renderOutput(dataTable, element);\n",
              "        const docLink = document.createElement('div');\n",
              "        docLink.innerHTML = docLinkHtml;\n",
              "        element.appendChild(docLink);\n",
              "      }\n",
              "    </script>\n",
              "  </div>\n",
              "\n",
              "\n",
              "<div id=\"df-6cd89944-f540-467b-ac69-23628263cbf9\">\n",
              "  <button class=\"colab-df-quickchart\" onclick=\"quickchart('df-6cd89944-f540-467b-ac69-23628263cbf9')\"\n",
              "            title=\"Suggest charts\"\n",
              "            style=\"display:none;\">\n",
              "\n",
              "<svg xmlns=\"http://www.w3.org/2000/svg\" height=\"24px\"viewBox=\"0 0 24 24\"\n",
              "     width=\"24px\">\n",
              "    <g>\n",
              "        <path d=\"M19 3H5c-1.1 0-2 .9-2 2v14c0 1.1.9 2 2 2h14c1.1 0 2-.9 2-2V5c0-1.1-.9-2-2-2zM9 17H7v-7h2v7zm4 0h-2V7h2v10zm4 0h-2v-4h2v4z\"/>\n",
              "    </g>\n",
              "</svg>\n",
              "  </button>\n",
              "\n",
              "<style>\n",
              "  .colab-df-quickchart {\n",
              "      --bg-color: #E8F0FE;\n",
              "      --fill-color: #1967D2;\n",
              "      --hover-bg-color: #E2EBFA;\n",
              "      --hover-fill-color: #174EA6;\n",
              "      --disabled-fill-color: #AAA;\n",
              "      --disabled-bg-color: #DDD;\n",
              "  }\n",
              "\n",
              "  [theme=dark] .colab-df-quickchart {\n",
              "      --bg-color: #3B4455;\n",
              "      --fill-color: #D2E3FC;\n",
              "      --hover-bg-color: #434B5C;\n",
              "      --hover-fill-color: #FFFFFF;\n",
              "      --disabled-bg-color: #3B4455;\n",
              "      --disabled-fill-color: #666;\n",
              "  }\n",
              "\n",
              "  .colab-df-quickchart {\n",
              "    background-color: var(--bg-color);\n",
              "    border: none;\n",
              "    border-radius: 50%;\n",
              "    cursor: pointer;\n",
              "    display: none;\n",
              "    fill: var(--fill-color);\n",
              "    height: 32px;\n",
              "    padding: 0;\n",
              "    width: 32px;\n",
              "  }\n",
              "\n",
              "  .colab-df-quickchart:hover {\n",
              "    background-color: var(--hover-bg-color);\n",
              "    box-shadow: 0 1px 2px rgba(60, 64, 67, 0.3), 0 1px 3px 1px rgba(60, 64, 67, 0.15);\n",
              "    fill: var(--button-hover-fill-color);\n",
              "  }\n",
              "\n",
              "  .colab-df-quickchart-complete:disabled,\n",
              "  .colab-df-quickchart-complete:disabled:hover {\n",
              "    background-color: var(--disabled-bg-color);\n",
              "    fill: var(--disabled-fill-color);\n",
              "    box-shadow: none;\n",
              "  }\n",
              "\n",
              "  .colab-df-spinner {\n",
              "    border: 2px solid var(--fill-color);\n",
              "    border-color: transparent;\n",
              "    border-bottom-color: var(--fill-color);\n",
              "    animation:\n",
              "      spin 1s steps(1) infinite;\n",
              "  }\n",
              "\n",
              "  @keyframes spin {\n",
              "    0% {\n",
              "      border-color: transparent;\n",
              "      border-bottom-color: var(--fill-color);\n",
              "      border-left-color: var(--fill-color);\n",
              "    }\n",
              "    20% {\n",
              "      border-color: transparent;\n",
              "      border-left-color: var(--fill-color);\n",
              "      border-top-color: var(--fill-color);\n",
              "    }\n",
              "    30% {\n",
              "      border-color: transparent;\n",
              "      border-left-color: var(--fill-color);\n",
              "      border-top-color: var(--fill-color);\n",
              "      border-right-color: var(--fill-color);\n",
              "    }\n",
              "    40% {\n",
              "      border-color: transparent;\n",
              "      border-right-color: var(--fill-color);\n",
              "      border-top-color: var(--fill-color);\n",
              "    }\n",
              "    60% {\n",
              "      border-color: transparent;\n",
              "      border-right-color: var(--fill-color);\n",
              "    }\n",
              "    80% {\n",
              "      border-color: transparent;\n",
              "      border-right-color: var(--fill-color);\n",
              "      border-bottom-color: var(--fill-color);\n",
              "    }\n",
              "    90% {\n",
              "      border-color: transparent;\n",
              "      border-bottom-color: var(--fill-color);\n",
              "    }\n",
              "  }\n",
              "</style>\n",
              "\n",
              "  <script>\n",
              "    async function quickchart(key) {\n",
              "      const quickchartButtonEl =\n",
              "        document.querySelector('#' + key + ' button');\n",
              "      quickchartButtonEl.disabled = true;  // To prevent multiple clicks.\n",
              "      quickchartButtonEl.classList.add('colab-df-spinner');\n",
              "      try {\n",
              "        const charts = await google.colab.kernel.invokeFunction(\n",
              "            'suggestCharts', [key], {});\n",
              "      } catch (error) {\n",
              "        console.error('Error during call to suggestCharts:', error);\n",
              "      }\n",
              "      quickchartButtonEl.classList.remove('colab-df-spinner');\n",
              "      quickchartButtonEl.classList.add('colab-df-quickchart-complete');\n",
              "    }\n",
              "    (() => {\n",
              "      let quickchartButtonEl =\n",
              "        document.querySelector('#df-6cd89944-f540-467b-ac69-23628263cbf9 button');\n",
              "      quickchartButtonEl.style.display =\n",
              "        google.colab.kernel.accessAllowed ? 'block' : 'none';\n",
              "    })();\n",
              "  </script>\n",
              "</div>\n",
              "    </div>\n",
              "  </div>\n"
            ]
          },
          "metadata": {},
          "execution_count": 51
        }
      ]
    },
    {
      "cell_type": "code",
      "source": [
        "# Splitting the 'artist_id' column and creating a new DataFrame with three columns\n",
        "split_df = df['artist_id'].str.split(',', expand=True, n=2)\n",
        "\n",
        "# Truncate the third column to ensure it contains only one artist ID\n",
        "split_df[2] = split_df[2].str.split(',', expand=True)[0]\n",
        "\n",
        "# Ensuring there are three columns in the resulting DataFrame\n",
        "split_df.columns = ['artist_id1', 'artist_id2', 'artist_id3']\n",
        "\n",
        "# Assigning the three columns back to the original DataFrame\n",
        "df[['artist_id1', 'artist_id2', 'artist_id3']] = split_df\n",
        "\n",
        "# Dropping the original 'artist_id' column\n",
        "df.drop('artist_id', axis=1, inplace=True)"
      ],
      "metadata": {
        "id": "ninALOGzUIlV"
      },
      "execution_count": null,
      "outputs": []
    },
    {
      "cell_type": "code",
      "source": [
        "# Checking the result\n",
        "\n",
        "df.head(5)"
      ],
      "metadata": {
        "colab": {
          "base_uri": "https://localhost:8080/",
          "height": 255
        },
        "id": "hHegKRbASchw",
        "outputId": "62e3c534-f151-424f-d38c-6c235c8a0bc0"
      },
      "execution_count": null,
      "outputs": [
        {
          "output_type": "execute_result",
          "data": {
            "text/plain": [
              "                 track_id  released_year  released_month  released_day  \\\n",
              "0  6dgUya35uo964z7GZXM07g           2022               7            15   \n",
              "1  4d4ZXH4dr5bYfgErHiZCX2           2022               5             6   \n",
              "2  4vb777iaycnlFxVkJMmtfd           2021              12            23   \n",
              "3  5HCyWlXZPP0y6Gqq8TgA20           2021               7             9   \n",
              "4  1BxfuPKGuaTgP7aM0Bbdwr           2019               8            23   \n",
              "\n",
              "   in_spotify_playlists  in_spotify_charts     streams  in_apple_playlists  \\\n",
              "0                  2346                 27   342897938                  69   \n",
              "1                   892                  3   338422004                  10   \n",
              "2                  2999                  0   261286503                  60   \n",
              "3                 17050                 36  2665343922                 492   \n",
              "4                  7858                100   800840817                 116   \n",
              "\n",
              "   in_apple_charts in_deezer_playlists  ...  danceability_% valence_%  \\\n",
              "0               12                  38  ...              74        68   \n",
              "1               24                  11  ...              82        50   \n",
              "2               17                 154  ...              96        71   \n",
              "3               99                 798  ...              59        48   \n",
              "4              207                 125  ...              55        58   \n",
              "\n",
              "   energy_% acousticness_% instrumentalness_%  liveness_%  speechiness_%  \\\n",
              "0        68              3                  0          26              4   \n",
              "1        67             12                  0          13              5   \n",
              "2        42             57                  0           8              9   \n",
              "3        76              4                  0          10              5   \n",
              "4        72             11                  0          11             15   \n",
              "\n",
              "               artist_id1              artist_id2  artist_id3  \n",
              "0  74KM79TiuVKeVCqs8QtB0B                    None        None  \n",
              "1  4q3ewBCX7sLwd24euuV69X                    None        None  \n",
              "2  75VKfyoBlkmrJFDqo1o2VY  6eUKZXaKkcviH0Ku9w2n3V        None  \n",
              "3  2tIP7SsRs7vjIcLrU85W8J  1uNFoZAHBGtllmzznpCI3s        None  \n",
              "4  06HL4z0CvFAxyc27GXpf02                    None        None  \n",
              "\n",
              "[5 rows x 25 columns]"
            ],
            "text/html": [
              "\n",
              "  <div id=\"df-7c9e6cbd-d9fa-43d5-af0f-e7eee9d12261\" class=\"colab-df-container\">\n",
              "    <div>\n",
              "<style scoped>\n",
              "    .dataframe tbody tr th:only-of-type {\n",
              "        vertical-align: middle;\n",
              "    }\n",
              "\n",
              "    .dataframe tbody tr th {\n",
              "        vertical-align: top;\n",
              "    }\n",
              "\n",
              "    .dataframe thead th {\n",
              "        text-align: right;\n",
              "    }\n",
              "</style>\n",
              "<table border=\"1\" class=\"dataframe\">\n",
              "  <thead>\n",
              "    <tr style=\"text-align: right;\">\n",
              "      <th></th>\n",
              "      <th>track_id</th>\n",
              "      <th>released_year</th>\n",
              "      <th>released_month</th>\n",
              "      <th>released_day</th>\n",
              "      <th>in_spotify_playlists</th>\n",
              "      <th>in_spotify_charts</th>\n",
              "      <th>streams</th>\n",
              "      <th>in_apple_playlists</th>\n",
              "      <th>in_apple_charts</th>\n",
              "      <th>in_deezer_playlists</th>\n",
              "      <th>...</th>\n",
              "      <th>danceability_%</th>\n",
              "      <th>valence_%</th>\n",
              "      <th>energy_%</th>\n",
              "      <th>acousticness_%</th>\n",
              "      <th>instrumentalness_%</th>\n",
              "      <th>liveness_%</th>\n",
              "      <th>speechiness_%</th>\n",
              "      <th>artist_id1</th>\n",
              "      <th>artist_id2</th>\n",
              "      <th>artist_id3</th>\n",
              "    </tr>\n",
              "  </thead>\n",
              "  <tbody>\n",
              "    <tr>\n",
              "      <th>0</th>\n",
              "      <td>6dgUya35uo964z7GZXM07g</td>\n",
              "      <td>2022</td>\n",
              "      <td>7</td>\n",
              "      <td>15</td>\n",
              "      <td>2346</td>\n",
              "      <td>27</td>\n",
              "      <td>342897938</td>\n",
              "      <td>69</td>\n",
              "      <td>12</td>\n",
              "      <td>38</td>\n",
              "      <td>...</td>\n",
              "      <td>74</td>\n",
              "      <td>68</td>\n",
              "      <td>68</td>\n",
              "      <td>3</td>\n",
              "      <td>0</td>\n",
              "      <td>26</td>\n",
              "      <td>4</td>\n",
              "      <td>74KM79TiuVKeVCqs8QtB0B</td>\n",
              "      <td>None</td>\n",
              "      <td>None</td>\n",
              "    </tr>\n",
              "    <tr>\n",
              "      <th>1</th>\n",
              "      <td>4d4ZXH4dr5bYfgErHiZCX2</td>\n",
              "      <td>2022</td>\n",
              "      <td>5</td>\n",
              "      <td>6</td>\n",
              "      <td>892</td>\n",
              "      <td>3</td>\n",
              "      <td>338422004</td>\n",
              "      <td>10</td>\n",
              "      <td>24</td>\n",
              "      <td>11</td>\n",
              "      <td>...</td>\n",
              "      <td>82</td>\n",
              "      <td>50</td>\n",
              "      <td>67</td>\n",
              "      <td>12</td>\n",
              "      <td>0</td>\n",
              "      <td>13</td>\n",
              "      <td>5</td>\n",
              "      <td>4q3ewBCX7sLwd24euuV69X</td>\n",
              "      <td>None</td>\n",
              "      <td>None</td>\n",
              "    </tr>\n",
              "    <tr>\n",
              "      <th>2</th>\n",
              "      <td>4vb777iaycnlFxVkJMmtfd</td>\n",
              "      <td>2021</td>\n",
              "      <td>12</td>\n",
              "      <td>23</td>\n",
              "      <td>2999</td>\n",
              "      <td>0</td>\n",
              "      <td>261286503</td>\n",
              "      <td>60</td>\n",
              "      <td>17</td>\n",
              "      <td>154</td>\n",
              "      <td>...</td>\n",
              "      <td>96</td>\n",
              "      <td>71</td>\n",
              "      <td>42</td>\n",
              "      <td>57</td>\n",
              "      <td>0</td>\n",
              "      <td>8</td>\n",
              "      <td>9</td>\n",
              "      <td>75VKfyoBlkmrJFDqo1o2VY</td>\n",
              "      <td>6eUKZXaKkcviH0Ku9w2n3V</td>\n",
              "      <td>None</td>\n",
              "    </tr>\n",
              "    <tr>\n",
              "      <th>3</th>\n",
              "      <td>5HCyWlXZPP0y6Gqq8TgA20</td>\n",
              "      <td>2021</td>\n",
              "      <td>7</td>\n",
              "      <td>9</td>\n",
              "      <td>17050</td>\n",
              "      <td>36</td>\n",
              "      <td>2665343922</td>\n",
              "      <td>492</td>\n",
              "      <td>99</td>\n",
              "      <td>798</td>\n",
              "      <td>...</td>\n",
              "      <td>59</td>\n",
              "      <td>48</td>\n",
              "      <td>76</td>\n",
              "      <td>4</td>\n",
              "      <td>0</td>\n",
              "      <td>10</td>\n",
              "      <td>5</td>\n",
              "      <td>2tIP7SsRs7vjIcLrU85W8J</td>\n",
              "      <td>1uNFoZAHBGtllmzznpCI3s</td>\n",
              "      <td>None</td>\n",
              "    </tr>\n",
              "    <tr>\n",
              "      <th>4</th>\n",
              "      <td>1BxfuPKGuaTgP7aM0Bbdwr</td>\n",
              "      <td>2019</td>\n",
              "      <td>8</td>\n",
              "      <td>23</td>\n",
              "      <td>7858</td>\n",
              "      <td>100</td>\n",
              "      <td>800840817</td>\n",
              "      <td>116</td>\n",
              "      <td>207</td>\n",
              "      <td>125</td>\n",
              "      <td>...</td>\n",
              "      <td>55</td>\n",
              "      <td>58</td>\n",
              "      <td>72</td>\n",
              "      <td>11</td>\n",
              "      <td>0</td>\n",
              "      <td>11</td>\n",
              "      <td>15</td>\n",
              "      <td>06HL4z0CvFAxyc27GXpf02</td>\n",
              "      <td>None</td>\n",
              "      <td>None</td>\n",
              "    </tr>\n",
              "  </tbody>\n",
              "</table>\n",
              "<p>5 rows × 25 columns</p>\n",
              "</div>\n",
              "    <div class=\"colab-df-buttons\">\n",
              "\n",
              "  <div class=\"colab-df-container\">\n",
              "    <button class=\"colab-df-convert\" onclick=\"convertToInteractive('df-7c9e6cbd-d9fa-43d5-af0f-e7eee9d12261')\"\n",
              "            title=\"Convert this dataframe to an interactive table.\"\n",
              "            style=\"display:none;\">\n",
              "\n",
              "  <svg xmlns=\"http://www.w3.org/2000/svg\" height=\"24px\" viewBox=\"0 -960 960 960\">\n",
              "    <path d=\"M120-120v-720h720v720H120Zm60-500h600v-160H180v160Zm220 220h160v-160H400v160Zm0 220h160v-160H400v160ZM180-400h160v-160H180v160Zm440 0h160v-160H620v160ZM180-180h160v-160H180v160Zm440 0h160v-160H620v160Z\"/>\n",
              "  </svg>\n",
              "    </button>\n",
              "\n",
              "  <style>\n",
              "    .colab-df-container {\n",
              "      display:flex;\n",
              "      gap: 12px;\n",
              "    }\n",
              "\n",
              "    .colab-df-convert {\n",
              "      background-color: #E8F0FE;\n",
              "      border: none;\n",
              "      border-radius: 50%;\n",
              "      cursor: pointer;\n",
              "      display: none;\n",
              "      fill: #1967D2;\n",
              "      height: 32px;\n",
              "      padding: 0 0 0 0;\n",
              "      width: 32px;\n",
              "    }\n",
              "\n",
              "    .colab-df-convert:hover {\n",
              "      background-color: #E2EBFA;\n",
              "      box-shadow: 0px 1px 2px rgba(60, 64, 67, 0.3), 0px 1px 3px 1px rgba(60, 64, 67, 0.15);\n",
              "      fill: #174EA6;\n",
              "    }\n",
              "\n",
              "    .colab-df-buttons div {\n",
              "      margin-bottom: 4px;\n",
              "    }\n",
              "\n",
              "    [theme=dark] .colab-df-convert {\n",
              "      background-color: #3B4455;\n",
              "      fill: #D2E3FC;\n",
              "    }\n",
              "\n",
              "    [theme=dark] .colab-df-convert:hover {\n",
              "      background-color: #434B5C;\n",
              "      box-shadow: 0px 1px 3px 1px rgba(0, 0, 0, 0.15);\n",
              "      filter: drop-shadow(0px 1px 2px rgba(0, 0, 0, 0.3));\n",
              "      fill: #FFFFFF;\n",
              "    }\n",
              "  </style>\n",
              "\n",
              "    <script>\n",
              "      const buttonEl =\n",
              "        document.querySelector('#df-7c9e6cbd-d9fa-43d5-af0f-e7eee9d12261 button.colab-df-convert');\n",
              "      buttonEl.style.display =\n",
              "        google.colab.kernel.accessAllowed ? 'block' : 'none';\n",
              "\n",
              "      async function convertToInteractive(key) {\n",
              "        const element = document.querySelector('#df-7c9e6cbd-d9fa-43d5-af0f-e7eee9d12261');\n",
              "        const dataTable =\n",
              "          await google.colab.kernel.invokeFunction('convertToInteractive',\n",
              "                                                    [key], {});\n",
              "        if (!dataTable) return;\n",
              "\n",
              "        const docLinkHtml = 'Like what you see? Visit the ' +\n",
              "          '<a target=\"_blank\" href=https://colab.research.google.com/notebooks/data_table.ipynb>data table notebook</a>'\n",
              "          + ' to learn more about interactive tables.';\n",
              "        element.innerHTML = '';\n",
              "        dataTable['output_type'] = 'display_data';\n",
              "        await google.colab.output.renderOutput(dataTable, element);\n",
              "        const docLink = document.createElement('div');\n",
              "        docLink.innerHTML = docLinkHtml;\n",
              "        element.appendChild(docLink);\n",
              "      }\n",
              "    </script>\n",
              "  </div>\n",
              "\n",
              "\n",
              "<div id=\"df-2235dbb2-324f-45a1-b0bb-0b1d96d7f547\">\n",
              "  <button class=\"colab-df-quickchart\" onclick=\"quickchart('df-2235dbb2-324f-45a1-b0bb-0b1d96d7f547')\"\n",
              "            title=\"Suggest charts\"\n",
              "            style=\"display:none;\">\n",
              "\n",
              "<svg xmlns=\"http://www.w3.org/2000/svg\" height=\"24px\"viewBox=\"0 0 24 24\"\n",
              "     width=\"24px\">\n",
              "    <g>\n",
              "        <path d=\"M19 3H5c-1.1 0-2 .9-2 2v14c0 1.1.9 2 2 2h14c1.1 0 2-.9 2-2V5c0-1.1-.9-2-2-2zM9 17H7v-7h2v7zm4 0h-2V7h2v10zm4 0h-2v-4h2v4z\"/>\n",
              "    </g>\n",
              "</svg>\n",
              "  </button>\n",
              "\n",
              "<style>\n",
              "  .colab-df-quickchart {\n",
              "      --bg-color: #E8F0FE;\n",
              "      --fill-color: #1967D2;\n",
              "      --hover-bg-color: #E2EBFA;\n",
              "      --hover-fill-color: #174EA6;\n",
              "      --disabled-fill-color: #AAA;\n",
              "      --disabled-bg-color: #DDD;\n",
              "  }\n",
              "\n",
              "  [theme=dark] .colab-df-quickchart {\n",
              "      --bg-color: #3B4455;\n",
              "      --fill-color: #D2E3FC;\n",
              "      --hover-bg-color: #434B5C;\n",
              "      --hover-fill-color: #FFFFFF;\n",
              "      --disabled-bg-color: #3B4455;\n",
              "      --disabled-fill-color: #666;\n",
              "  }\n",
              "\n",
              "  .colab-df-quickchart {\n",
              "    background-color: var(--bg-color);\n",
              "    border: none;\n",
              "    border-radius: 50%;\n",
              "    cursor: pointer;\n",
              "    display: none;\n",
              "    fill: var(--fill-color);\n",
              "    height: 32px;\n",
              "    padding: 0;\n",
              "    width: 32px;\n",
              "  }\n",
              "\n",
              "  .colab-df-quickchart:hover {\n",
              "    background-color: var(--hover-bg-color);\n",
              "    box-shadow: 0 1px 2px rgba(60, 64, 67, 0.3), 0 1px 3px 1px rgba(60, 64, 67, 0.15);\n",
              "    fill: var(--button-hover-fill-color);\n",
              "  }\n",
              "\n",
              "  .colab-df-quickchart-complete:disabled,\n",
              "  .colab-df-quickchart-complete:disabled:hover {\n",
              "    background-color: var(--disabled-bg-color);\n",
              "    fill: var(--disabled-fill-color);\n",
              "    box-shadow: none;\n",
              "  }\n",
              "\n",
              "  .colab-df-spinner {\n",
              "    border: 2px solid var(--fill-color);\n",
              "    border-color: transparent;\n",
              "    border-bottom-color: var(--fill-color);\n",
              "    animation:\n",
              "      spin 1s steps(1) infinite;\n",
              "  }\n",
              "\n",
              "  @keyframes spin {\n",
              "    0% {\n",
              "      border-color: transparent;\n",
              "      border-bottom-color: var(--fill-color);\n",
              "      border-left-color: var(--fill-color);\n",
              "    }\n",
              "    20% {\n",
              "      border-color: transparent;\n",
              "      border-left-color: var(--fill-color);\n",
              "      border-top-color: var(--fill-color);\n",
              "    }\n",
              "    30% {\n",
              "      border-color: transparent;\n",
              "      border-left-color: var(--fill-color);\n",
              "      border-top-color: var(--fill-color);\n",
              "      border-right-color: var(--fill-color);\n",
              "    }\n",
              "    40% {\n",
              "      border-color: transparent;\n",
              "      border-right-color: var(--fill-color);\n",
              "      border-top-color: var(--fill-color);\n",
              "    }\n",
              "    60% {\n",
              "      border-color: transparent;\n",
              "      border-right-color: var(--fill-color);\n",
              "    }\n",
              "    80% {\n",
              "      border-color: transparent;\n",
              "      border-right-color: var(--fill-color);\n",
              "      border-bottom-color: var(--fill-color);\n",
              "    }\n",
              "    90% {\n",
              "      border-color: transparent;\n",
              "      border-bottom-color: var(--fill-color);\n",
              "    }\n",
              "  }\n",
              "</style>\n",
              "\n",
              "  <script>\n",
              "    async function quickchart(key) {\n",
              "      const quickchartButtonEl =\n",
              "        document.querySelector('#' + key + ' button');\n",
              "      quickchartButtonEl.disabled = true;  // To prevent multiple clicks.\n",
              "      quickchartButtonEl.classList.add('colab-df-spinner');\n",
              "      try {\n",
              "        const charts = await google.colab.kernel.invokeFunction(\n",
              "            'suggestCharts', [key], {});\n",
              "      } catch (error) {\n",
              "        console.error('Error during call to suggestCharts:', error);\n",
              "      }\n",
              "      quickchartButtonEl.classList.remove('colab-df-spinner');\n",
              "      quickchartButtonEl.classList.add('colab-df-quickchart-complete');\n",
              "    }\n",
              "    (() => {\n",
              "      let quickchartButtonEl =\n",
              "        document.querySelector('#df-2235dbb2-324f-45a1-b0bb-0b1d96d7f547 button');\n",
              "      quickchartButtonEl.style.display =\n",
              "        google.colab.kernel.accessAllowed ? 'block' : 'none';\n",
              "    })();\n",
              "  </script>\n",
              "</div>\n",
              "    </div>\n",
              "  </div>\n"
            ]
          },
          "metadata": {},
          "execution_count": 53
        }
      ]
    },
    {
      "cell_type": "code",
      "source": [
        "# Creating a new file name\n",
        "my_files.append('split_artists_csv.csv')\n",
        "\n",
        "df.to_csv(file_path(my_files[-1]), index=False)\n"
      ],
      "metadata": {
        "id": "bQKr_IoLXKLs"
      },
      "execution_count": null,
      "outputs": []
    },
    {
      "cell_type": "markdown",
      "source": [
        "Before connecting to the API I will check for duplicate tracks."
      ],
      "metadata": {
        "id": "n-Sxz4oYGMBd"
      }
    },
    {
      "cell_type": "code",
      "source": [
        "# Findind the tracks that appear more than once\n",
        "duplicate_tracks = df.groupby('track_id').filter(lambda x: len(x) > 1)\n",
        "\n",
        "# Ordering the table of the duplicate songs by track_id\n",
        "sorted_duplicates = duplicate_tracks.sort_values('track_id')"
      ],
      "metadata": {
        "id": "i0YyMK0yGVJk"
      },
      "execution_count": null,
      "outputs": []
    },
    {
      "cell_type": "code",
      "source": [
        "print(\"There are \", len(sorted_duplicates), \"duplicate tracks\")"
      ],
      "metadata": {
        "colab": {
          "base_uri": "https://localhost:8080/"
        },
        "id": "zea0REYeGbRp",
        "outputId": "06baf5c1-e29d-4431-b91e-66e96684be18"
      },
      "execution_count": null,
      "outputs": [
        {
          "output_type": "stream",
          "name": "stdout",
          "text": [
            "There are  24 duplicate tracks\n"
          ]
        }
      ]
    },
    {
      "cell_type": "markdown",
      "source": [
        "Note that we are talking about 12 tracks repeated twice!"
      ],
      "metadata": {
        "id": "P04x2f60bqU1"
      }
    },
    {
      "cell_type": "markdown",
      "source": [
        "."
      ],
      "metadata": {
        "id": "KrkTBEiaWhGi"
      }
    },
    {
      "cell_type": "code",
      "source": [
        "# Checking these duplicate tracks by taking a sample and transposing it to the left\n",
        "\n",
        "sample_duplicates = sorted_duplicates.iloc[0:8]\n",
        "\n",
        "print(sample_duplicates.T)"
      ],
      "metadata": {
        "colab": {
          "base_uri": "https://localhost:8080/"
        },
        "id": "pAezFUDZG8fz",
        "outputId": "71d31bd0-64b0-43ea-c0d6-359320e4449b"
      },
      "execution_count": null,
      "outputs": [
        {
          "output_type": "stream",
          "name": "stdout",
          "text": [
            "                                         53                      815  \\\n",
            "track_id              1N8TTK1Uoy7UvQNUazfUt5  1N8TTK1Uoy7UvQNUazfUt5   \n",
            "released_year                           2022                    2022   \n",
            "released_month                            10                      10   \n",
            "released_day                              31                      31   \n",
            "in_spotify_playlists                     573                     629   \n",
            "in_spotify_charts                          0                      14   \n",
            "streams                            301869854               303216294   \n",
            "in_apple_playlists                         1                      32   \n",
            "in_apple_charts                            0                       3   \n",
            "in_deezer_playlists                       18                       9   \n",
            "in_deezer_charts                           0                       0   \n",
            "in_shazam_charts                          24                       0   \n",
            "bpm                                      166                      94   \n",
            "key                                       C#                      G#   \n",
            "mode                                   Major                   Major   \n",
            "danceability_%                            70                      73   \n",
            "valence_%                                 57                      65   \n",
            "energy_%                                  57                      79   \n",
            "acousticness_%                             9                       5   \n",
            "instrumentalness_%                        20                       2   \n",
            "liveness_%                                11                      11   \n",
            "speechiness_%                              7                       6   \n",
            "artist_id1            4MvZhE1iuzttcoyepkpfdF  4MvZhE1iuzttcoyepkpfdF   \n",
            "artist_id2                              None                    None   \n",
            "artist_id3                              None                    None   \n",
            "\n",
            "                                         634                     570  \\\n",
            "track_id              1PckUlxKqWQs3RlWXVBLw3  1PckUlxKqWQs3RlWXVBLw3   \n",
            "released_year                           2022                    2022   \n",
            "released_month                             4                       7   \n",
            "released_day                              14                      15   \n",
            "in_spotify_playlists                    9021                    2332   \n",
            "in_spotify_charts                          0                       2   \n",
            "streams                            723894473               723894473   \n",
            "in_apple_playlists                       242                       0   \n",
            "in_apple_charts                           49                       0   \n",
            "in_deezer_playlists                      272                      25   \n",
            "in_deezer_charts                          21                       0   \n",
            "in_shazam_charts                          24                       0   \n",
            "bpm                                      109                     109   \n",
            "key                                       A#                      A#   \n",
            "mode                                   Minor                   Minor   \n",
            "danceability_%                            84                      84   \n",
            "valence_%                                 72                      72   \n",
            "energy_%                                  74                      74   \n",
            "acousticness_%                            10                      10   \n",
            "instrumentalness_%                         0                       0   \n",
            "liveness_%                                34                      34   \n",
            "speechiness_%                              7                       7   \n",
            "artist_id1            56oDRnqbIiwx4mymNEv7dS  56oDRnqbIiwx4mymNEv7dS   \n",
            "artist_id2                              None                    None   \n",
            "artist_id3                              None                    None   \n",
            "\n",
            "                                         689                     601  \\\n",
            "track_id              1Y3LN4zO1Edc2EluIoSPJN  1Y3LN4zO1Edc2EluIoSPJN   \n",
            "released_year                           2022                    2021   \n",
            "released_month                             4                       9   \n",
            "released_day                              22                       1   \n",
            "in_spotify_playlists                    2790                    4427   \n",
            "in_spotify_charts                         30                       4   \n",
            "streams                            600976848               726434358   \n",
            "in_apple_playlists                        60                      69   \n",
            "in_apple_charts                           96                     100   \n",
            "in_deezer_playlists                       71                     154   \n",
            "in_deezer_charts                           0                      20   \n",
            "in_shazam_charts                         115                     438   \n",
            "bpm                                      101                     202   \n",
            "key                                       A#                      A#   \n",
            "mode                                   Major                   Major   \n",
            "danceability_%                            34                      34   \n",
            "valence_%                                 32                      25   \n",
            "energy_%                                  57                      51   \n",
            "acousticness_%                            78                      69   \n",
            "instrumentalness_%                         0                       0   \n",
            "liveness_%                                20                      18   \n",
            "speechiness_%                              3                       4   \n",
            "artist_id1            5XKFrudbV4IiuE5WuTPRmT  5XKFrudbV4IiuE5WuTPRmT   \n",
            "artist_id2            7o2ZQYM7nTsaVdkXY38UAA  7o2ZQYM7nTsaVdkXY38UAA   \n",
            "artist_id3                              None                    None   \n",
            "\n",
            "                                         28                      823  \n",
            "track_id              2UW7JaomAMuX9pZrjVpHAU  2UW7JaomAMuX9pZrjVpHAU  \n",
            "released_year                           2023                    2021  \n",
            "released_month                             3                      12  \n",
            "released_day                              17                      24  \n",
            "in_spotify_playlists                    2953                     489  \n",
            "in_spotify_charts                         44                      17  \n",
            "streams                            553634067               191945597  \n",
            "in_apple_playlists                        49                       4  \n",
            "in_apple_charts                          110                      11  \n",
            "in_deezer_playlists                       66                       5  \n",
            "in_deezer_charts                          13                       1  \n",
            "in_shazam_charts                         339                       2  \n",
            "bpm                                      170                     170  \n",
            "key                                        D                       D  \n",
            "mode                                   Minor                   Minor  \n",
            "danceability_%                            81                      78  \n",
            "valence_%                                 56                      75  \n",
            "energy_%                                  48                      46  \n",
            "acousticness_%                            21                      62  \n",
            "instrumentalness_%                         0                       0  \n",
            "liveness_%                                 8                      12  \n",
            "speechiness_%                             33                      35  \n",
            "artist_id1            1NNRWkhwmcXRimFYSBpB1y  1NNRWkhwmcXRimFYSBpB1y  \n",
            "artist_id2            12GqGscKJx3aE4t07u7eVZ  12GqGscKJx3aE4t07u7eVZ  \n",
            "artist_id3                              None                    None  \n"
          ]
        }
      ]
    },
    {
      "cell_type": "markdown",
      "source": [
        "Based on what I am seeing here I defined a stratedy for handlingh the duplicates based on the column. This could be also done through SQL but in Pandas I have the possibility to make a random selection between values."
      ],
      "metadata": {
        "id": "kJsKf-dGdlde"
      }
    },
    {
      "cell_type": "markdown",
      "source": [
        "It might seem that we are taking a decision too early, not having enough information, but the reasons behind my choice are:\n",
        "\n",
        "- Tracks and Artists IDs are the same in the duplicates. Waiting after the API enrichment is not going to add anything.\n",
        "- The business question is vague and the documentation is basically nonexistent.\n",
        "- We are dealing with 12 traks. A small difference in parameters like 'valence_% ' is not going to mess with our analysis anyway."
      ],
      "metadata": {
        "id": "6PbMwk0ecEBm"
      }
    },
    {
      "cell_type": "markdown",
      "source": [
        "The strategy is to get the oldest year, the relative month and date, the max value for certain columns and the mean value for others. You can see the full list by looking at the aggregation formula beneath."
      ],
      "metadata": {
        "id": "-JFI-KwIcM0S"
      }
    },
    {
      "cell_type": "code",
      "source": [
        "# Function to return random choice between values\n",
        "def random_choice(series):\n",
        "    unique_values = series.dropna().unique()\n",
        "    if unique_values.size > 0:\n",
        "        return np.random.choice(unique_values)\n",
        "    else:\n",
        "        return None\n",
        "\n",
        "# Custom aggregation function\n",
        "def mean_if_no_zero(series):\n",
        "    if series.eq(0).all():  # Check if all values are zero\n",
        "        return 0  # Return 0 if all values are zero\n",
        "    elif series.eq(0).any():  # Check if any value is zero\n",
        "        return series.max()  # Return max if there's any zero\n",
        "    else:\n",
        "        return series.mean()  # Return mean otherwise\n",
        "\n",
        "# Aggregation dictionary with strategy by column\n",
        "aggregation = {\n",
        "    'released_year': 'min',\n",
        "    'in_spotify_playlists': 'max',\n",
        "    'in_spotify_charts': 'max',\n",
        "    'streams': 'max',\n",
        "    'in_apple_playlists': 'max',\n",
        "    'in_apple_charts': 'max',\n",
        "    'in_deezer_playlists': 'max',\n",
        "    'in_deezer_charts': 'max',\n",
        "    'in_shazam_charts': 'max',\n",
        "    'bpm': mean_if_no_zero,\n",
        "    'danceability_%': mean_if_no_zero,\n",
        "    'valence_%': mean_if_no_zero,\n",
        "    'energy_%': mean_if_no_zero,\n",
        "    'acousticness_%': mean_if_no_zero,\n",
        "    'instrumentalness_%': mean_if_no_zero,\n",
        "    'liveness_%': mean_if_no_zero,\n",
        "    'speechiness_%': mean_if_no_zero,\n",
        "    'key': random_choice,\n",
        "    'mode': random_choice,\n",
        "    'artist_id1': 'first',\n",
        "    'artist_id2': 'first',\n",
        "    'artist_id3': 'first'\n",
        "}\n",
        "\n",
        "# Aggregating data\n",
        "df_aggregated = df.groupby('track_id').agg(aggregation).reset_index()\n",
        "\n",
        "# Function to get month and day for the min year\n",
        "def get_month_day(row):\n",
        "    min_year = df[df['track_id'] == row['track_id']]['released_year'].min()\n",
        "    month_day = df[(df['track_id'] == row['track_id']) & (df['released_year'] == min_year)][['released_month', 'released_day']].iloc[0]\n",
        "    return pd.Series([month_day['released_month'], month_day['released_day']])\n",
        "\n",
        "# Applying the function to get the month and day for the min year\n",
        "df_aggregated[['released_month', 'released_day']] = df_aggregated.apply(get_month_day, axis=1)"
      ],
      "metadata": {
        "id": "YZ_bPWv0du2b"
      },
      "execution_count": null,
      "outputs": []
    },
    {
      "cell_type": "code",
      "source": [
        "df_aggregated.info()"
      ],
      "metadata": {
        "colab": {
          "base_uri": "https://localhost:8080/"
        },
        "id": "1A3L-gOQJ8CU",
        "outputId": "b49f27a4-4e07-4a32-dccb-5b3311d86ff0"
      },
      "execution_count": null,
      "outputs": [
        {
          "output_type": "stream",
          "name": "stdout",
          "text": [
            "<class 'pandas.core.frame.DataFrame'>\n",
            "RangeIndex: 814 entries, 0 to 813\n",
            "Data columns (total 25 columns):\n",
            " #   Column                Non-Null Count  Dtype  \n",
            "---  ------                --------------  -----  \n",
            " 0   track_id              814 non-null    object \n",
            " 1   released_year         814 non-null    int64  \n",
            " 2   in_spotify_playlists  814 non-null    int64  \n",
            " 3   in_spotify_charts     814 non-null    int64  \n",
            " 4   streams               814 non-null    object \n",
            " 5   in_apple_playlists    814 non-null    int64  \n",
            " 6   in_apple_charts       814 non-null    int64  \n",
            " 7   in_deezer_playlists   814 non-null    object \n",
            " 8   in_deezer_charts      814 non-null    int64  \n",
            " 9   in_shazam_charts      768 non-null    object \n",
            " 10  bpm                   814 non-null    float64\n",
            " 11  danceability_%        814 non-null    float64\n",
            " 12  valence_%             814 non-null    float64\n",
            " 13  energy_%              814 non-null    float64\n",
            " 14  acousticness_%        814 non-null    float64\n",
            " 15  instrumentalness_%    814 non-null    float64\n",
            " 16  liveness_%            814 non-null    float64\n",
            " 17  speechiness_%         814 non-null    float64\n",
            " 18  key                   728 non-null    object \n",
            " 19  mode                  814 non-null    object \n",
            " 20  artist_id1            814 non-null    object \n",
            " 21  artist_id2            309 non-null    object \n",
            " 22  artist_id3            91 non-null     object \n",
            " 23  released_month        814 non-null    int64  \n",
            " 24  released_day          814 non-null    int64  \n",
            "dtypes: float64(8), int64(8), object(9)\n",
            "memory usage: 159.1+ KB\n"
          ]
        }
      ]
    },
    {
      "cell_type": "code",
      "source": [
        "df = df_aggregated"
      ],
      "metadata": {
        "id": "51ob55YSOtSE"
      },
      "execution_count": null,
      "outputs": []
    },
    {
      "cell_type": "code",
      "source": [
        "print('After removing the duplicates, the df has ', len(df), ' lines.')"
      ],
      "metadata": {
        "colab": {
          "base_uri": "https://localhost:8080/"
        },
        "id": "tNhHMKdogJ3x",
        "outputId": "92c40c80-e014-436b-8647-3feda8acdafa"
      },
      "execution_count": null,
      "outputs": [
        {
          "output_type": "stream",
          "name": "stdout",
          "text": [
            "After removing the duplicates, the df has  814  lines.\n"
          ]
        }
      ]
    },
    {
      "cell_type": "markdown",
      "source": [
        "."
      ],
      "metadata": {
        "id": "KZKVzm4ZpQdy"
      }
    },
    {
      "cell_type": "markdown",
      "source": [
        "Everything seems alright so now it's time to connect to the API.\n",
        "\n",
        "I put the credentials into a JSON file in my drive because it's good practice not to put them directly into the code."
      ],
      "metadata": {
        "id": "VvOWKktAWj3y"
      }
    },
    {
      "cell_type": "code",
      "source": [
        "# Adding the new file name for credentials\n",
        "my_files.append('credential_spotify.json')\n",
        "\n",
        "# Path to the credentials file on Google Drive\n",
        "credentials_path = file_path(my_files[-1])\n",
        "\n",
        "# Loading the credentials\n",
        "with open(credentials_path, 'r') as file:\n",
        "    credentials = json.load(file)\n",
        "\n",
        "client_id = credentials['CLIENT_ID']\n",
        "client_secret = credentials['CLIENT_SECRET']\n"
      ],
      "metadata": {
        "id": "E9YQNm_GXkQt"
      },
      "execution_count": null,
      "outputs": []
    },
    {
      "cell_type": "code",
      "source": [
        "# Authentication with Spotify API\n",
        "client_credentials_manager = SpotifyClientCredentials(client_id=client_id, client_secret=client_secret)\n",
        "sp = spotipy.Spotify(client_credentials_manager=client_credentials_manager)"
      ],
      "metadata": {
        "id": "4afleVY208zK"
      },
      "execution_count": null,
      "outputs": []
    },
    {
      "cell_type": "markdown",
      "source": [
        "."
      ],
      "metadata": {
        "id": "kKmIBfj8dKvb"
      }
    },
    {
      "cell_type": "markdown",
      "source": [
        "We are going to use multiple strategies to prevent an overuse of the API:\n",
        "\n",
        "- Collecting data in batches of 50 (I checked the Spotify documentation and it is the maximum number for batches).\n",
        "- Placing a Sleep time to avoid hitting rate limits.\n",
        "- Creating a break so that we don't need to call the API again for every time that we refresh the whole notebook. We just need one call."
      ],
      "metadata": {
        "id": "tpdHppAhdMNQ"
      }
    },
    {
      "cell_type": "code",
      "source": [
        "# Function to process IDs in batches\n",
        "def process_in_batches(ids, batch_size, fetch_function):\n",
        "    results = {}\n",
        "    for i in range(0, len(ids), batch_size):\n",
        "        batch_ids = ids[i:i + batch_size]\n",
        "        try:\n",
        "            batch_results = fetch_function(batch_ids)\n",
        "            results.update(batch_results)\n",
        "            time.sleep(0.5)  # Sleep to avoid hitting rate limits\n",
        "        except Exception as e:\n",
        "            print(\"Error occurred:\", e)\n",
        "            time.sleep(1)  # Longer sleep on error\n",
        "    return results\n",
        "\n",
        "# Function to fetch song names for a batch of track IDs\n",
        "def fetch_song_names(batch_ids):\n",
        "    tracks_info = sp.tracks(batch_ids)\n",
        "    return {track['id']: track['name'] for track in tracks_info['tracks']}\n",
        "\n",
        "# Function to fetch artist names for a batch of artist IDs\n",
        "def fetch_artist_names(batch_ids):\n",
        "    artists_info = sp.artists(batch_ids)\n",
        "    return {artist['id']: artist['name'] for artist in artists_info['artists']}\n",
        "\n"
      ],
      "metadata": {
        "id": "DEfUjXMMk7pr"
      },
      "execution_count": null,
      "outputs": []
    },
    {
      "cell_type": "code",
      "source": [
        "# Creating a break not to call the API multiple times. The break will be the existence of this file.\n",
        "\n",
        "df_plus_api = 'enriched_df.csv'"
      ],
      "metadata": {
        "id": "9EckxFovvpHY"
      },
      "execution_count": null,
      "outputs": []
    },
    {
      "cell_type": "code",
      "source": [
        " # Checking if the resulting file already exists, so that I will not call the API repeatedly when refreshing my notebook\n",
        "if not os.path.exists(file_path(df_plus_api)):\n",
        "\n",
        "    # Get unique track and artist IDs from the DataFrame\n",
        "    unique_track_ids = df['track_id'].dropna().unique().tolist()\n",
        "    unique_artist_ids = pd.concat([df['artist_id1'], df['artist_id2'], df['artist_id3']]).dropna().unique().tolist()\n",
        "\n",
        "    # Fetch song and artist names in batches\n",
        "    song_names = process_in_batches(unique_track_ids, 50, fetch_song_names)\n",
        "    artist_names = process_in_batches(unique_artist_ids, 50, fetch_artist_names)\n",
        "\n",
        "    # Map the results back to the DataFrame\n",
        "    df['song_name'] = df['track_id'].map(song_names)\n",
        "    df['artist_name1'] = df['artist_id1'].map(artist_names)\n",
        "    df['artist_name2'] = df['artist_id2'].map(artist_names)\n",
        "    df['artist_name3'] = df['artist_id3'].map(artist_names)\n",
        "\n",
        "    # Save song_names dictionary to a JSON file\n",
        "    my_files.append('song_names.json')\n",
        "    with open(file_path(my_files[-1]), 'w', encoding='utf-8') as file:\n",
        "        json.dump(song_names, file, ensure_ascii=False, indent=4)\n",
        "\n",
        "    # Save artist_names dictionary to a JSON file\n",
        "    my_files.append('artist_names.json')\n",
        "    with open(file_path(my_files[-1]), 'w', encoding='utf-8') as file:\n",
        "        json.dump(artist_names, file, ensure_ascii=False, indent=4)\n",
        "\n",
        "    # Creating the new filename for enriched df\n",
        "    my_files.append(df_plus_api)\n",
        "\n",
        "    # Saving the new enriched DF on a CSV for backup\n",
        "    df.to_csv(file_path(my_files[-1]), index=False)\n",
        "\n",
        "    print(\"The data was loaded from the API\")\n",
        "\n",
        "else:\n",
        "    df = pd.read_csv(file_path(df_plus_api))\n",
        "    print(\"Instead of calling the API again, data is loaded from enriched CSV\")"
      ],
      "metadata": {
        "colab": {
          "base_uri": "https://localhost:8080/"
        },
        "id": "PfT-arG7vWiT",
        "outputId": "564904aa-53a3-47eb-b300-4023e7c4e3b2"
      },
      "execution_count": null,
      "outputs": [
        {
          "output_type": "stream",
          "name": "stdout",
          "text": [
            "Instead of calling the API again, data is loaded from enriched CSV\n"
          ]
        }
      ]
    },
    {
      "cell_type": "markdown",
      "source": [
        "."
      ],
      "metadata": {
        "id": "zrPCMt4Cpuvi"
      }
    },
    {
      "cell_type": "markdown",
      "source": [
        "."
      ],
      "metadata": {
        "id": "o49Hgq-Apv8C"
      }
    },
    {
      "cell_type": "code",
      "source": [
        "df.head(5)"
      ],
      "metadata": {
        "colab": {
          "base_uri": "https://localhost:8080/",
          "height": 359
        },
        "id": "24-pGWPB2n7e",
        "outputId": "5f0496f8-66d6-4561-ef4b-1511ea233145"
      },
      "execution_count": null,
      "outputs": [
        {
          "output_type": "execute_result",
          "data": {
            "text/plain": [
              "                 track_id  released_year  in_spotify_playlists  \\\n",
              "0  003vvx7Niy0yvhvHt4a68B           2003                 51979   \n",
              "1  00Blm7zeNqgYLPtW6zg8cj           2021                  4771   \n",
              "2  02VBYrHfVwfEWXk5DXyf0T           2021                 14417   \n",
              "3  03fs6oV5JAlbytRYf3371S           2023                   579   \n",
              "4  04ndZkbKGthTgYSv3xS7en           2023                  1240   \n",
              "\n",
              "   in_spotify_charts     streams  in_apple_playlists  in_apple_charts  \\\n",
              "0                 15  1806617704                 306               99   \n",
              "1                  0   539595276                  68               18   \n",
              "2                  0  1115880852                 237              123   \n",
              "3                  0    95623148                  11               54   \n",
              "4                 24   217672943                  51               29   \n",
              "\n",
              "  in_deezer_playlists  in_deezer_charts in_shazam_charts  ...   mode  \\\n",
              "0               5,063                 2              120  ...  Major   \n",
              "1                  75                 0                1  ...  Major   \n",
              "2                 569                 0               10  ...  Major   \n",
              "3                   0                 0              103  ...  Major   \n",
              "4                  63                 4               54  ...  Major   \n",
              "\n",
              "               artist_id1              artist_id2              artist_id3  \\\n",
              "0  0C0XlULifJtAgn6ZNCW2eu                     NaN                     NaN   \n",
              "1  246dkjvS1zLTtiykXe5h60  1Xyo4u8uXC1ZmMpatF05PJ                     NaN   \n",
              "2  0du5cEVh5yTK9QJze8zA0C  3jK9MiCrA42lLAdMGUZpwa  6PvvGcCY2XtUcSRld1Wilr   \n",
              "3  4oUHIQIBe0LHzYfvXNW4QM                     NaN                     NaN   \n",
              "4  7vXDAI8JwjW531ouMGbfcp                     NaN                     NaN   \n",
              "\n",
              "   released_month  released_day                        song_name  \\\n",
              "0               9            23                   Mr. Brightside   \n",
              "1              11             5  One Right Now (with The Weeknd)   \n",
              "2               3             5              Leave The Door Open   \n",
              "3               1            31                Everything I Love   \n",
              "4               2            14                           Cupido   \n",
              "\n",
              "    artist_name1    artist_name2 artist_name3  \n",
              "0    The Killers             NaN          NaN  \n",
              "1    Post Malone      The Weeknd          NaN  \n",
              "2     Bruno Mars  Anderson .Paak   Silk Sonic  \n",
              "3  Morgan Wallen             NaN          NaN  \n",
              "4           TINI             NaN          NaN  \n",
              "\n",
              "[5 rows x 29 columns]"
            ],
            "text/html": [
              "\n",
              "  <div id=\"df-1ecaa78d-f005-4d75-b475-562294347995\" class=\"colab-df-container\">\n",
              "    <div>\n",
              "<style scoped>\n",
              "    .dataframe tbody tr th:only-of-type {\n",
              "        vertical-align: middle;\n",
              "    }\n",
              "\n",
              "    .dataframe tbody tr th {\n",
              "        vertical-align: top;\n",
              "    }\n",
              "\n",
              "    .dataframe thead th {\n",
              "        text-align: right;\n",
              "    }\n",
              "</style>\n",
              "<table border=\"1\" class=\"dataframe\">\n",
              "  <thead>\n",
              "    <tr style=\"text-align: right;\">\n",
              "      <th></th>\n",
              "      <th>track_id</th>\n",
              "      <th>released_year</th>\n",
              "      <th>in_spotify_playlists</th>\n",
              "      <th>in_spotify_charts</th>\n",
              "      <th>streams</th>\n",
              "      <th>in_apple_playlists</th>\n",
              "      <th>in_apple_charts</th>\n",
              "      <th>in_deezer_playlists</th>\n",
              "      <th>in_deezer_charts</th>\n",
              "      <th>in_shazam_charts</th>\n",
              "      <th>...</th>\n",
              "      <th>mode</th>\n",
              "      <th>artist_id1</th>\n",
              "      <th>artist_id2</th>\n",
              "      <th>artist_id3</th>\n",
              "      <th>released_month</th>\n",
              "      <th>released_day</th>\n",
              "      <th>song_name</th>\n",
              "      <th>artist_name1</th>\n",
              "      <th>artist_name2</th>\n",
              "      <th>artist_name3</th>\n",
              "    </tr>\n",
              "  </thead>\n",
              "  <tbody>\n",
              "    <tr>\n",
              "      <th>0</th>\n",
              "      <td>003vvx7Niy0yvhvHt4a68B</td>\n",
              "      <td>2003</td>\n",
              "      <td>51979</td>\n",
              "      <td>15</td>\n",
              "      <td>1806617704</td>\n",
              "      <td>306</td>\n",
              "      <td>99</td>\n",
              "      <td>5,063</td>\n",
              "      <td>2</td>\n",
              "      <td>120</td>\n",
              "      <td>...</td>\n",
              "      <td>Major</td>\n",
              "      <td>0C0XlULifJtAgn6ZNCW2eu</td>\n",
              "      <td>NaN</td>\n",
              "      <td>NaN</td>\n",
              "      <td>9</td>\n",
              "      <td>23</td>\n",
              "      <td>Mr. Brightside</td>\n",
              "      <td>The Killers</td>\n",
              "      <td>NaN</td>\n",
              "      <td>NaN</td>\n",
              "    </tr>\n",
              "    <tr>\n",
              "      <th>1</th>\n",
              "      <td>00Blm7zeNqgYLPtW6zg8cj</td>\n",
              "      <td>2021</td>\n",
              "      <td>4771</td>\n",
              "      <td>0</td>\n",
              "      <td>539595276</td>\n",
              "      <td>68</td>\n",
              "      <td>18</td>\n",
              "      <td>75</td>\n",
              "      <td>0</td>\n",
              "      <td>1</td>\n",
              "      <td>...</td>\n",
              "      <td>Major</td>\n",
              "      <td>246dkjvS1zLTtiykXe5h60</td>\n",
              "      <td>1Xyo4u8uXC1ZmMpatF05PJ</td>\n",
              "      <td>NaN</td>\n",
              "      <td>11</td>\n",
              "      <td>5</td>\n",
              "      <td>One Right Now (with The Weeknd)</td>\n",
              "      <td>Post Malone</td>\n",
              "      <td>The Weeknd</td>\n",
              "      <td>NaN</td>\n",
              "    </tr>\n",
              "    <tr>\n",
              "      <th>2</th>\n",
              "      <td>02VBYrHfVwfEWXk5DXyf0T</td>\n",
              "      <td>2021</td>\n",
              "      <td>14417</td>\n",
              "      <td>0</td>\n",
              "      <td>1115880852</td>\n",
              "      <td>237</td>\n",
              "      <td>123</td>\n",
              "      <td>569</td>\n",
              "      <td>0</td>\n",
              "      <td>10</td>\n",
              "      <td>...</td>\n",
              "      <td>Major</td>\n",
              "      <td>0du5cEVh5yTK9QJze8zA0C</td>\n",
              "      <td>3jK9MiCrA42lLAdMGUZpwa</td>\n",
              "      <td>6PvvGcCY2XtUcSRld1Wilr</td>\n",
              "      <td>3</td>\n",
              "      <td>5</td>\n",
              "      <td>Leave The Door Open</td>\n",
              "      <td>Bruno Mars</td>\n",
              "      <td>Anderson .Paak</td>\n",
              "      <td>Silk Sonic</td>\n",
              "    </tr>\n",
              "    <tr>\n",
              "      <th>3</th>\n",
              "      <td>03fs6oV5JAlbytRYf3371S</td>\n",
              "      <td>2023</td>\n",
              "      <td>579</td>\n",
              "      <td>0</td>\n",
              "      <td>95623148</td>\n",
              "      <td>11</td>\n",
              "      <td>54</td>\n",
              "      <td>0</td>\n",
              "      <td>0</td>\n",
              "      <td>103</td>\n",
              "      <td>...</td>\n",
              "      <td>Major</td>\n",
              "      <td>4oUHIQIBe0LHzYfvXNW4QM</td>\n",
              "      <td>NaN</td>\n",
              "      <td>NaN</td>\n",
              "      <td>1</td>\n",
              "      <td>31</td>\n",
              "      <td>Everything I Love</td>\n",
              "      <td>Morgan Wallen</td>\n",
              "      <td>NaN</td>\n",
              "      <td>NaN</td>\n",
              "    </tr>\n",
              "    <tr>\n",
              "      <th>4</th>\n",
              "      <td>04ndZkbKGthTgYSv3xS7en</td>\n",
              "      <td>2023</td>\n",
              "      <td>1240</td>\n",
              "      <td>24</td>\n",
              "      <td>217672943</td>\n",
              "      <td>51</td>\n",
              "      <td>29</td>\n",
              "      <td>63</td>\n",
              "      <td>4</td>\n",
              "      <td>54</td>\n",
              "      <td>...</td>\n",
              "      <td>Major</td>\n",
              "      <td>7vXDAI8JwjW531ouMGbfcp</td>\n",
              "      <td>NaN</td>\n",
              "      <td>NaN</td>\n",
              "      <td>2</td>\n",
              "      <td>14</td>\n",
              "      <td>Cupido</td>\n",
              "      <td>TINI</td>\n",
              "      <td>NaN</td>\n",
              "      <td>NaN</td>\n",
              "    </tr>\n",
              "  </tbody>\n",
              "</table>\n",
              "<p>5 rows × 29 columns</p>\n",
              "</div>\n",
              "    <div class=\"colab-df-buttons\">\n",
              "\n",
              "  <div class=\"colab-df-container\">\n",
              "    <button class=\"colab-df-convert\" onclick=\"convertToInteractive('df-1ecaa78d-f005-4d75-b475-562294347995')\"\n",
              "            title=\"Convert this dataframe to an interactive table.\"\n",
              "            style=\"display:none;\">\n",
              "\n",
              "  <svg xmlns=\"http://www.w3.org/2000/svg\" height=\"24px\" viewBox=\"0 -960 960 960\">\n",
              "    <path d=\"M120-120v-720h720v720H120Zm60-500h600v-160H180v160Zm220 220h160v-160H400v160Zm0 220h160v-160H400v160ZM180-400h160v-160H180v160Zm440 0h160v-160H620v160ZM180-180h160v-160H180v160Zm440 0h160v-160H620v160Z\"/>\n",
              "  </svg>\n",
              "    </button>\n",
              "\n",
              "  <style>\n",
              "    .colab-df-container {\n",
              "      display:flex;\n",
              "      gap: 12px;\n",
              "    }\n",
              "\n",
              "    .colab-df-convert {\n",
              "      background-color: #E8F0FE;\n",
              "      border: none;\n",
              "      border-radius: 50%;\n",
              "      cursor: pointer;\n",
              "      display: none;\n",
              "      fill: #1967D2;\n",
              "      height: 32px;\n",
              "      padding: 0 0 0 0;\n",
              "      width: 32px;\n",
              "    }\n",
              "\n",
              "    .colab-df-convert:hover {\n",
              "      background-color: #E2EBFA;\n",
              "      box-shadow: 0px 1px 2px rgba(60, 64, 67, 0.3), 0px 1px 3px 1px rgba(60, 64, 67, 0.15);\n",
              "      fill: #174EA6;\n",
              "    }\n",
              "\n",
              "    .colab-df-buttons div {\n",
              "      margin-bottom: 4px;\n",
              "    }\n",
              "\n",
              "    [theme=dark] .colab-df-convert {\n",
              "      background-color: #3B4455;\n",
              "      fill: #D2E3FC;\n",
              "    }\n",
              "\n",
              "    [theme=dark] .colab-df-convert:hover {\n",
              "      background-color: #434B5C;\n",
              "      box-shadow: 0px 1px 3px 1px rgba(0, 0, 0, 0.15);\n",
              "      filter: drop-shadow(0px 1px 2px rgba(0, 0, 0, 0.3));\n",
              "      fill: #FFFFFF;\n",
              "    }\n",
              "  </style>\n",
              "\n",
              "    <script>\n",
              "      const buttonEl =\n",
              "        document.querySelector('#df-1ecaa78d-f005-4d75-b475-562294347995 button.colab-df-convert');\n",
              "      buttonEl.style.display =\n",
              "        google.colab.kernel.accessAllowed ? 'block' : 'none';\n",
              "\n",
              "      async function convertToInteractive(key) {\n",
              "        const element = document.querySelector('#df-1ecaa78d-f005-4d75-b475-562294347995');\n",
              "        const dataTable =\n",
              "          await google.colab.kernel.invokeFunction('convertToInteractive',\n",
              "                                                    [key], {});\n",
              "        if (!dataTable) return;\n",
              "\n",
              "        const docLinkHtml = 'Like what you see? Visit the ' +\n",
              "          '<a target=\"_blank\" href=https://colab.research.google.com/notebooks/data_table.ipynb>data table notebook</a>'\n",
              "          + ' to learn more about interactive tables.';\n",
              "        element.innerHTML = '';\n",
              "        dataTable['output_type'] = 'display_data';\n",
              "        await google.colab.output.renderOutput(dataTable, element);\n",
              "        const docLink = document.createElement('div');\n",
              "        docLink.innerHTML = docLinkHtml;\n",
              "        element.appendChild(docLink);\n",
              "      }\n",
              "    </script>\n",
              "  </div>\n",
              "\n",
              "\n",
              "<div id=\"df-7c693d5d-6f37-46a4-b7c0-340f511fa8ad\">\n",
              "  <button class=\"colab-df-quickchart\" onclick=\"quickchart('df-7c693d5d-6f37-46a4-b7c0-340f511fa8ad')\"\n",
              "            title=\"Suggest charts\"\n",
              "            style=\"display:none;\">\n",
              "\n",
              "<svg xmlns=\"http://www.w3.org/2000/svg\" height=\"24px\"viewBox=\"0 0 24 24\"\n",
              "     width=\"24px\">\n",
              "    <g>\n",
              "        <path d=\"M19 3H5c-1.1 0-2 .9-2 2v14c0 1.1.9 2 2 2h14c1.1 0 2-.9 2-2V5c0-1.1-.9-2-2-2zM9 17H7v-7h2v7zm4 0h-2V7h2v10zm4 0h-2v-4h2v4z\"/>\n",
              "    </g>\n",
              "</svg>\n",
              "  </button>\n",
              "\n",
              "<style>\n",
              "  .colab-df-quickchart {\n",
              "      --bg-color: #E8F0FE;\n",
              "      --fill-color: #1967D2;\n",
              "      --hover-bg-color: #E2EBFA;\n",
              "      --hover-fill-color: #174EA6;\n",
              "      --disabled-fill-color: #AAA;\n",
              "      --disabled-bg-color: #DDD;\n",
              "  }\n",
              "\n",
              "  [theme=dark] .colab-df-quickchart {\n",
              "      --bg-color: #3B4455;\n",
              "      --fill-color: #D2E3FC;\n",
              "      --hover-bg-color: #434B5C;\n",
              "      --hover-fill-color: #FFFFFF;\n",
              "      --disabled-bg-color: #3B4455;\n",
              "      --disabled-fill-color: #666;\n",
              "  }\n",
              "\n",
              "  .colab-df-quickchart {\n",
              "    background-color: var(--bg-color);\n",
              "    border: none;\n",
              "    border-radius: 50%;\n",
              "    cursor: pointer;\n",
              "    display: none;\n",
              "    fill: var(--fill-color);\n",
              "    height: 32px;\n",
              "    padding: 0;\n",
              "    width: 32px;\n",
              "  }\n",
              "\n",
              "  .colab-df-quickchart:hover {\n",
              "    background-color: var(--hover-bg-color);\n",
              "    box-shadow: 0 1px 2px rgba(60, 64, 67, 0.3), 0 1px 3px 1px rgba(60, 64, 67, 0.15);\n",
              "    fill: var(--button-hover-fill-color);\n",
              "  }\n",
              "\n",
              "  .colab-df-quickchart-complete:disabled,\n",
              "  .colab-df-quickchart-complete:disabled:hover {\n",
              "    background-color: var(--disabled-bg-color);\n",
              "    fill: var(--disabled-fill-color);\n",
              "    box-shadow: none;\n",
              "  }\n",
              "\n",
              "  .colab-df-spinner {\n",
              "    border: 2px solid var(--fill-color);\n",
              "    border-color: transparent;\n",
              "    border-bottom-color: var(--fill-color);\n",
              "    animation:\n",
              "      spin 1s steps(1) infinite;\n",
              "  }\n",
              "\n",
              "  @keyframes spin {\n",
              "    0% {\n",
              "      border-color: transparent;\n",
              "      border-bottom-color: var(--fill-color);\n",
              "      border-left-color: var(--fill-color);\n",
              "    }\n",
              "    20% {\n",
              "      border-color: transparent;\n",
              "      border-left-color: var(--fill-color);\n",
              "      border-top-color: var(--fill-color);\n",
              "    }\n",
              "    30% {\n",
              "      border-color: transparent;\n",
              "      border-left-color: var(--fill-color);\n",
              "      border-top-color: var(--fill-color);\n",
              "      border-right-color: var(--fill-color);\n",
              "    }\n",
              "    40% {\n",
              "      border-color: transparent;\n",
              "      border-right-color: var(--fill-color);\n",
              "      border-top-color: var(--fill-color);\n",
              "    }\n",
              "    60% {\n",
              "      border-color: transparent;\n",
              "      border-right-color: var(--fill-color);\n",
              "    }\n",
              "    80% {\n",
              "      border-color: transparent;\n",
              "      border-right-color: var(--fill-color);\n",
              "      border-bottom-color: var(--fill-color);\n",
              "    }\n",
              "    90% {\n",
              "      border-color: transparent;\n",
              "      border-bottom-color: var(--fill-color);\n",
              "    }\n",
              "  }\n",
              "</style>\n",
              "\n",
              "  <script>\n",
              "    async function quickchart(key) {\n",
              "      const quickchartButtonEl =\n",
              "        document.querySelector('#' + key + ' button');\n",
              "      quickchartButtonEl.disabled = true;  // To prevent multiple clicks.\n",
              "      quickchartButtonEl.classList.add('colab-df-spinner');\n",
              "      try {\n",
              "        const charts = await google.colab.kernel.invokeFunction(\n",
              "            'suggestCharts', [key], {});\n",
              "      } catch (error) {\n",
              "        console.error('Error during call to suggestCharts:', error);\n",
              "      }\n",
              "      quickchartButtonEl.classList.remove('colab-df-spinner');\n",
              "      quickchartButtonEl.classList.add('colab-df-quickchart-complete');\n",
              "    }\n",
              "    (() => {\n",
              "      let quickchartButtonEl =\n",
              "        document.querySelector('#df-7c693d5d-6f37-46a4-b7c0-340f511fa8ad button');\n",
              "      quickchartButtonEl.style.display =\n",
              "        google.colab.kernel.accessAllowed ? 'block' : 'none';\n",
              "    })();\n",
              "  </script>\n",
              "</div>\n",
              "    </div>\n",
              "  </div>\n"
            ]
          },
          "metadata": {},
          "execution_count": 67
        }
      ]
    },
    {
      "cell_type": "markdown",
      "source": [
        "."
      ],
      "metadata": {
        "id": "Udsl7zjvpyRM"
      }
    },
    {
      "cell_type": "markdown",
      "source": [
        "."
      ],
      "metadata": {
        "id": "Vl9gHljIpzOv"
      }
    },
    {
      "cell_type": "markdown",
      "source": [
        "Last cleaning procedures..."
      ],
      "metadata": {
        "id": "A3BMD5U3hmZb"
      }
    },
    {
      "cell_type": "code",
      "source": [
        "print(\"\\n\\nDATAFRAME SHAPE:\\n\")\n",
        "print(df.shape)\n",
        "\n",
        "print(\"\\n\\nDATAFRAME INFO:\\n\")\n",
        "print(df.info())"
      ],
      "metadata": {
        "colab": {
          "base_uri": "https://localhost:8080/"
        },
        "id": "FraolbPPhrf-",
        "outputId": "8a7b75a7-9793-487d-8201-550e92b628c0"
      },
      "execution_count": null,
      "outputs": [
        {
          "output_type": "stream",
          "name": "stdout",
          "text": [
            "\n",
            "\n",
            "DATAFRAME SHAPE:\n",
            "\n",
            "(814, 29)\n",
            "\n",
            "\n",
            "DATAFRAME INFO:\n",
            "\n",
            "<class 'pandas.core.frame.DataFrame'>\n",
            "RangeIndex: 814 entries, 0 to 813\n",
            "Data columns (total 29 columns):\n",
            " #   Column                Non-Null Count  Dtype  \n",
            "---  ------                --------------  -----  \n",
            " 0   track_id              814 non-null    object \n",
            " 1   released_year         814 non-null    int64  \n",
            " 2   in_spotify_playlists  814 non-null    int64  \n",
            " 3   in_spotify_charts     814 non-null    int64  \n",
            " 4   streams               814 non-null    object \n",
            " 5   in_apple_playlists    814 non-null    int64  \n",
            " 6   in_apple_charts       814 non-null    int64  \n",
            " 7   in_deezer_playlists   814 non-null    object \n",
            " 8   in_deezer_charts      814 non-null    int64  \n",
            " 9   in_shazam_charts      768 non-null    object \n",
            " 10  bpm                   814 non-null    float64\n",
            " 11  danceability_%        814 non-null    float64\n",
            " 12  valence_%             814 non-null    float64\n",
            " 13  energy_%              814 non-null    float64\n",
            " 14  acousticness_%        814 non-null    float64\n",
            " 15  instrumentalness_%    814 non-null    float64\n",
            " 16  liveness_%            814 non-null    float64\n",
            " 17  speechiness_%         814 non-null    float64\n",
            " 18  key                   728 non-null    object \n",
            " 19  mode                  814 non-null    object \n",
            " 20  artist_id1            814 non-null    object \n",
            " 21  artist_id2            309 non-null    object \n",
            " 22  artist_id3            91 non-null     object \n",
            " 23  released_month        814 non-null    int64  \n",
            " 24  released_day          814 non-null    int64  \n",
            " 25  song_name             814 non-null    object \n",
            " 26  artist_name1          814 non-null    object \n",
            " 27  artist_name2          309 non-null    object \n",
            " 28  artist_name3          91 non-null     object \n",
            "dtypes: float64(8), int64(8), object(13)\n",
            "memory usage: 184.5+ KB\n",
            "None\n"
          ]
        }
      ]
    },
    {
      "cell_type": "markdown",
      "source": [
        "."
      ],
      "metadata": {
        "id": "JxfYrbzFp48c"
      }
    },
    {
      "cell_type": "markdown",
      "source": [
        "Handling the remaining NaN values."
      ],
      "metadata": {
        "id": "cGqeWTgLp6He"
      }
    },
    {
      "cell_type": "code",
      "source": [
        "# Convert to numeric and fill NaNs with 0\n",
        "df['in_deezer_playlists'] = pd.to_numeric(df['in_deezer_playlists'], errors='coerce').fillna(0)\n",
        "df['in_shazam_charts'] = pd.to_numeric(df['in_shazam_charts'], errors='coerce').fillna(0)\n",
        "\n",
        "# Convert 'streams' to numeric (int or float)\n",
        "df['streams'] = pd.to_numeric(df['streams'], errors='coerce').fillna(0).astype(int)\n",
        "\n",
        "# Convert 'in_deezer_playlists' and 'in_shazam_charts' to integer\n",
        "df['in_deezer_playlists'] = df['in_deezer_playlists'].astype(int)\n",
        "df['in_shazam_charts'] = df['in_shazam_charts'].astype(int)\n",
        "\n",
        "\n",
        "# Fill NaNs with a placeholder for categorical data\n",
        "df['key'] = df['key'].fillna('Unknown')"
      ],
      "metadata": {
        "id": "yAA4hINOvXqP"
      },
      "execution_count": null,
      "outputs": []
    },
    {
      "cell_type": "code",
      "source": [
        "# Fill missing values in artist_id2 and artist_id3 with a placeholder\n",
        "\n",
        "df['artist_name2'].fillna('No additional artist', inplace=True)\n",
        "df['artist_name3'].fillna('No additional artist', inplace=True)"
      ],
      "metadata": {
        "id": "5XsX3ACt2tyZ"
      },
      "execution_count": null,
      "outputs": []
    },
    {
      "cell_type": "code",
      "source": [
        "# Dropping artist ID columns\n",
        "\n",
        "df = df.drop(['artist_id1', 'artist_id2', 'artist_id3'], axis=1)"
      ],
      "metadata": {
        "id": "_NO1AyZE7p7u"
      },
      "execution_count": null,
      "outputs": []
    },
    {
      "cell_type": "code",
      "source": [
        "# Creating the new filename for ready df\n",
        "my_files.append('ready_df.csv')\n",
        "\n",
        "\n",
        "# Saving the new DF ready for analyses on a CSV for backup\n",
        "df.to_csv(file_path(my_files[-1]), index=False)"
      ],
      "metadata": {
        "id": "7kpcT3HJ_a1i"
      },
      "execution_count": null,
      "outputs": []
    },
    {
      "cell_type": "markdown",
      "source": [
        "."
      ],
      "metadata": {
        "id": "iSqKPrUjqSpG"
      }
    },
    {
      "cell_type": "markdown",
      "source": [
        "."
      ],
      "metadata": {
        "id": "Lujax92sqTrV"
      }
    },
    {
      "cell_type": "markdown",
      "source": [
        "# Starting the Analysis"
      ],
      "metadata": {
        "id": "-jSFQ5p_qWXe"
      }
    },
    {
      "cell_type": "code",
      "source": [
        "print(df.info())"
      ],
      "metadata": {
        "colab": {
          "base_uri": "https://localhost:8080/"
        },
        "id": "dJp6LCFBABUb",
        "outputId": "34bbd6dc-a272-4dfa-8f26-51cdc2c43d5d"
      },
      "execution_count": null,
      "outputs": [
        {
          "output_type": "stream",
          "name": "stdout",
          "text": [
            "<class 'pandas.core.frame.DataFrame'>\n",
            "RangeIndex: 814 entries, 0 to 813\n",
            "Data columns (total 26 columns):\n",
            " #   Column                Non-Null Count  Dtype  \n",
            "---  ------                --------------  -----  \n",
            " 0   track_id              814 non-null    object \n",
            " 1   released_year         814 non-null    int64  \n",
            " 2   in_spotify_playlists  814 non-null    int64  \n",
            " 3   in_spotify_charts     814 non-null    int64  \n",
            " 4   streams               814 non-null    int64  \n",
            " 5   in_apple_playlists    814 non-null    int64  \n",
            " 6   in_apple_charts       814 non-null    int64  \n",
            " 7   in_deezer_playlists   814 non-null    int64  \n",
            " 8   in_deezer_charts      814 non-null    int64  \n",
            " 9   in_shazam_charts      814 non-null    int64  \n",
            " 10  bpm                   814 non-null    float64\n",
            " 11  danceability_%        814 non-null    float64\n",
            " 12  valence_%             814 non-null    float64\n",
            " 13  energy_%              814 non-null    float64\n",
            " 14  acousticness_%        814 non-null    float64\n",
            " 15  instrumentalness_%    814 non-null    float64\n",
            " 16  liveness_%            814 non-null    float64\n",
            " 17  speechiness_%         814 non-null    float64\n",
            " 18  key                   814 non-null    object \n",
            " 19  mode                  814 non-null    object \n",
            " 20  released_month        814 non-null    int64  \n",
            " 21  released_day          814 non-null    int64  \n",
            " 22  song_name             814 non-null    object \n",
            " 23  artist_name1          814 non-null    object \n",
            " 24  artist_name2          814 non-null    object \n",
            " 25  artist_name3          814 non-null    object \n",
            "dtypes: float64(8), int64(11), object(7)\n",
            "memory usage: 165.5+ KB\n",
            "None\n"
          ]
        }
      ]
    },
    {
      "cell_type": "markdown",
      "source": [
        "Applying routine statistics on the columns."
      ],
      "metadata": {
        "id": "o4xbQkvGqf4x"
      }
    },
    {
      "cell_type": "code",
      "source": [
        "# Function to format the output of describe() as integers\n",
        "def describe_as_int(df):\n",
        "    description = df.describe()\n",
        "    return description.applymap(lambda x: '{:.0f}'.format(x))\n",
        "\n",
        "# Applying this function to the DataFrame\n",
        "int_description = describe_as_int(df)\n",
        "print(int_description)"
      ],
      "metadata": {
        "colab": {
          "base_uri": "https://localhost:8080/"
        },
        "id": "byP1Qfy-1vim",
        "outputId": "10108626-bcab-4182-ec1e-cd43b7e3a1f1"
      },
      "execution_count": null,
      "outputs": [
        {
          "output_type": "stream",
          "name": "stdout",
          "text": [
            "      released_year in_spotify_playlists in_spotify_charts     streams  \\\n",
            "count           814                  814               814         814   \n",
            "mean           2018                 5497                13   531994836   \n",
            "std              11                 8232                20   581155876   \n",
            "min            1942                   31                 0           0   \n",
            "25%            2020                  896                 0   146504598   \n",
            "50%            2022                 2317                 4   301146905   \n",
            "75%            2022                 6103                17   697195930   \n",
            "max            2023                52898               147  3703895074   \n",
            "\n",
            "      in_apple_playlists in_apple_charts in_deezer_playlists in_deezer_charts  \\\n",
            "count                814             814                 814              814   \n",
            "mean                  70              53                 101                3   \n",
            "std                   89              52                 177                6   \n",
            "min                    0               0                   0                0   \n",
            "25%                   13               8                   8                0   \n",
            "50%                   34              40                  30                0   \n",
            "75%                   93              87                  95                2   \n",
            "max                  672             275                 974               58   \n",
            "\n",
            "      in_shazam_charts  bpm danceability_% valence_% energy_% acousticness_%  \\\n",
            "count              814  814            814       814      814            814   \n",
            "mean                53  123             67        51       64             26   \n",
            "std                132   28             15        23       16             26   \n",
            "min                  0   65             23         4       14              0   \n",
            "25%                  0  100             57        32       53              5   \n",
            "50%                  2  121             69        51       66             17   \n",
            "75%                 35  141             78        69       76             42   \n",
            "max                953  206             96        97       97             97   \n",
            "\n",
            "      instrumentalness_% liveness_% speechiness_% released_month released_day  \n",
            "count                814        814           814            814          814  \n",
            "mean                   2         18            10              6           14  \n",
            "std                    9         13            10              4            9  \n",
            "min                    0          3             2              1            1  \n",
            "25%                    0          9             4              3            6  \n",
            "50%                    0         12             6              6           13  \n",
            "75%                    0         23            12              9           22  \n",
            "max                   91         92            59             12           31  \n"
          ]
        }
      ]
    },
    {
      "cell_type": "markdown",
      "source": [
        "."
      ],
      "metadata": {
        "id": "-atMZFTpq2dq"
      }
    },
    {
      "cell_type": "markdown",
      "source": [
        "Creating a correlation matrix on numerical columns, so we can see what's going on:"
      ],
      "metadata": {
        "id": "4E84uHsWquhT"
      }
    },
    {
      "cell_type": "code",
      "source": [
        "# Select only numeric columns for correlation\n",
        "numeric_df = df.select_dtypes(include=['int64', 'float64'])\n",
        "\n",
        "# Compute the correlation matrix\n",
        "corr_matrix = numeric_df.corr()"
      ],
      "metadata": {
        "id": "RE8uG6Bs1zaY"
      },
      "execution_count": null,
      "outputs": []
    },
    {
      "cell_type": "markdown",
      "source": [
        "."
      ],
      "metadata": {
        "id": "Wl7T-qLV5J08"
      }
    },
    {
      "cell_type": "markdown",
      "source": [
        "."
      ],
      "metadata": {
        "id": "bJoidAAq5LD7"
      }
    },
    {
      "cell_type": "markdown",
      "source": [
        "# RESULTS AND DATA VISUALIZATION"
      ],
      "metadata": {
        "id": "pRQ-BRY54-5P"
      }
    },
    {
      "cell_type": "code",
      "source": [
        "import seaborn as sns\n",
        "import matplotlib.pyplot as plt\n",
        "import plotly.express as px\n",
        "import plotly.graph_objects as go\n",
        "\n",
        "# Plotting a heatmap of the correlation matrix\n",
        "plt.figure(figsize=(12, 8))\n",
        "sns.heatmap(corr_matrix, annot=True, fmt=\".2f\", cmap='coolwarm')\n",
        "plt.title(\"Correlation Matrix of Numeric Features\")\n",
        "plt.show()"
      ],
      "metadata": {
        "colab": {
          "base_uri": "https://localhost:8080/",
          "height": 825
        },
        "id": "In5p6LTl13eI",
        "outputId": "811d27f1-8e43-4a0c-d997-94926b5b5315"
      },
      "execution_count": null,
      "outputs": [
        {
          "output_type": "display_data",
          "data": {
            "text/plain": [
              "<Figure size 1200x800 with 2 Axes>"
            ],
            "image/png": "[encoded data removed]"
          },
          "metadata": {}
        }
      ]
    },
    {
      "cell_type": "markdown",
      "source": [
        "* Data shows that songs which appear in many Spotify playlists usually\n",
        "get more listens.\n",
        "\n",
        "This might suggest that getting a song onto many playlists help it become more popular. Or the other way around. It is simply an association.\n",
        "\n",
        "* Newer songs aren't showing up as much on Spotify playlists.\n",
        "\n",
        "It could be due to more competition, the fact that they need more time to be discovered, or changes in how Spotify chooses songs for playlists.\n",
        "\n",
        "* There is an inverse relation between energy % and acousticness % of a song, which is not surprising.\n",
        "\n",
        "* Finally, the other parameters of a song don't seem to play a role in how often they are played or featured in playlists."
      ],
      "metadata": {
        "id": "yl0tYOvH2KBV"
      }
    },
    {
      "cell_type": "markdown",
      "source": [
        "."
      ],
      "metadata": {
        "id": "shzQ6MiA5NQ0"
      }
    },
    {
      "cell_type": "markdown",
      "source": [
        "."
      ],
      "metadata": {
        "id": "lzKgRZwd5Od0"
      }
    },
    {
      "cell_type": "markdown",
      "source": [
        "Getting a better picture of the release year of the songs, for example the oldest release, the newest and if there are years with no release:"
      ],
      "metadata": {
        "id": "8KoQjDNTr6F8"
      }
    },
    {
      "cell_type": "code",
      "source": [
        "# Find the min and max year in the dataset\n",
        "min_year = df['released_year'].min()\n",
        "max_year = df['released_year'].max()\n",
        "\n",
        "# Create a set of all years in the range\n",
        "all_years = set(range(min_year, max_year + 1))\n",
        "\n",
        "# Create a set of years present in the data\n",
        "present_years = set(df['released_year'].unique())\n",
        "\n",
        "# Find missing years\n",
        "missing_years = all_years - present_years\n",
        "\n",
        "# Function to divide a list into chunks of size n\n",
        "def divide_chunks(l, n):\n",
        "    # Yield successive n-sized chunks from list l\n",
        "    for i in range(0, len(l), n):\n",
        "        yield l[i:i + n]\n",
        "\n",
        "# Print the years range\n",
        "print(\"Max year: \", max_year)\n",
        "print(\"Min year: \", min_year)\n",
        "\n",
        "# Print the result in lines of 10\n",
        "print(\"\\nMissing years: \\n\")\n",
        "if missing_years:\n",
        "    missing_years_sorted = sorted(missing_years, reverse=True)\n",
        "    chunks = list(divide_chunks(missing_years_sorted, 10))\n",
        "    for chunk in chunks:\n",
        "        print(chunk)\n",
        "else:\n",
        "    print(\"None\")"
      ],
      "metadata": {
        "colab": {
          "base_uri": "https://localhost:8080/"
        },
        "id": "neSIPFO_2LFS",
        "outputId": "0165d9d0-7943-4c35-f801-1eda5d263d1f"
      },
      "execution_count": null,
      "outputs": [
        {
          "output_type": "stream",
          "name": "stdout",
          "text": [
            "Max year:  2023\n",
            "Min year:  1942\n",
            "\n",
            "Missing years: \n",
            "\n",
            "[2009, 2006, 2001, 1993, 1990, 1989, 1988, 1981, 1980, 1978]\n",
            "[1977, 1976, 1974, 1972, 1969, 1967, 1966, 1965, 1964, 1962]\n",
            "[1961, 1960, 1956, 1955, 1954, 1953, 1951, 1949, 1948, 1947]\n",
            "[1945, 1944, 1943]\n"
          ]
        }
      ]
    },
    {
      "cell_type": "markdown",
      "source": [
        "."
      ],
      "metadata": {
        "id": "QabWYRhcseQk"
      }
    },
    {
      "cell_type": "markdown",
      "source": [
        "I saw that the most recent year is 2023 but this year is not concluded at the moment of my analysis. Let's check its latest value."
      ],
      "metadata": {
        "id": "NFTEP8x-sg6Y"
      }
    },
    {
      "cell_type": "markdown",
      "source": [
        "Creating a date type colum for time series anaysis:"
      ],
      "metadata": {
        "id": "gZgZpbA_sSyL"
      }
    },
    {
      "cell_type": "code",
      "source": [
        "# Creating a date column\n",
        "df['release_date'] = pd.to_datetime(df['released_year'].astype(str) + '-' +\n",
        "                                    df['released_month'].astype(str) + '-' +\n",
        "                                    df['released_day'].astype(str),\n",
        "                                    errors='coerce')"
      ],
      "metadata": {
        "id": "WFYtxbmB2QB2"
      },
      "execution_count": null,
      "outputs": []
    },
    {
      "cell_type": "code",
      "source": [
        "print(\"The most recently released song in the df was released on \", df['release_date'].max().date())"
      ],
      "metadata": {
        "colab": {
          "base_uri": "https://localhost:8080/"
        },
        "id": "3ljNjoVO2Svz",
        "outputId": "8d330451-047b-47bf-c441-189bd1ae2c1e"
      },
      "execution_count": null,
      "outputs": [
        {
          "output_type": "stream",
          "name": "stdout",
          "text": [
            "The most recently released song in the df was released on  2023-07-14\n"
          ]
        }
      ]
    },
    {
      "cell_type": "markdown",
      "source": [
        "."
      ],
      "metadata": {
        "id": "C5Fw28DF5V3X"
      }
    },
    {
      "cell_type": "markdown",
      "source": [
        "Since data for 2023 is incomplete, I will remove it. I will also cut out data before 2002.This is a personal choice for the sake of making a sample visualization. I could do many other things, like dividing the years into semesters and keeping the first 6 months of 2023, and so on."
      ],
      "metadata": {
        "id": "uzQNsiBW2add"
      }
    },
    {
      "cell_type": "code",
      "source": [
        "# Filter data for years between 2002 and 2022\n",
        "\n",
        "df_filtered = df[(df['release_date'].dt.year > 2001) & (df['release_date'].dt.year < 2023)]"
      ],
      "metadata": {
        "id": "booaMCK92bR0"
      },
      "execution_count": null,
      "outputs": []
    },
    {
      "cell_type": "markdown",
      "source": [
        "."
      ],
      "metadata": {
        "id": "XtJ_gql4FqEC"
      }
    },
    {
      "cell_type": "markdown",
      "source": [
        "One needs also to take into account that before 2010 the data is scarce. Another option would be to focus on even more recent tracks."
      ],
      "metadata": {
        "id": "KjiF6IDnF-X8"
      }
    },
    {
      "cell_type": "code",
      "source": [
        "# Group by year and count the number of songs\n",
        "df_grouped = df_filtered.groupby(df_filtered['release_date'].dt.year).size().reset_index(name='song_count')\n",
        "\n",
        "# Rename the columns for clarity\n",
        "df_grouped.columns = ['Year', 'Number of Songs']\n",
        "\n",
        "# Create the Plotly figure\n",
        "fig = px.line(df_grouped, x='Year', y='Number of Songs', title='Number of Released Songs Per Year (2002 - 2022)',\n",
        "              labels={'Year': 'Year', 'Number of Songs': 'Number of Songs'})\n",
        "\n",
        "# Customize the layout\n",
        "fig.update_layout(xaxis=dict(tickmode='linear'), xaxis_title='Year', yaxis_title='Number of Songs',\n",
        "                  showlegend=True)\n",
        "\n",
        "# Show the plot\n",
        "fig.show()"
      ],
      "metadata": {
        "colab": {
          "base_uri": "https://localhost:8080/",
          "height": 542
        },
        "id": "sgRoOt7wx3sz",
        "outputId": "a3f57be3-1e3d-47da-e3f6-816294422989"
      },
      "execution_count": null,
      "outputs": [
        {
          "output_type": "display_data",
          "data": {
            "text/html": [
              "<html>\n",
              "<head><meta charset=\"utf-8\" /></head>\n",
              "<body>\n",
              "    <div>            <script src=\"https://cdnjs.cloudflare.com/ajax/libs/mathjax/2.7.5/MathJax.js?config=TeX-AMS-MML_SVG\"></script><script type=\"text/javascript\">if (window.MathJax && window.MathJax.Hub && window.MathJax.Hub.Config) {window.MathJax.Hub.Config({SVG: {font: \"STIX-Web\"}});}</script>                <script type=\"text/javascript\">window.PlotlyConfig = {MathJaxConfig: 'local'};</script>\n",
              "        <script charset=\"utf-8\" src=\"https://cdn.plot.ly/plotly-2.24.1.min.js\"></script>                <div id=\"8c8e47a2-a5e4-43b9-9fd2-c467f63a1c58\" class=\"plotly-graph-div\" style=\"height:525px; width:100%;\"></div>            <script type=\"text/javascript\">                                    window.PLOTLYENV=window.PLOTLYENV || {};                                    if (document.getElementById(\"8c8e47a2-a5e4-43b9-9fd2-c467f63a1c58\")) {                    Plotly.newPlot(                        \"8c8e47a2-a5e4-43b9-9fd2-c467f63a1c58\",                        [{\"hovertemplate\":\"Year=%{x}\\u003cbr\\u003eNumber of Songs=%{y}\\u003cextra\\u003e\\u003c\\u002fextra\\u003e\",\"legendgroup\":\"\",\"line\":{\"color\":\"#636efa\",\"dash\":\"solid\"},\"marker\":{\"symbol\":\"circle\"},\"mode\":\"lines\",\"name\":\"\",\"orientation\":\"v\",\"showlegend\":false,\"x\":[2002,2003,2004,2005,2007,2008,2010,2011,2012,2013,2014,2015,2016,2017,2018,2019,2020,2021,2022],\"xaxis\":\"x\",\"y\":[5,2,4,1,1,2,7,7,9,12,12,11,18,20,10,32,33,93,346],\"yaxis\":\"y\",\"type\":\"scatter\"}],                        {\"template\":{\"data\":{\"histogram2dcontour\":[{\"type\":\"histogram2dcontour\",\"colorbar\":{\"outlinewidth\":0,\"ticks\":\"\"},\"colorscale\":[[0.0,\"#0d0887\"],[0.1111111111111111,\"#46039f\"],[0.2222222222222222,\"#7201a8\"],[0.3333333333333333,\"#9c179e\"],[0.4444444444444444,\"#bd3786\"],[0.5555555555555556,\"#d8576b\"],[0.6666666666666666,\"#ed7953\"],[0.7777777777777778,\"#fb9f3a\"],[0.8888888888888888,\"#fdca26\"],[1.0,\"#f0f921\"]]}],\"choropleth\":[{\"type\":\"choropleth\",\"colorbar\":{\"outlinewidth\":0,\"ticks\":\"\"}}],\"histogram2d\":[{\"type\":\"histogram2d\",\"colorbar\":{\"outlinewidth\":0,\"ticks\":\"\"},\"colorscale\":[[0.0,\"#0d0887\"],[0.1111111111111111,\"#46039f\"],[0.2222222222222222,\"#7201a8\"],[0.3333333333333333,\"#9c179e\"],[0.4444444444444444,\"#bd3786\"],[0.5555555555555556,\"#d8576b\"],[0.6666666666666666,\"#ed7953\"],[0.7777777777777778,\"#fb9f3a\"],[0.8888888888888888,\"#fdca26\"],[1.0,\"#f0f921\"]]}],\"heatmap\":[{\"type\":\"heatmap\",\"colorbar\":{\"outlinewidth\":0,\"ticks\":\"\"},\"colorscale\":[[0.0,\"#0d0887\"],[0.1111111111111111,\"#46039f\"],[0.2222222222222222,\"#7201a8\"],[0.3333333333333333,\"#9c179e\"],[0.4444444444444444,\"#bd3786\"],[0.5555555555555556,\"#d8576b\"],[0.6666666666666666,\"#ed7953\"],[0.7777777777777778,\"#fb9f3a\"],[0.8888888888888888,\"#fdca26\"],[1.0,\"#f0f921\"]]}],\"heatmapgl\":[{\"type\":\"heatmapgl\",\"colorbar\":{\"outlinewidth\":0,\"ticks\":\"\"},\"colorscale\":[[0.0,\"#0d0887\"],[0.1111111111111111,\"#46039f\"],[0.2222222222222222,\"#7201a8\"],[0.3333333333333333,\"#9c179e\"],[0.4444444444444444,\"#bd3786\"],[0.5555555555555556,\"#d8576b\"],[0.6666666666666666,\"#ed7953\"],[0.7777777777777778,\"#fb9f3a\"],[0.8888888888888888,\"#fdca26\"],[1.0,\"#f0f921\"]]}],\"contourcarpet\":[{\"type\":\"contourcarpet\",\"colorbar\":{\"outlinewidth\":0,\"ticks\":\"\"}}],\"contour\":[{\"type\":\"contour\",\"colorbar\":{\"outlinewidth\":0,\"ticks\":\"\"},\"colorscale\":[[0.0,\"#0d0887\"],[0.1111111111111111,\"#46039f\"],[0.2222222222222222,\"#7201a8\"],[0.3333333333333333,\"#9c179e\"],[0.4444444444444444,\"#bd3786\"],[0.5555555555555556,\"#d8576b\"],[0.6666666666666666,\"#ed7953\"],[0.7777777777777778,\"#fb9f3a\"],[0.8888888888888888,\"#fdca26\"],[1.0,\"#f0f921\"]]}],\"surface\":[{\"type\":\"surface\",\"colorbar\":{\"outlinewidth\":0,\"ticks\":\"\"},\"colorscale\":[[0.0,\"#0d0887\"],[0.1111111111111111,\"#46039f\"],[0.2222222222222222,\"#7201a8\"],[0.3333333333333333,\"#9c179e\"],[0.4444444444444444,\"#bd3786\"],[0.5555555555555556,\"#d8576b\"],[0.6666666666666666,\"#ed7953\"],[0.7777777777777778,\"#fb9f3a\"],[0.8888888888888888,\"#fdca26\"],[1.0,\"#f0f921\"]]}],\"mesh3d\":[{\"type\":\"mesh3d\",\"colorbar\":{\"outlinewidth\":0,\"ticks\":\"\"}}],\"scatter\":[{\"fillpattern\":{\"fillmode\":\"overlay\",\"size\":10,\"solidity\":0.2},\"type\":\"scatter\"}],\"parcoords\":[{\"type\":\"parcoords\",\"line\":{\"colorbar\":{\"outlinewidth\":0,\"ticks\":\"\"}}}],\"scatterpolargl\":[{\"type\":\"scatterpolargl\",\"marker\":{\"colorbar\":{\"outlinewidth\":0,\"ticks\":\"\"}}}],\"bar\":[{\"error_x\":{\"color\":\"#2a3f5f\"},\"error_y\":{\"color\":\"#2a3f5f\"},\"marker\":{\"line\":{\"color\":\"#E5ECF6\",\"width\":0.5},\"pattern\":{\"fillmode\":\"overlay\",\"size\":10,\"solidity\":0.2}},\"type\":\"bar\"}],\"scattergeo\":[{\"type\":\"scattergeo\",\"marker\":{\"colorbar\":{\"outlinewidth\":0,\"ticks\":\"\"}}}],\"scatterpolar\":[{\"type\":\"scatterpolar\",\"marker\":{\"colorbar\":{\"outlinewidth\":0,\"ticks\":\"\"}}}],\"histogram\":[{\"marker\":{\"pattern\":{\"fillmode\":\"overlay\",\"size\":10,\"solidity\":0.2}},\"type\":\"histogram\"}],\"scattergl\":[{\"type\":\"scattergl\",\"marker\":{\"colorbar\":{\"outlinewidth\":0,\"ticks\":\"\"}}}],\"scatter3d\":[{\"type\":\"scatter3d\",\"line\":{\"colorbar\":{\"outlinewidth\":0,\"ticks\":\"\"}},\"marker\":{\"colorbar\":{\"outlinewidth\":0,\"ticks\":\"\"}}}],\"scattermapbox\":[{\"type\":\"scattermapbox\",\"marker\":{\"colorbar\":{\"outlinewidth\":0,\"ticks\":\"\"}}}],\"scatterternary\":[{\"type\":\"scatterternary\",\"marker\":{\"colorbar\":{\"outlinewidth\":0,\"ticks\":\"\"}}}],\"scattercarpet\":[{\"type\":\"scattercarpet\",\"marker\":{\"colorbar\":{\"outlinewidth\":0,\"ticks\":\"\"}}}],\"carpet\":[{\"aaxis\":{\"endlinecolor\":\"#2a3f5f\",\"gridcolor\":\"white\",\"linecolor\":\"white\",\"minorgridcolor\":\"white\",\"startlinecolor\":\"#2a3f5f\"},\"baxis\":{\"endlinecolor\":\"#2a3f5f\",\"gridcolor\":\"white\",\"linecolor\":\"white\",\"minorgridcolor\":\"white\",\"startlinecolor\":\"#2a3f5f\"},\"type\":\"carpet\"}],\"table\":[{\"cells\":{\"fill\":{\"color\":\"#EBF0F8\"},\"line\":{\"color\":\"white\"}},\"header\":{\"fill\":{\"color\":\"#C8D4E3\"},\"line\":{\"color\":\"white\"}},\"type\":\"table\"}],\"barpolar\":[{\"marker\":{\"line\":{\"color\":\"#E5ECF6\",\"width\":0.5},\"pattern\":{\"fillmode\":\"overlay\",\"size\":10,\"solidity\":0.2}},\"type\":\"barpolar\"}],\"pie\":[{\"automargin\":true,\"type\":\"pie\"}]},\"layout\":{\"autotypenumbers\":\"strict\",\"colorway\":[\"#636efa\",\"#EF553B\",\"#00cc96\",\"#ab63fa\",\"#FFA15A\",\"#19d3f3\",\"#FF6692\",\"#B6E880\",\"#FF97FF\",\"#FECB52\"],\"font\":{\"color\":\"#2a3f5f\"},\"hovermode\":\"closest\",\"hoverlabel\":{\"align\":\"left\"},\"paper_bgcolor\":\"white\",\"plot_bgcolor\":\"#E5ECF6\",\"polar\":{\"bgcolor\":\"#E5ECF6\",\"angularaxis\":{\"gridcolor\":\"white\",\"linecolor\":\"white\",\"ticks\":\"\"},\"radialaxis\":{\"gridcolor\":\"white\",\"linecolor\":\"white\",\"ticks\":\"\"}},\"ternary\":{\"bgcolor\":\"#E5ECF6\",\"aaxis\":{\"gridcolor\":\"white\",\"linecolor\":\"white\",\"ticks\":\"\"},\"baxis\":{\"gridcolor\":\"white\",\"linecolor\":\"white\",\"ticks\":\"\"},\"caxis\":{\"gridcolor\":\"white\",\"linecolor\":\"white\",\"ticks\":\"\"}},\"coloraxis\":{\"colorbar\":{\"outlinewidth\":0,\"ticks\":\"\"}},\"colorscale\":{\"sequential\":[[0.0,\"#0d0887\"],[0.1111111111111111,\"#46039f\"],[0.2222222222222222,\"#7201a8\"],[0.3333333333333333,\"#9c179e\"],[0.4444444444444444,\"#bd3786\"],[0.5555555555555556,\"#d8576b\"],[0.6666666666666666,\"#ed7953\"],[0.7777777777777778,\"#fb9f3a\"],[0.8888888888888888,\"#fdca26\"],[1.0,\"#f0f921\"]],\"sequentialminus\":[[0.0,\"#0d0887\"],[0.1111111111111111,\"#46039f\"],[0.2222222222222222,\"#7201a8\"],[0.3333333333333333,\"#9c179e\"],[0.4444444444444444,\"#bd3786\"],[0.5555555555555556,\"#d8576b\"],[0.6666666666666666,\"#ed7953\"],[0.7777777777777778,\"#fb9f3a\"],[0.8888888888888888,\"#fdca26\"],[1.0,\"#f0f921\"]],\"diverging\":[[0,\"#8e0152\"],[0.1,\"#c51b7d\"],[0.2,\"#de77ae\"],[0.3,\"#f1b6da\"],[0.4,\"#fde0ef\"],[0.5,\"#f7f7f7\"],[0.6,\"#e6f5d0\"],[0.7,\"#b8e186\"],[0.8,\"#7fbc41\"],[0.9,\"#4d9221\"],[1,\"#276419\"]]},\"xaxis\":{\"gridcolor\":\"white\",\"linecolor\":\"white\",\"ticks\":\"\",\"title\":{\"standoff\":15},\"zerolinecolor\":\"white\",\"automargin\":true,\"zerolinewidth\":2},\"yaxis\":{\"gridcolor\":\"white\",\"linecolor\":\"white\",\"ticks\":\"\",\"title\":{\"standoff\":15},\"zerolinecolor\":\"white\",\"automargin\":true,\"zerolinewidth\":2},\"scene\":{\"xaxis\":{\"backgroundcolor\":\"#E5ECF6\",\"gridcolor\":\"white\",\"linecolor\":\"white\",\"showbackground\":true,\"ticks\":\"\",\"zerolinecolor\":\"white\",\"gridwidth\":2},\"yaxis\":{\"backgroundcolor\":\"#E5ECF6\",\"gridcolor\":\"white\",\"linecolor\":\"white\",\"showbackground\":true,\"ticks\":\"\",\"zerolinecolor\":\"white\",\"gridwidth\":2},\"zaxis\":{\"backgroundcolor\":\"#E5ECF6\",\"gridcolor\":\"white\",\"linecolor\":\"white\",\"showbackground\":true,\"ticks\":\"\",\"zerolinecolor\":\"white\",\"gridwidth\":2}},\"shapedefaults\":{\"line\":{\"color\":\"#2a3f5f\"}},\"annotationdefaults\":{\"arrowcolor\":\"#2a3f5f\",\"arrowhead\":0,\"arrowwidth\":1},\"geo\":{\"bgcolor\":\"white\",\"landcolor\":\"#E5ECF6\",\"subunitcolor\":\"white\",\"showland\":true,\"showlakes\":true,\"lakecolor\":\"white\"},\"title\":{\"x\":0.05},\"mapbox\":{\"style\":\"light\"}}},\"xaxis\":{\"anchor\":\"y\",\"domain\":[0.0,1.0],\"title\":{\"text\":\"Year\"},\"tickmode\":\"linear\"},\"yaxis\":{\"anchor\":\"x\",\"domain\":[0.0,1.0],\"title\":{\"text\":\"Number of Songs\"}},\"legend\":{\"tracegroupgap\":0},\"title\":{\"text\":\"Number of Released Songs Per Year (2002 - 2022)\"},\"showlegend\":true},                        {\"responsive\": true}                    ).then(function(){\n",
              "                            \n",
              "var gd = document.getElementById('8c8e47a2-a5e4-43b9-9fd2-c467f63a1c58');\n",
              "var x = new MutationObserver(function (mutations, observer) {{\n",
              "        var display = window.getComputedStyle(gd).display;\n",
              "        if (!display || display === 'none') {{\n",
              "            console.log([gd, 'removed!']);\n",
              "            Plotly.purge(gd);\n",
              "            observer.disconnect();\n",
              "        }}\n",
              "}});\n",
              "\n",
              "// Listen for the removal of the full notebook cells\n",
              "var notebookContainer = gd.closest('#notebook-container');\n",
              "if (notebookContainer) {{\n",
              "    x.observe(notebookContainer, {childList: true});\n",
              "}}\n",
              "\n",
              "// Listen for the clearing of the current output cell\n",
              "var outputEl = gd.closest('.output');\n",
              "if (outputEl) {{\n",
              "    x.observe(outputEl, {childList: true});\n",
              "}}\n",
              "\n",
              "                        })                };                            </script>        </div>\n",
              "</body>\n",
              "</html>"
            ]
          },
          "metadata": {}
        }
      ]
    },
    {
      "cell_type": "markdown",
      "source": [
        "."
      ],
      "metadata": {
        "id": "cdihVGieGScV"
      }
    },
    {
      "cell_type": "code",
      "source": [
        "# Group by year and calculate the median of 'in_spotify_playlists'\n",
        "df_grouped_spotify = df_filtered.groupby(df_filtered['release_date'].dt.year)['in_spotify_playlists'].median().reset_index()\n",
        "\n",
        "# Rename the columns for clarity\n",
        "df_grouped_spotify.columns = ['Year', 'Median In Spotify Playlists']\n",
        "\n",
        "# Create the Plotly figure for median of 'in_spotify_playlists' over time\n",
        "fig = px.line(df_grouped_spotify, x='Year', y='Median In Spotify Playlists',\n",
        "              title='In Spotify Playlists Median Over Time (2002 - 2022)',\n",
        "              labels={'Year': 'Year', 'Median In Spotify Playlists': 'Median In Spotify Playlists'})\n",
        "\n",
        "# Customize the layout\n",
        "fig.update_layout(xaxis=dict(tickmode='linear'), xaxis_title='Year', yaxis_title='Median In Spotify Playlists',\n",
        "                  showlegend=True)\n",
        "\n",
        "# Show the plot\n",
        "fig.show()"
      ],
      "metadata": {
        "colab": {
          "base_uri": "https://localhost:8080/",
          "height": 542
        },
        "id": "2FRHVqiyzET4",
        "outputId": "38c4fd82-7cc0-4130-e3ea-ed9cca9bfeb0"
      },
      "execution_count": null,
      "outputs": [
        {
          "output_type": "display_data",
          "data": {
            "text/html": [
              "<html>\n",
              "<head><meta charset=\"utf-8\" /></head>\n",
              "<body>\n",
              "    <div>            <script src=\"https://cdnjs.cloudflare.com/ajax/libs/mathjax/2.7.5/MathJax.js?config=TeX-AMS-MML_SVG\"></script><script type=\"text/javascript\">if (window.MathJax && window.MathJax.Hub && window.MathJax.Hub.Config) {window.MathJax.Hub.Config({SVG: {font: \"STIX-Web\"}});}</script>                <script type=\"text/javascript\">window.PlotlyConfig = {MathJaxConfig: 'local'};</script>\n",
              "        <script charset=\"utf-8\" src=\"https://cdn.plot.ly/plotly-2.24.1.min.js\"></script>                <div id=\"80caac36-b685-4997-b317-2ce095c36cda\" class=\"plotly-graph-div\" style=\"height:525px; width:100%;\"></div>            <script type=\"text/javascript\">                                    window.PLOTLYENV=window.PLOTLYENV || {};                                    if (document.getElementById(\"80caac36-b685-4997-b317-2ce095c36cda\")) {                    Plotly.newPlot(                        \"80caac36-b685-4997-b317-2ce095c36cda\",                        [{\"hovertemplate\":\"Year=%{x}\\u003cbr\\u003eMedian In Spotify Playlists=%{y}\\u003cextra\\u003e\\u003c\\u002fextra\\u003e\",\"legendgroup\":\"\",\"line\":{\"color\":\"#636efa\",\"dash\":\"solid\"},\"marker\":{\"symbol\":\"circle\"},\"mode\":\"lines\",\"name\":\"\",\"orientation\":\"v\",\"showlegend\":false,\"x\":[2002,2003,2004,2005,2007,2008,2010,2011,2012,2013,2014,2015,2016,2017,2018,2019,2020,2021,2022],\"xaxis\":\"x\",\"y\":[22923.0,36045.0,9721.0,2577.0,13985.0,25701.0,13801.0,14739.0,16413.0,21805.0,9632.0,9771.0,6944.0,11761.0,8534.5,6063.0,6734.0,4091.0,1534.5],\"yaxis\":\"y\",\"type\":\"scatter\"}],                        {\"template\":{\"data\":{\"histogram2dcontour\":[{\"type\":\"histogram2dcontour\",\"colorbar\":{\"outlinewidth\":0,\"ticks\":\"\"},\"colorscale\":[[0.0,\"#0d0887\"],[0.1111111111111111,\"#46039f\"],[0.2222222222222222,\"#7201a8\"],[0.3333333333333333,\"#9c179e\"],[0.4444444444444444,\"#bd3786\"],[0.5555555555555556,\"#d8576b\"],[0.6666666666666666,\"#ed7953\"],[0.7777777777777778,\"#fb9f3a\"],[0.8888888888888888,\"#fdca26\"],[1.0,\"#f0f921\"]]}],\"choropleth\":[{\"type\":\"choropleth\",\"colorbar\":{\"outlinewidth\":0,\"ticks\":\"\"}}],\"histogram2d\":[{\"type\":\"histogram2d\",\"colorbar\":{\"outlinewidth\":0,\"ticks\":\"\"},\"colorscale\":[[0.0,\"#0d0887\"],[0.1111111111111111,\"#46039f\"],[0.2222222222222222,\"#7201a8\"],[0.3333333333333333,\"#9c179e\"],[0.4444444444444444,\"#bd3786\"],[0.5555555555555556,\"#d8576b\"],[0.6666666666666666,\"#ed7953\"],[0.7777777777777778,\"#fb9f3a\"],[0.8888888888888888,\"#fdca26\"],[1.0,\"#f0f921\"]]}],\"heatmap\":[{\"type\":\"heatmap\",\"colorbar\":{\"outlinewidth\":0,\"ticks\":\"\"},\"colorscale\":[[0.0,\"#0d0887\"],[0.1111111111111111,\"#46039f\"],[0.2222222222222222,\"#7201a8\"],[0.3333333333333333,\"#9c179e\"],[0.4444444444444444,\"#bd3786\"],[0.5555555555555556,\"#d8576b\"],[0.6666666666666666,\"#ed7953\"],[0.7777777777777778,\"#fb9f3a\"],[0.8888888888888888,\"#fdca26\"],[1.0,\"#f0f921\"]]}],\"heatmapgl\":[{\"type\":\"heatmapgl\",\"colorbar\":{\"outlinewidth\":0,\"ticks\":\"\"},\"colorscale\":[[0.0,\"#0d0887\"],[0.1111111111111111,\"#46039f\"],[0.2222222222222222,\"#7201a8\"],[0.3333333333333333,\"#9c179e\"],[0.4444444444444444,\"#bd3786\"],[0.5555555555555556,\"#d8576b\"],[0.6666666666666666,\"#ed7953\"],[0.7777777777777778,\"#fb9f3a\"],[0.8888888888888888,\"#fdca26\"],[1.0,\"#f0f921\"]]}],\"contourcarpet\":[{\"type\":\"contourcarpet\",\"colorbar\":{\"outlinewidth\":0,\"ticks\":\"\"}}],\"contour\":[{\"type\":\"contour\",\"colorbar\":{\"outlinewidth\":0,\"ticks\":\"\"},\"colorscale\":[[0.0,\"#0d0887\"],[0.1111111111111111,\"#46039f\"],[0.2222222222222222,\"#7201a8\"],[0.3333333333333333,\"#9c179e\"],[0.4444444444444444,\"#bd3786\"],[0.5555555555555556,\"#d8576b\"],[0.6666666666666666,\"#ed7953\"],[0.7777777777777778,\"#fb9f3a\"],[0.8888888888888888,\"#fdca26\"],[1.0,\"#f0f921\"]]}],\"surface\":[{\"type\":\"surface\",\"colorbar\":{\"outlinewidth\":0,\"ticks\":\"\"},\"colorscale\":[[0.0,\"#0d0887\"],[0.1111111111111111,\"#46039f\"],[0.2222222222222222,\"#7201a8\"],[0.3333333333333333,\"#9c179e\"],[0.4444444444444444,\"#bd3786\"],[0.5555555555555556,\"#d8576b\"],[0.6666666666666666,\"#ed7953\"],[0.7777777777777778,\"#fb9f3a\"],[0.8888888888888888,\"#fdca26\"],[1.0,\"#f0f921\"]]}],\"mesh3d\":[{\"type\":\"mesh3d\",\"colorbar\":{\"outlinewidth\":0,\"ticks\":\"\"}}],\"scatter\":[{\"fillpattern\":{\"fillmode\":\"overlay\",\"size\":10,\"solidity\":0.2},\"type\":\"scatter\"}],\"parcoords\":[{\"type\":\"parcoords\",\"line\":{\"colorbar\":{\"outlinewidth\":0,\"ticks\":\"\"}}}],\"scatterpolargl\":[{\"type\":\"scatterpolargl\",\"marker\":{\"colorbar\":{\"outlinewidth\":0,\"ticks\":\"\"}}}],\"bar\":[{\"error_x\":{\"color\":\"#2a3f5f\"},\"error_y\":{\"color\":\"#2a3f5f\"},\"marker\":{\"line\":{\"color\":\"#E5ECF6\",\"width\":0.5},\"pattern\":{\"fillmode\":\"overlay\",\"size\":10,\"solidity\":0.2}},\"type\":\"bar\"}],\"scattergeo\":[{\"type\":\"scattergeo\",\"marker\":{\"colorbar\":{\"outlinewidth\":0,\"ticks\":\"\"}}}],\"scatterpolar\":[{\"type\":\"scatterpolar\",\"marker\":{\"colorbar\":{\"outlinewidth\":0,\"ticks\":\"\"}}}],\"histogram\":[{\"marker\":{\"pattern\":{\"fillmode\":\"overlay\",\"size\":10,\"solidity\":0.2}},\"type\":\"histogram\"}],\"scattergl\":[{\"type\":\"scattergl\",\"marker\":{\"colorbar\":{\"outlinewidth\":0,\"ticks\":\"\"}}}],\"scatter3d\":[{\"type\":\"scatter3d\",\"line\":{\"colorbar\":{\"outlinewidth\":0,\"ticks\":\"\"}},\"marker\":{\"colorbar\":{\"outlinewidth\":0,\"ticks\":\"\"}}}],\"scattermapbox\":[{\"type\":\"scattermapbox\",\"marker\":{\"colorbar\":{\"outlinewidth\":0,\"ticks\":\"\"}}}],\"scatterternary\":[{\"type\":\"scatterternary\",\"marker\":{\"colorbar\":{\"outlinewidth\":0,\"ticks\":\"\"}}}],\"scattercarpet\":[{\"type\":\"scattercarpet\",\"marker\":{\"colorbar\":{\"outlinewidth\":0,\"ticks\":\"\"}}}],\"carpet\":[{\"aaxis\":{\"endlinecolor\":\"#2a3f5f\",\"gridcolor\":\"white\",\"linecolor\":\"white\",\"minorgridcolor\":\"white\",\"startlinecolor\":\"#2a3f5f\"},\"baxis\":{\"endlinecolor\":\"#2a3f5f\",\"gridcolor\":\"white\",\"linecolor\":\"white\",\"minorgridcolor\":\"white\",\"startlinecolor\":\"#2a3f5f\"},\"type\":\"carpet\"}],\"table\":[{\"cells\":{\"fill\":{\"color\":\"#EBF0F8\"},\"line\":{\"color\":\"white\"}},\"header\":{\"fill\":{\"color\":\"#C8D4E3\"},\"line\":{\"color\":\"white\"}},\"type\":\"table\"}],\"barpolar\":[{\"marker\":{\"line\":{\"color\":\"#E5ECF6\",\"width\":0.5},\"pattern\":{\"fillmode\":\"overlay\",\"size\":10,\"solidity\":0.2}},\"type\":\"barpolar\"}],\"pie\":[{\"automargin\":true,\"type\":\"pie\"}]},\"layout\":{\"autotypenumbers\":\"strict\",\"colorway\":[\"#636efa\",\"#EF553B\",\"#00cc96\",\"#ab63fa\",\"#FFA15A\",\"#19d3f3\",\"#FF6692\",\"#B6E880\",\"#FF97FF\",\"#FECB52\"],\"font\":{\"color\":\"#2a3f5f\"},\"hovermode\":\"closest\",\"hoverlabel\":{\"align\":\"left\"},\"paper_bgcolor\":\"white\",\"plot_bgcolor\":\"#E5ECF6\",\"polar\":{\"bgcolor\":\"#E5ECF6\",\"angularaxis\":{\"gridcolor\":\"white\",\"linecolor\":\"white\",\"ticks\":\"\"},\"radialaxis\":{\"gridcolor\":\"white\",\"linecolor\":\"white\",\"ticks\":\"\"}},\"ternary\":{\"bgcolor\":\"#E5ECF6\",\"aaxis\":{\"gridcolor\":\"white\",\"linecolor\":\"white\",\"ticks\":\"\"},\"baxis\":{\"gridcolor\":\"white\",\"linecolor\":\"white\",\"ticks\":\"\"},\"caxis\":{\"gridcolor\":\"white\",\"linecolor\":\"white\",\"ticks\":\"\"}},\"coloraxis\":{\"colorbar\":{\"outlinewidth\":0,\"ticks\":\"\"}},\"colorscale\":{\"sequential\":[[0.0,\"#0d0887\"],[0.1111111111111111,\"#46039f\"],[0.2222222222222222,\"#7201a8\"],[0.3333333333333333,\"#9c179e\"],[0.4444444444444444,\"#bd3786\"],[0.5555555555555556,\"#d8576b\"],[0.6666666666666666,\"#ed7953\"],[0.7777777777777778,\"#fb9f3a\"],[0.8888888888888888,\"#fdca26\"],[1.0,\"#f0f921\"]],\"sequentialminus\":[[0.0,\"#0d0887\"],[0.1111111111111111,\"#46039f\"],[0.2222222222222222,\"#7201a8\"],[0.3333333333333333,\"#9c179e\"],[0.4444444444444444,\"#bd3786\"],[0.5555555555555556,\"#d8576b\"],[0.6666666666666666,\"#ed7953\"],[0.7777777777777778,\"#fb9f3a\"],[0.8888888888888888,\"#fdca26\"],[1.0,\"#f0f921\"]],\"diverging\":[[0,\"#8e0152\"],[0.1,\"#c51b7d\"],[0.2,\"#de77ae\"],[0.3,\"#f1b6da\"],[0.4,\"#fde0ef\"],[0.5,\"#f7f7f7\"],[0.6,\"#e6f5d0\"],[0.7,\"#b8e186\"],[0.8,\"#7fbc41\"],[0.9,\"#4d9221\"],[1,\"#276419\"]]},\"xaxis\":{\"gridcolor\":\"white\",\"linecolor\":\"white\",\"ticks\":\"\",\"title\":{\"standoff\":15},\"zerolinecolor\":\"white\",\"automargin\":true,\"zerolinewidth\":2},\"yaxis\":{\"gridcolor\":\"white\",\"linecolor\":\"white\",\"ticks\":\"\",\"title\":{\"standoff\":15},\"zerolinecolor\":\"white\",\"automargin\":true,\"zerolinewidth\":2},\"scene\":{\"xaxis\":{\"backgroundcolor\":\"#E5ECF6\",\"gridcolor\":\"white\",\"linecolor\":\"white\",\"showbackground\":true,\"ticks\":\"\",\"zerolinecolor\":\"white\",\"gridwidth\":2},\"yaxis\":{\"backgroundcolor\":\"#E5ECF6\",\"gridcolor\":\"white\",\"linecolor\":\"white\",\"showbackground\":true,\"ticks\":\"\",\"zerolinecolor\":\"white\",\"gridwidth\":2},\"zaxis\":{\"backgroundcolor\":\"#E5ECF6\",\"gridcolor\":\"white\",\"linecolor\":\"white\",\"showbackground\":true,\"ticks\":\"\",\"zerolinecolor\":\"white\",\"gridwidth\":2}},\"shapedefaults\":{\"line\":{\"color\":\"#2a3f5f\"}},\"annotationdefaults\":{\"arrowcolor\":\"#2a3f5f\",\"arrowhead\":0,\"arrowwidth\":1},\"geo\":{\"bgcolor\":\"white\",\"landcolor\":\"#E5ECF6\",\"subunitcolor\":\"white\",\"showland\":true,\"showlakes\":true,\"lakecolor\":\"white\"},\"title\":{\"x\":0.05},\"mapbox\":{\"style\":\"light\"}}},\"xaxis\":{\"anchor\":\"y\",\"domain\":[0.0,1.0],\"title\":{\"text\":\"Year\"},\"tickmode\":\"linear\"},\"yaxis\":{\"anchor\":\"x\",\"domain\":[0.0,1.0],\"title\":{\"text\":\"Median In Spotify Playlists\"}},\"legend\":{\"tracegroupgap\":0},\"title\":{\"text\":\"In Spotify Playlists Median Over Time (2002 - 2022)\"},\"showlegend\":true},                        {\"responsive\": true}                    ).then(function(){\n",
              "                            \n",
              "var gd = document.getElementById('80caac36-b685-4997-b317-2ce095c36cda');\n",
              "var x = new MutationObserver(function (mutations, observer) {{\n",
              "        var display = window.getComputedStyle(gd).display;\n",
              "        if (!display || display === 'none') {{\n",
              "            console.log([gd, 'removed!']);\n",
              "            Plotly.purge(gd);\n",
              "            observer.disconnect();\n",
              "        }}\n",
              "}});\n",
              "\n",
              "// Listen for the removal of the full notebook cells\n",
              "var notebookContainer = gd.closest('#notebook-container');\n",
              "if (notebookContainer) {{\n",
              "    x.observe(notebookContainer, {childList: true});\n",
              "}}\n",
              "\n",
              "// Listen for the clearing of the current output cell\n",
              "var outputEl = gd.closest('.output');\n",
              "if (outputEl) {{\n",
              "    x.observe(outputEl, {childList: true});\n",
              "}}\n",
              "\n",
              "                        })                };                            </script>        </div>\n",
              "</body>\n",
              "</html>"
            ]
          },
          "metadata": {}
        }
      ]
    },
    {
      "cell_type": "markdown",
      "source": [
        "This drop in 2005 looks suspicious. Let's check the number of songs for every year in 2002-2022:"
      ],
      "metadata": {
        "id": "GE7WKA40HtZl"
      }
    },
    {
      "cell_type": "code",
      "source": [
        "by_year_in_2000 = df_filtered.groupby('released_year').size()\n",
        "\n",
        "# Creating a list of tuples (year, number of songs)\n",
        "count_of_2000 = list(by_year_in_2000.items())\n",
        "\n",
        "count_of_2000"
      ],
      "metadata": {
        "colab": {
          "base_uri": "https://localhost:8080/"
        },
        "id": "9PzlT7hGESEF",
        "outputId": "b5ddc154-3899-492d-d4ea-c778a303ca44"
      },
      "execution_count": null,
      "outputs": [
        {
          "output_type": "execute_result",
          "data": {
            "text/plain": [
              "[(2002, 5),\n",
              " (2003, 2),\n",
              " (2004, 4),\n",
              " (2005, 1),\n",
              " (2007, 1),\n",
              " (2008, 2),\n",
              " (2010, 7),\n",
              " (2011, 7),\n",
              " (2012, 9),\n",
              " (2013, 12),\n",
              " (2014, 12),\n",
              " (2015, 11),\n",
              " (2016, 18),\n",
              " (2017, 20),\n",
              " (2018, 10),\n",
              " (2019, 32),\n",
              " (2020, 33),\n",
              " (2021, 93),\n",
              " (2022, 346)]"
            ]
          },
          "metadata": {},
          "execution_count": 96
        }
      ]
    },
    {
      "cell_type": "markdown",
      "source": [
        "Here the drop we are seeing in 2005 is explained by the scarce data around those year."
      ],
      "metadata": {
        "id": "R0jEi1ByGG9Q"
      }
    },
    {
      "cell_type": "markdown",
      "source": [
        "The down trend could be due to the fact that newer songs have a lot of competition, or to a Pareto difference between the top songs and the rest, or changes in Spotify algorithm, and so on."
      ],
      "metadata": {
        "id": "88P89sWqefdQ"
      }
    },
    {
      "cell_type": "markdown",
      "source": [
        "."
      ],
      "metadata": {
        "id": "acTd49HuGZiV"
      }
    },
    {
      "cell_type": "code",
      "source": [
        "# Interactive scatter plot for Relationship Between Streams and Spotify Playlist Inclusions\n",
        "fig = px.scatter(df, x='streams', y='in_spotify_playlists', title='Relationship Between Streams and Spotify Playlist Inclusions')\n",
        "fig.show()"
      ],
      "metadata": {
        "id": "CmyLLENS2lGz",
        "colab": {
          "base_uri": "https://localhost:8080/",
          "height": 542
        },
        "outputId": "9e749af1-1935-4fd6-96d2-8581c82550de"
      },
      "execution_count": null,
      "outputs": [
        {
          "output_type": "display_data",
          "data": {
            "text/html": [
              "<html>\n",
              "<head><meta charset=\"utf-8\" /></head>\n",
              "<body>\n",
              "    <div>            <script src=\"https://cdnjs.cloudflare.com/ajax/libs/mathjax/2.7.5/MathJax.js?config=TeX-AMS-MML_SVG\"></script><script type=\"text/javascript\">if (window.MathJax && window.MathJax.Hub && window.MathJax.Hub.Config) {window.MathJax.Hub.Config({SVG: {font: \"STIX-Web\"}});}</script>                <script type=\"text/javascript\">window.PlotlyConfig = {MathJaxConfig: 'local'};</script>\n",
              "        <script charset=\"utf-8\" src=\"https://cdn.plot.ly/plotly-2.24.1.min.js\"></script>                <div id=\"7d16cb2b-a546-48d5-9a35-5f3018b50857\" class=\"plotly-graph-div\" style=\"height:525px; width:100%;\"></div>            <script type=\"text/javascript\">                                    window.PLOTLYENV=window.PLOTLYENV || {};                                    if (document.getElementById(\"7d16cb2b-a546-48d5-9a35-5f3018b50857\")) {                    Plotly.newPlot(                        \"7d16cb2b-a546-48d5-9a35-5f3018b50857\",                        [{\"hovertemplate\":\"streams=%{x}\\u003cbr\\u003ein_spotify_playlists=%{y}\\u003cextra\\u003e\\u003c\\u002fextra\\u003e\",\"legendgroup\":\"\",\"marker\":{\"color\":\"#636efa\",\"symbol\":\"circle\"},\"mode\":\"markers\",\"name\":\"\",\"orientation\":\"v\",\"showlegend\":false,\"x\":[1806617704,539595276,1115880852,95623148,217672943,777765388,528544703,194902696,530511203,354065229,1449799467,187339835,70106975,37126685,121871870,245400167,345031710,618990393,319546754,57312735,207033255,610045621,367316268,175399345,950906471,256483385,71014967,235549288,150500965,665765558,223582566,30343206,609293408,125917280,250305248,305771063,756907987,502574952,1410088830,189476119,2808096550,263453310,156658366,11956641,319757142,288101651,212351890,999748277,611994237,3703895074,516784627,376333030,91473363,78139948,261116938,104992946,363472647,174006928,185392587,1456081449,182978249,920797189,38411956,501541661,301242089,1435127549,170732845,1406111294,203436468,223064273,448500832,129314708,184706613,489945871,672656250,159240673,147290338,127026613,834129063,1089402494,391251368,1661187319,236872197,238350348,265882712,2594040133,89933133,1122364376,107642809,311482393,421135627,2559529074,173627354,401036314,1593270737,694525298,146363130,186104310,246127838,93367537,155653938,219196651,924193303,32761689,841749534,302006641,426204830,295307001,368646862,372476382,370068639,1223481149,247689123,57945987,319566866,41210087,1062956628,294352144,479655659,158950978,317622165,283332261,797402345,135611421,34450974,195918494,800840817,2135158446,185408548,1357608774,201660859,231332117,571386359,198275403,78489819,2236667932,123122413,190981339,278920007,1264310836,983637508,79095270,157058870,90839753,303216294,88103848,31959571,179659294,187701588,81350745,723894473,1024858327,173702135,1163093654,323358833,76831876,1735441776,888046992,403939487,94005786,78300654,421365166,50847624,991336132,726434358,1023187129,467727006,471819764,573633020,133895612,1472799873,705469769,184807630,882831184,570515054,110849052,382199619,46065667,244928911,354495408,500340342,134294498,140003974,463564958,1592909789,233671263,326792833,387570742,109091573,1355959075,110649992,743693613,254218729,1180896317,244741137,148469433,37778188,127408954,133753727,681583126,838586769,253650850,939844851,2713922350,674072710,674772936,2132335812,657723613,93587665,404887295,57876440,373199958,1814349763,460492795,277132266,2288695111,305650299,195628667,127309180,229497852,506778838,1085685420,327498031,137123880,594482982,163284000,582863434,769213520,183706234,1159176109,933815613,272377463,119238316,387080183,1093605526,286400165,97610446,1260594497,599770206,191333656,106919680,293186992,1647990401,646886885,71095708,1145727611,157136970,66902503,164856284,236060709,180577478,346127840,32526947,2282771485,54266102,65362788,1304313953,553634067,1449779435,2159346687,330346424,1479115056,222410722,2864791672,295998468,726837877,88791109,198365537,1200808494,1279434863,356709897,94616487,843957510,67540165,1116995633,237351106,1608045237,265548837,202677468,11599388,357580552,408843328,538115192,436027885,1361425037,264717480,70069745,1374581173,606361689,203680270,850608354,1356565093,2011464183,446390129,283359161,39709092,53729194,686734357,673801126,309653982,135079152,380319238,345903614,53987404,671365962,181831132,412795151,271666301,33381454,2280566092,170413877,189236868,1252563873,297328960,176553476,1221813483,684675814,199386237,332506354,149778242,244585109,86773632,121189256,103762518,177740666,1223481149,1575467011,920045682,618885532,951637566,1061966512,338564981,822239726,339473453,885093467,546191065,1813673666,2009094673,466214729,116903579,1840364617,482257456,498960285,582981380,221409663,1138474110,138517666,213438580,560222750,284819874,203221468,55842345,122763672,136676504,53909146,131746175,2086124197,181382590,2557975762,363369738,918915401,1042568408,449701773,24975653,184308753,311395144,65719930,608334048,146409671,154797871,485285717,52722996,64787943,153454328,415932686,725980112,86176890,363467642,317726339,65496046,295152154,607123776,405136812,273194684,1109433169,239411309,1439191367,255932395,210038833,51985779,123216717,225259194,181328253,54682594,1230675890,258714692,56533272,195576623,209106362,328207708,397582059,433356509,1555511105,703301727,621660989,300983101,176290831,14780425,142095275,85924992,972509632,677389855,37307967,77377503,153240879,1481349984,22581161,806397070,383550148,68616963,1424589568,2303033973,244790012,593917618,118381354,95816024,608228647,344055883,135444283,807015863,1180094974,106249219,389771964,154863153,1763363713,956865266,261414174,342779426,445590495,222612678,428685680,2513188493,887906111,164163229,585695368,134255790,457184829,236857112,698086140,513643924,136996305,93438910,114546317,843309044,152850295,266624541,136689549,202452860,1479264469,185240616,107753850,826623384,812019557,1056760045,1202722675,1205951614,629173063,972164968,236940480,1690192927,165484133,304079786,96180277,156777415,381161027,195516622,624515457,481697415,197643795,81419389,1887039593,1065580332,61105704,184937148,118810253,863756573,221752937,1759567999,338422004,47956378,61245289,1168642797,62019074,1007612429,301051721,775542072,81102253,56870689,248511839,107255472,46142772,1445941661,399686758,168684524,199587884,1699402402,57144458,432702334,822633917,473248298,786181836,77309611,721975598,126443991,651732901,685071800,49262961,95217315,191448892,395591396,273005485,147538971,31873544,96273746,233801632,261286503,287278853,1457139296,349585590,655466831,1695712020,1301799902,42485571,462791599,60350538,176474912,1210599487,153372011,2123309722,1302184087,411747614,223633238,290833204,92035115,105062254,229473310,304118600,704171068,838079900,162887075,1241559043,1217120710,496311364,168448603,556585270,429829812,404664135,200647221,190490915,417230415,1127468248,1047480053,1788326445,540539717,37091576,156898322,2665343922,76910644,118482347,929964809,783706581,334733572,635412045,71423324,198883004,1131090940,720434240,1692897992,1591223784,161460990,127027715,578207856,1022258230,0,223319934,367814306,183273246,355219175,91656026,1297026226,284908316,293466523,652704649,60680939,211050784,211372494,583687007,157990698,1309887447,611700552,527033089,284785823,663832097,124407432,488386797,477033549,52135248,313113297,323455692,312622938,459276435,123473120,532336353,797196073,751134527,362361576,167076418,109276132,58255150,176103902,172825906,1858144199,276259178,240661097,1214083358,116599790,73981293,1113838873,50746620,200660871,551305895,357925728,1624165576,865640097,193443895,588955257,73513683,212234990,430977451,61739839,68895644,1791000570,290228626,232896922,759208783,187703102,330881149,156338624,126191104,395591396,58687425,427486004,160845341,94186466,554875730,1365184,380726517,127567540,1256880657,39666245,144565150,1167330737,723043854,47093942,185550869,146789379,170709584,309483971,1284942608,88092256,2204080728,1440757818,307370144,335074782,2322580122,1329090101,2762,374191487,403231558,120847157,84697729,335222234,58149378,156214700,909001996,184826429,71007139,39893489,1970673297,178512385,185236961,187772591,466231982,342897938,98709329,682475162,421040617,286739476,273914335,101114984,53933526,91781263,57089066,393230256,165584767,809306935,95053634,138334433,206399629,505671438,245350949,137070925,1235005533,448843705,29562220,2420461338,54937991,85559365,117747907,366214458,67070410,101780047,307752576,988515741,394030335,510876816,1605224506,74601456,75476209,1271293243,123132751,284216603,1163620694,95131998,497225336,58890931,65156199,115331792,41924466,1608164312,244891912,267758538,726307468,231996128,39228929,179061440,133716286,252871192,191873381,2591224264,1641426668,246376690,624101957,1316855716,322336177,244658767,824420218,16011326,496795686,716591492,218320587,36912123,212109195,141720999,789753877,1714490998,540654286,1047101291,1929770265,404562836,248088961,2565529693,480507035,175097833,139193812,429504768,339659802,52294266,116334601,77337771,1897517891,1947371785,190625045,383835984,106933107,482175240,263280370,675039469,112436403,343197054,1687664027,64714573,284249832,299634472,86444842,76767396,140430339,247737946,135723538,518745108,83021468,2887241814,3562543890,303236322,146223492,113509496,1553497987,2197010679,117206995,690104769,178660459,240769997,741301563,141381703],\"xaxis\":\"x\",\"y\":[51979,4771,14417,579,1240,4204,6556,2129,6734,3643,11087,1597,332,259,1180,1034,2321,4284,1681,773,1638,3272,849,888,13801,2649,254,452,1992,3257,1845,86,5281,604,1962,753,6111,3956,18515,615,24094,1254,1966,293,866,536,1209,9082,7495,43899,4999,4651,953,398,6952,1444,892,852,1473,17354,328,7963,31,2868,5542,6398,2107,10195,481,1608,4576,685,2264,5481,5073,836,356,291,9408,20015,2881,2420,2605,2528,794,18986,262,10211,359,3291,2393,16596,373,2959,22439,8737,686,1747,897,1045,1420,1456,11985,197,13091,829,5342,3879,9514,3909,1930,824,3682,1134,288,1103,7109,2418,1796,265,509,1004,4731,353,203,5328,7858,23804,975,10624,2988,1267,3045,406,2849,18778,1150,1185,1647,9037,20333,279,1446,1094,629,1420,768,213,648,1064,9021,21811,3486,8109,889,2308,12329,4375,1685,1042,250,2499,675,6646,4427,7556,5443,3301,4657,1320,35684,4188,220,8448,3372,1127,2224,381,1189,692,4049,531,1397,995,33898,1933,4440,3528,1550,11434,880,7461,2350,6955,2050,811,1545,2988,577,2335,168,1948,7681,43257,4637,12403,19664,6457,454,924,2259,3506,13315,10829,2537,14749,1443,5263,3107,629,3297,8431,272,158,5199,1484,2948,14994,2186,22153,52898,1911,1915,2668,26792,2110,367,9644,3947,1930,1351,3242,2483,1776,486,15890,584,871,514,2094,2577,2005,166,16413,1004,892,9539,2953,25653,16636,457,44927,2019,24529,6290,5669,356,1652,3659,17138,4094,461,6036,989,3423,4627,8327,767,200,437,1561,1959,3794,961,20111,799,242,5897,4796,2578,3069,8506,29215,6512,829,267,555,7731,5375,3469,1175,2468,1150,330,2590,713,1959,2942,1890,33032,1338,2171,8207,3311,584,9161,6518,688,2616,1529,5153,551,945,472,4277,6180,15867,10431,5871,5398,6127,3009,29499,2226,6587,4673,18371,31123,4431,2297,26694,4169,2742,1795,1701,7191,967,1612,6308,9389,968,201,482,2313,181,767,27221,1274,22543,596,17115,6672,3282,214,1368,3517,1211,1801,1208,802,6596,660,1040,984,2585,3090,2291,3098,2304,290,685,7324,1788,2302,12482,2520,13454,539,574,215,3028,2795,1800,1329,8576,2026,282,2915,1097,2699,1154,2612,12755,19806,4564,4531,870,410,561,1601,10565,9243,715,407,1729,1622,864,21574,4963,547,20763,27119,5898,5403,273,209,2482,1195,290,8429,6638,1060,11500,1545,11215,7370,1057,2551,8775,1473,4827,23575,17504,928,3618,2098,3995,660,8084,3506,608,387,327,31762,415,2127,313,1613,14143,1282,1298,10426,7923,8476,30427,41751,9577,7536,759,49991,6060,3006,1169,162,1985,1602,2226,14169,625,1168,15563,4260,875,1150,244,12043,2402,9974,892,67,859,11975,819,7215,761,3423,283,899,1401,2096,588,14140,2839,1054,1986,12854,811,6392,8186,10585,7830,266,5724,226,4893,4214,714,1096,2814,11940,2995,1283,86,451,894,2999,527,42798,2235,7615,22923,6170,1493,7758,2415,1639,33966,1133,22730,10147,1507,2114,2775,327,1190,1856,2651,6080,4198,432,12985,13985,3766,340,5491,2420,10114,1313,816,1112,9771,4004,33783,2696,1194,2575,17050,351,674,3859,3681,4449,3246,2939,731,7124,3107,8528,12688,681,3299,3221,3600,2877,1560,2128,246,2012,1178,12859,2536,4526,3741,807,5120,461,4635,1264,14114,1275,2954,2163,8879,788,3763,2598,516,1179,782,1188,2461,3113,5129,15894,4511,1769,925,1051,422,894,2528,12685,1682,1105,6804,615,827,21335,910,2800,1963,4053,25065,5728,2939,5148,573,651,1783,1480,1635,21164,1211,839,4890,1900,736,5184,2729,7930,1860,6890,896,727,3444,138,3645,2000,7545,277,2175,5866,6858,308,1301,1430,430,2460,13101,906,23375,8870,592,4096,21915,9424,763,1678,1029,918,766,2610,714,542,4572,801,161,715,50887,859,625,540,6339,2346,1007,5415,4091,5290,1494,1292,811,1057,896,2780,2040,6821,324,896,1020,2876,8612,1517,36843,2459,77,15722,620,991,1730,3218,596,1116,2341,6330,2844,3047,21097,1014,918,36724,366,4967,14739,804,5730,329,1117,1584,733,30992,407,1756,3202,1492,139,1379,1474,3541,1112,28032,21106,590,10826,12211,3328,1640,3006,525,2942,6809,1936,99,802,1794,17852,12382,492,13387,33206,3818,893,29536,3006,2066,315,888,3711,266,320,246,27705,25744,3983,5115,1370,1524,795,19067,1007,2711,21081,847,349,3501,332,349,668,521,2209,3408,430,17836,32181,3133,869,1197,41231,40112,1235,5140,4326,4310,10326,553],\"yaxis\":\"y\",\"type\":\"scatter\"}],                        {\"template\":{\"data\":{\"histogram2dcontour\":[{\"type\":\"histogram2dcontour\",\"colorbar\":{\"outlinewidth\":0,\"ticks\":\"\"},\"colorscale\":[[0.0,\"#0d0887\"],[0.1111111111111111,\"#46039f\"],[0.2222222222222222,\"#7201a8\"],[0.3333333333333333,\"#9c179e\"],[0.4444444444444444,\"#bd3786\"],[0.5555555555555556,\"#d8576b\"],[0.6666666666666666,\"#ed7953\"],[0.7777777777777778,\"#fb9f3a\"],[0.8888888888888888,\"#fdca26\"],[1.0,\"#f0f921\"]]}],\"choropleth\":[{\"type\":\"choropleth\",\"colorbar\":{\"outlinewidth\":0,\"ticks\":\"\"}}],\"histogram2d\":[{\"type\":\"histogram2d\",\"colorbar\":{\"outlinewidth\":0,\"ticks\":\"\"},\"colorscale\":[[0.0,\"#0d0887\"],[0.1111111111111111,\"#46039f\"],[0.2222222222222222,\"#7201a8\"],[0.3333333333333333,\"#9c179e\"],[0.4444444444444444,\"#bd3786\"],[0.5555555555555556,\"#d8576b\"],[0.6666666666666666,\"#ed7953\"],[0.7777777777777778,\"#fb9f3a\"],[0.8888888888888888,\"#fdca26\"],[1.0,\"#f0f921\"]]}],\"heatmap\":[{\"type\":\"heatmap\",\"colorbar\":{\"outlinewidth\":0,\"ticks\":\"\"},\"colorscale\":[[0.0,\"#0d0887\"],[0.1111111111111111,\"#46039f\"],[0.2222222222222222,\"#7201a8\"],[0.3333333333333333,\"#9c179e\"],[0.4444444444444444,\"#bd3786\"],[0.5555555555555556,\"#d8576b\"],[0.6666666666666666,\"#ed7953\"],[0.7777777777777778,\"#fb9f3a\"],[0.8888888888888888,\"#fdca26\"],[1.0,\"#f0f921\"]]}],\"heatmapgl\":[{\"type\":\"heatmapgl\",\"colorbar\":{\"outlinewidth\":0,\"ticks\":\"\"},\"colorscale\":[[0.0,\"#0d0887\"],[0.1111111111111111,\"#46039f\"],[0.2222222222222222,\"#7201a8\"],[0.3333333333333333,\"#9c179e\"],[0.4444444444444444,\"#bd3786\"],[0.5555555555555556,\"#d8576b\"],[0.6666666666666666,\"#ed7953\"],[0.7777777777777778,\"#fb9f3a\"],[0.8888888888888888,\"#fdca26\"],[1.0,\"#f0f921\"]]}],\"contourcarpet\":[{\"type\":\"contourcarpet\",\"colorbar\":{\"outlinewidth\":0,\"ticks\":\"\"}}],\"contour\":[{\"type\":\"contour\",\"colorbar\":{\"outlinewidth\":0,\"ticks\":\"\"},\"colorscale\":[[0.0,\"#0d0887\"],[0.1111111111111111,\"#46039f\"],[0.2222222222222222,\"#7201a8\"],[0.3333333333333333,\"#9c179e\"],[0.4444444444444444,\"#bd3786\"],[0.5555555555555556,\"#d8576b\"],[0.6666666666666666,\"#ed7953\"],[0.7777777777777778,\"#fb9f3a\"],[0.8888888888888888,\"#fdca26\"],[1.0,\"#f0f921\"]]}],\"surface\":[{\"type\":\"surface\",\"colorbar\":{\"outlinewidth\":0,\"ticks\":\"\"},\"colorscale\":[[0.0,\"#0d0887\"],[0.1111111111111111,\"#46039f\"],[0.2222222222222222,\"#7201a8\"],[0.3333333333333333,\"#9c179e\"],[0.4444444444444444,\"#bd3786\"],[0.5555555555555556,\"#d8576b\"],[0.6666666666666666,\"#ed7953\"],[0.7777777777777778,\"#fb9f3a\"],[0.8888888888888888,\"#fdca26\"],[1.0,\"#f0f921\"]]}],\"mesh3d\":[{\"type\":\"mesh3d\",\"colorbar\":{\"outlinewidth\":0,\"ticks\":\"\"}}],\"scatter\":[{\"fillpattern\":{\"fillmode\":\"overlay\",\"size\":10,\"solidity\":0.2},\"type\":\"scatter\"}],\"parcoords\":[{\"type\":\"parcoords\",\"line\":{\"colorbar\":{\"outlinewidth\":0,\"ticks\":\"\"}}}],\"scatterpolargl\":[{\"type\":\"scatterpolargl\",\"marker\":{\"colorbar\":{\"outlinewidth\":0,\"ticks\":\"\"}}}],\"bar\":[{\"error_x\":{\"color\":\"#2a3f5f\"},\"error_y\":{\"color\":\"#2a3f5f\"},\"marker\":{\"line\":{\"color\":\"#E5ECF6\",\"width\":0.5},\"pattern\":{\"fillmode\":\"overlay\",\"size\":10,\"solidity\":0.2}},\"type\":\"bar\"}],\"scattergeo\":[{\"type\":\"scattergeo\",\"marker\":{\"colorbar\":{\"outlinewidth\":0,\"ticks\":\"\"}}}],\"scatterpolar\":[{\"type\":\"scatterpolar\",\"marker\":{\"colorbar\":{\"outlinewidth\":0,\"ticks\":\"\"}}}],\"histogram\":[{\"marker\":{\"pattern\":{\"fillmode\":\"overlay\",\"size\":10,\"solidity\":0.2}},\"type\":\"histogram\"}],\"scattergl\":[{\"type\":\"scattergl\",\"marker\":{\"colorbar\":{\"outlinewidth\":0,\"ticks\":\"\"}}}],\"scatter3d\":[{\"type\":\"scatter3d\",\"line\":{\"colorbar\":{\"outlinewidth\":0,\"ticks\":\"\"}},\"marker\":{\"colorbar\":{\"outlinewidth\":0,\"ticks\":\"\"}}}],\"scattermapbox\":[{\"type\":\"scattermapbox\",\"marker\":{\"colorbar\":{\"outlinewidth\":0,\"ticks\":\"\"}}}],\"scatterternary\":[{\"type\":\"scatterternary\",\"marker\":{\"colorbar\":{\"outlinewidth\":0,\"ticks\":\"\"}}}],\"scattercarpet\":[{\"type\":\"scattercarpet\",\"marker\":{\"colorbar\":{\"outlinewidth\":0,\"ticks\":\"\"}}}],\"carpet\":[{\"aaxis\":{\"endlinecolor\":\"#2a3f5f\",\"gridcolor\":\"white\",\"linecolor\":\"white\",\"minorgridcolor\":\"white\",\"startlinecolor\":\"#2a3f5f\"},\"baxis\":{\"endlinecolor\":\"#2a3f5f\",\"gridcolor\":\"white\",\"linecolor\":\"white\",\"minorgridcolor\":\"white\",\"startlinecolor\":\"#2a3f5f\"},\"type\":\"carpet\"}],\"table\":[{\"cells\":{\"fill\":{\"color\":\"#EBF0F8\"},\"line\":{\"color\":\"white\"}},\"header\":{\"fill\":{\"color\":\"#C8D4E3\"},\"line\":{\"color\":\"white\"}},\"type\":\"table\"}],\"barpolar\":[{\"marker\":{\"line\":{\"color\":\"#E5ECF6\",\"width\":0.5},\"pattern\":{\"fillmode\":\"overlay\",\"size\":10,\"solidity\":0.2}},\"type\":\"barpolar\"}],\"pie\":[{\"automargin\":true,\"type\":\"pie\"}]},\"layout\":{\"autotypenumbers\":\"strict\",\"colorway\":[\"#636efa\",\"#EF553B\",\"#00cc96\",\"#ab63fa\",\"#FFA15A\",\"#19d3f3\",\"#FF6692\",\"#B6E880\",\"#FF97FF\",\"#FECB52\"],\"font\":{\"color\":\"#2a3f5f\"},\"hovermode\":\"closest\",\"hoverlabel\":{\"align\":\"left\"},\"paper_bgcolor\":\"white\",\"plot_bgcolor\":\"#E5ECF6\",\"polar\":{\"bgcolor\":\"#E5ECF6\",\"angularaxis\":{\"gridcolor\":\"white\",\"linecolor\":\"white\",\"ticks\":\"\"},\"radialaxis\":{\"gridcolor\":\"white\",\"linecolor\":\"white\",\"ticks\":\"\"}},\"ternary\":{\"bgcolor\":\"#E5ECF6\",\"aaxis\":{\"gridcolor\":\"white\",\"linecolor\":\"white\",\"ticks\":\"\"},\"baxis\":{\"gridcolor\":\"white\",\"linecolor\":\"white\",\"ticks\":\"\"},\"caxis\":{\"gridcolor\":\"white\",\"linecolor\":\"white\",\"ticks\":\"\"}},\"coloraxis\":{\"colorbar\":{\"outlinewidth\":0,\"ticks\":\"\"}},\"colorscale\":{\"sequential\":[[0.0,\"#0d0887\"],[0.1111111111111111,\"#46039f\"],[0.2222222222222222,\"#7201a8\"],[0.3333333333333333,\"#9c179e\"],[0.4444444444444444,\"#bd3786\"],[0.5555555555555556,\"#d8576b\"],[0.6666666666666666,\"#ed7953\"],[0.7777777777777778,\"#fb9f3a\"],[0.8888888888888888,\"#fdca26\"],[1.0,\"#f0f921\"]],\"sequentialminus\":[[0.0,\"#0d0887\"],[0.1111111111111111,\"#46039f\"],[0.2222222222222222,\"#7201a8\"],[0.3333333333333333,\"#9c179e\"],[0.4444444444444444,\"#bd3786\"],[0.5555555555555556,\"#d8576b\"],[0.6666666666666666,\"#ed7953\"],[0.7777777777777778,\"#fb9f3a\"],[0.8888888888888888,\"#fdca26\"],[1.0,\"#f0f921\"]],\"diverging\":[[0,\"#8e0152\"],[0.1,\"#c51b7d\"],[0.2,\"#de77ae\"],[0.3,\"#f1b6da\"],[0.4,\"#fde0ef\"],[0.5,\"#f7f7f7\"],[0.6,\"#e6f5d0\"],[0.7,\"#b8e186\"],[0.8,\"#7fbc41\"],[0.9,\"#4d9221\"],[1,\"#276419\"]]},\"xaxis\":{\"gridcolor\":\"white\",\"linecolor\":\"white\",\"ticks\":\"\",\"title\":{\"standoff\":15},\"zerolinecolor\":\"white\",\"automargin\":true,\"zerolinewidth\":2},\"yaxis\":{\"gridcolor\":\"white\",\"linecolor\":\"white\",\"ticks\":\"\",\"title\":{\"standoff\":15},\"zerolinecolor\":\"white\",\"automargin\":true,\"zerolinewidth\":2},\"scene\":{\"xaxis\":{\"backgroundcolor\":\"#E5ECF6\",\"gridcolor\":\"white\",\"linecolor\":\"white\",\"showbackground\":true,\"ticks\":\"\",\"zerolinecolor\":\"white\",\"gridwidth\":2},\"yaxis\":{\"backgroundcolor\":\"#E5ECF6\",\"gridcolor\":\"white\",\"linecolor\":\"white\",\"showbackground\":true,\"ticks\":\"\",\"zerolinecolor\":\"white\",\"gridwidth\":2},\"zaxis\":{\"backgroundcolor\":\"#E5ECF6\",\"gridcolor\":\"white\",\"linecolor\":\"white\",\"showbackground\":true,\"ticks\":\"\",\"zerolinecolor\":\"white\",\"gridwidth\":2}},\"shapedefaults\":{\"line\":{\"color\":\"#2a3f5f\"}},\"annotationdefaults\":{\"arrowcolor\":\"#2a3f5f\",\"arrowhead\":0,\"arrowwidth\":1},\"geo\":{\"bgcolor\":\"white\",\"landcolor\":\"#E5ECF6\",\"subunitcolor\":\"white\",\"showland\":true,\"showlakes\":true,\"lakecolor\":\"white\"},\"title\":{\"x\":0.05},\"mapbox\":{\"style\":\"light\"}}},\"xaxis\":{\"anchor\":\"y\",\"domain\":[0.0,1.0],\"title\":{\"text\":\"streams\"}},\"yaxis\":{\"anchor\":\"x\",\"domain\":[0.0,1.0],\"title\":{\"text\":\"in_spotify_playlists\"}},\"legend\":{\"tracegroupgap\":0},\"title\":{\"text\":\"Relationship Between Streams and Spotify Playlist Inclusions\"}},                        {\"responsive\": true}                    ).then(function(){\n",
              "                            \n",
              "var gd = document.getElementById('7d16cb2b-a546-48d5-9a35-5f3018b50857');\n",
              "var x = new MutationObserver(function (mutations, observer) {{\n",
              "        var display = window.getComputedStyle(gd).display;\n",
              "        if (!display || display === 'none') {{\n",
              "            console.log([gd, 'removed!']);\n",
              "            Plotly.purge(gd);\n",
              "            observer.disconnect();\n",
              "        }}\n",
              "}});\n",
              "\n",
              "// Listen for the removal of the full notebook cells\n",
              "var notebookContainer = gd.closest('#notebook-container');\n",
              "if (notebookContainer) {{\n",
              "    x.observe(notebookContainer, {childList: true});\n",
              "}}\n",
              "\n",
              "// Listen for the clearing of the current output cell\n",
              "var outputEl = gd.closest('.output');\n",
              "if (outputEl) {{\n",
              "    x.observe(outputEl, {childList: true});\n",
              "}}\n",
              "\n",
              "                        })                };                            </script>        </div>\n",
              "</body>\n",
              "</html>"
            ]
          },
          "metadata": {}
        }
      ]
    },
    {
      "cell_type": "code",
      "source": [
        "# Calculating the top artists in terms of total streams\n",
        "top_artists_total = df.groupby('artist_name1')['streams'].sum().sort_values(ascending=False).head(10)\n",
        "\n",
        "# Calculating the top artists in terms of average streams\n",
        "top_artists_avg = df.groupby('artist_name1')['streams'].mean().sort_values(ascending=False).head(10)\n",
        "\n",
        "# Create a figure with Plotly graph objects\n",
        "fig = go.Figure()\n",
        "\n",
        "# Add the first bar chart (total streams)\n",
        "fig.add_trace(go.Bar(x=top_artists_total.index, y=top_artists_total, name='Total Streams'))\n",
        "\n",
        "# Add the second bar chart (average streams) but don't display it initially\n",
        "fig.add_trace(go.Bar(x=top_artists_avg.index, y=top_artists_avg, name='Average Streams', visible=False))\n",
        "\n",
        "# Add a dropdown menu with buttons\n",
        "fig.update_layout(\n",
        "    updatemenus=[\n",
        "        dict(\n",
        "            type=\"buttons\",\n",
        "            direction=\"down\",\n",
        "            showactive=True,\n",
        "            buttons=list([\n",
        "                dict(\n",
        "                    label=\"Total Streams\",\n",
        "                    method=\"update\",\n",
        "                    args=[{\"visible\": [True, False]},\n",
        "                          {\"title\": \"Top 10 Artists by Total Streams\"}]),\n",
        "                dict(\n",
        "                    label=\"Average Streams\",\n",
        "                    method=\"update\",\n",
        "                    args=[{\"visible\": [False, True]},\n",
        "                          {\"title\": \"Top 10 Artists by Average Streams\"}])\n",
        "            ]),\n",
        "        )\n",
        "    ],\n",
        "    title=\"Top 10 Artists by Total Streams\"\n",
        ")\n",
        "\n",
        "# Show the figure\n",
        "fig.show()\n"
      ],
      "metadata": {
        "colab": {
          "base_uri": "https://localhost:8080/",
          "height": 542
        },
        "id": "T-XPlyJl0dHA",
        "outputId": "c3991d82-f316-4791-99b7-fd73e5f1f582"
      },
      "execution_count": null,
      "outputs": [
        {
          "output_type": "display_data",
          "data": {
            "text/html": [
              "<html>\n",
              "<head><meta charset=\"utf-8\" /></head>\n",
              "<body>\n",
              "    <div>            <script src=\"https://cdnjs.cloudflare.com/ajax/libs/mathjax/2.7.5/MathJax.js?config=TeX-AMS-MML_SVG\"></script><script type=\"text/javascript\">if (window.MathJax && window.MathJax.Hub && window.MathJax.Hub.Config) {window.MathJax.Hub.Config({SVG: {font: \"STIX-Web\"}});}</script>                <script type=\"text/javascript\">window.PlotlyConfig = {MathJaxConfig: 'local'};</script>\n",
              "        <script charset=\"utf-8\" src=\"https://cdn.plot.ly/plotly-2.24.1.min.js\"></script>                <div id=\"f961ba4f-1088-409f-90e3-354afdb95ea4\" class=\"plotly-graph-div\" style=\"height:525px; width:100%;\"></div>            <script type=\"text/javascript\">                                    window.PLOTLYENV=window.PLOTLYENV || {};                                    if (document.getElementById(\"f961ba4f-1088-409f-90e3-354afdb95ea4\")) {                    Plotly.newPlot(                        \"f961ba4f-1088-409f-90e3-354afdb95ea4\",                        [{\"name\":\"Total Streams\",\"x\":[\"The Weeknd\",\"Bad Bunny\",\"Ed Sheeran\",\"Taylor Swift\",\"Harry Styles\",\"Imagine Dragons\",\"Eminem\",\"Olivia Rodrigo\",\"Bruno Mars\",\"Drake\"],\"y\":[19890292294,16275634337,14191460121,12426836290,11608645649,7719446948,7623906890,7442148916,7346351599,7315713146],\"type\":\"bar\"},{\"name\":\"Average Streams\",\"visible\":false,\"x\":[\"Tones And I\",\"Glass Animals\",\"The Chainsmokers\",\"Queen\",\"Hozier\",\"John Legend\",\"Vance Joy\",\"Tom Odell\",\"The Killers\",\"J. Cole\"],\"y\":[2864791672.0,2557975762.0,2397652496.0,2197010679.0,2135158446.0,2086124197.0,2009094673.0,1813673666.0,1806617704.0,1791000570.0],\"type\":\"bar\"}],                        {\"template\":{\"data\":{\"histogram2dcontour\":[{\"type\":\"histogram2dcontour\",\"colorbar\":{\"outlinewidth\":0,\"ticks\":\"\"},\"colorscale\":[[0.0,\"#0d0887\"],[0.1111111111111111,\"#46039f\"],[0.2222222222222222,\"#7201a8\"],[0.3333333333333333,\"#9c179e\"],[0.4444444444444444,\"#bd3786\"],[0.5555555555555556,\"#d8576b\"],[0.6666666666666666,\"#ed7953\"],[0.7777777777777778,\"#fb9f3a\"],[0.8888888888888888,\"#fdca26\"],[1.0,\"#f0f921\"]]}],\"choropleth\":[{\"type\":\"choropleth\",\"colorbar\":{\"outlinewidth\":0,\"ticks\":\"\"}}],\"histogram2d\":[{\"type\":\"histogram2d\",\"colorbar\":{\"outlinewidth\":0,\"ticks\":\"\"},\"colorscale\":[[0.0,\"#0d0887\"],[0.1111111111111111,\"#46039f\"],[0.2222222222222222,\"#7201a8\"],[0.3333333333333333,\"#9c179e\"],[0.4444444444444444,\"#bd3786\"],[0.5555555555555556,\"#d8576b\"],[0.6666666666666666,\"#ed7953\"],[0.7777777777777778,\"#fb9f3a\"],[0.8888888888888888,\"#fdca26\"],[1.0,\"#f0f921\"]]}],\"heatmap\":[{\"type\":\"heatmap\",\"colorbar\":{\"outlinewidth\":0,\"ticks\":\"\"},\"colorscale\":[[0.0,\"#0d0887\"],[0.1111111111111111,\"#46039f\"],[0.2222222222222222,\"#7201a8\"],[0.3333333333333333,\"#9c179e\"],[0.4444444444444444,\"#bd3786\"],[0.5555555555555556,\"#d8576b\"],[0.6666666666666666,\"#ed7953\"],[0.7777777777777778,\"#fb9f3a\"],[0.8888888888888888,\"#fdca26\"],[1.0,\"#f0f921\"]]}],\"heatmapgl\":[{\"type\":\"heatmapgl\",\"colorbar\":{\"outlinewidth\":0,\"ticks\":\"\"},\"colorscale\":[[0.0,\"#0d0887\"],[0.1111111111111111,\"#46039f\"],[0.2222222222222222,\"#7201a8\"],[0.3333333333333333,\"#9c179e\"],[0.4444444444444444,\"#bd3786\"],[0.5555555555555556,\"#d8576b\"],[0.6666666666666666,\"#ed7953\"],[0.7777777777777778,\"#fb9f3a\"],[0.8888888888888888,\"#fdca26\"],[1.0,\"#f0f921\"]]}],\"contourcarpet\":[{\"type\":\"contourcarpet\",\"colorbar\":{\"outlinewidth\":0,\"ticks\":\"\"}}],\"contour\":[{\"type\":\"contour\",\"colorbar\":{\"outlinewidth\":0,\"ticks\":\"\"},\"colorscale\":[[0.0,\"#0d0887\"],[0.1111111111111111,\"#46039f\"],[0.2222222222222222,\"#7201a8\"],[0.3333333333333333,\"#9c179e\"],[0.4444444444444444,\"#bd3786\"],[0.5555555555555556,\"#d8576b\"],[0.6666666666666666,\"#ed7953\"],[0.7777777777777778,\"#fb9f3a\"],[0.8888888888888888,\"#fdca26\"],[1.0,\"#f0f921\"]]}],\"surface\":[{\"type\":\"surface\",\"colorbar\":{\"outlinewidth\":0,\"ticks\":\"\"},\"colorscale\":[[0.0,\"#0d0887\"],[0.1111111111111111,\"#46039f\"],[0.2222222222222222,\"#7201a8\"],[0.3333333333333333,\"#9c179e\"],[0.4444444444444444,\"#bd3786\"],[0.5555555555555556,\"#d8576b\"],[0.6666666666666666,\"#ed7953\"],[0.7777777777777778,\"#fb9f3a\"],[0.8888888888888888,\"#fdca26\"],[1.0,\"#f0f921\"]]}],\"mesh3d\":[{\"type\":\"mesh3d\",\"colorbar\":{\"outlinewidth\":0,\"ticks\":\"\"}}],\"scatter\":[{\"fillpattern\":{\"fillmode\":\"overlay\",\"size\":10,\"solidity\":0.2},\"type\":\"scatter\"}],\"parcoords\":[{\"type\":\"parcoords\",\"line\":{\"colorbar\":{\"outlinewidth\":0,\"ticks\":\"\"}}}],\"scatterpolargl\":[{\"type\":\"scatterpolargl\",\"marker\":{\"colorbar\":{\"outlinewidth\":0,\"ticks\":\"\"}}}],\"bar\":[{\"error_x\":{\"color\":\"#2a3f5f\"},\"error_y\":{\"color\":\"#2a3f5f\"},\"marker\":{\"line\":{\"color\":\"#E5ECF6\",\"width\":0.5},\"pattern\":{\"fillmode\":\"overlay\",\"size\":10,\"solidity\":0.2}},\"type\":\"bar\"}],\"scattergeo\":[{\"type\":\"scattergeo\",\"marker\":{\"colorbar\":{\"outlinewidth\":0,\"ticks\":\"\"}}}],\"scatterpolar\":[{\"type\":\"scatterpolar\",\"marker\":{\"colorbar\":{\"outlinewidth\":0,\"ticks\":\"\"}}}],\"histogram\":[{\"marker\":{\"pattern\":{\"fillmode\":\"overlay\",\"size\":10,\"solidity\":0.2}},\"type\":\"histogram\"}],\"scattergl\":[{\"type\":\"scattergl\",\"marker\":{\"colorbar\":{\"outlinewidth\":0,\"ticks\":\"\"}}}],\"scatter3d\":[{\"type\":\"scatter3d\",\"line\":{\"colorbar\":{\"outlinewidth\":0,\"ticks\":\"\"}},\"marker\":{\"colorbar\":{\"outlinewidth\":0,\"ticks\":\"\"}}}],\"scattermapbox\":[{\"type\":\"scattermapbox\",\"marker\":{\"colorbar\":{\"outlinewidth\":0,\"ticks\":\"\"}}}],\"scatterternary\":[{\"type\":\"scatterternary\",\"marker\":{\"colorbar\":{\"outlinewidth\":0,\"ticks\":\"\"}}}],\"scattercarpet\":[{\"type\":\"scattercarpet\",\"marker\":{\"colorbar\":{\"outlinewidth\":0,\"ticks\":\"\"}}}],\"carpet\":[{\"aaxis\":{\"endlinecolor\":\"#2a3f5f\",\"gridcolor\":\"white\",\"linecolor\":\"white\",\"minorgridcolor\":\"white\",\"startlinecolor\":\"#2a3f5f\"},\"baxis\":{\"endlinecolor\":\"#2a3f5f\",\"gridcolor\":\"white\",\"linecolor\":\"white\",\"minorgridcolor\":\"white\",\"startlinecolor\":\"#2a3f5f\"},\"type\":\"carpet\"}],\"table\":[{\"cells\":{\"fill\":{\"color\":\"#EBF0F8\"},\"line\":{\"color\":\"white\"}},\"header\":{\"fill\":{\"color\":\"#C8D4E3\"},\"line\":{\"color\":\"white\"}},\"type\":\"table\"}],\"barpolar\":[{\"marker\":{\"line\":{\"color\":\"#E5ECF6\",\"width\":0.5},\"pattern\":{\"fillmode\":\"overlay\",\"size\":10,\"solidity\":0.2}},\"type\":\"barpolar\"}],\"pie\":[{\"automargin\":true,\"type\":\"pie\"}]},\"layout\":{\"autotypenumbers\":\"strict\",\"colorway\":[\"#636efa\",\"#EF553B\",\"#00cc96\",\"#ab63fa\",\"#FFA15A\",\"#19d3f3\",\"#FF6692\",\"#B6E880\",\"#FF97FF\",\"#FECB52\"],\"font\":{\"color\":\"#2a3f5f\"},\"hovermode\":\"closest\",\"hoverlabel\":{\"align\":\"left\"},\"paper_bgcolor\":\"white\",\"plot_bgcolor\":\"#E5ECF6\",\"polar\":{\"bgcolor\":\"#E5ECF6\",\"angularaxis\":{\"gridcolor\":\"white\",\"linecolor\":\"white\",\"ticks\":\"\"},\"radialaxis\":{\"gridcolor\":\"white\",\"linecolor\":\"white\",\"ticks\":\"\"}},\"ternary\":{\"bgcolor\":\"#E5ECF6\",\"aaxis\":{\"gridcolor\":\"white\",\"linecolor\":\"white\",\"ticks\":\"\"},\"baxis\":{\"gridcolor\":\"white\",\"linecolor\":\"white\",\"ticks\":\"\"},\"caxis\":{\"gridcolor\":\"white\",\"linecolor\":\"white\",\"ticks\":\"\"}},\"coloraxis\":{\"colorbar\":{\"outlinewidth\":0,\"ticks\":\"\"}},\"colorscale\":{\"sequential\":[[0.0,\"#0d0887\"],[0.1111111111111111,\"#46039f\"],[0.2222222222222222,\"#7201a8\"],[0.3333333333333333,\"#9c179e\"],[0.4444444444444444,\"#bd3786\"],[0.5555555555555556,\"#d8576b\"],[0.6666666666666666,\"#ed7953\"],[0.7777777777777778,\"#fb9f3a\"],[0.8888888888888888,\"#fdca26\"],[1.0,\"#f0f921\"]],\"sequentialminus\":[[0.0,\"#0d0887\"],[0.1111111111111111,\"#46039f\"],[0.2222222222222222,\"#7201a8\"],[0.3333333333333333,\"#9c179e\"],[0.4444444444444444,\"#bd3786\"],[0.5555555555555556,\"#d8576b\"],[0.6666666666666666,\"#ed7953\"],[0.7777777777777778,\"#fb9f3a\"],[0.8888888888888888,\"#fdca26\"],[1.0,\"#f0f921\"]],\"diverging\":[[0,\"#8e0152\"],[0.1,\"#c51b7d\"],[0.2,\"#de77ae\"],[0.3,\"#f1b6da\"],[0.4,\"#fde0ef\"],[0.5,\"#f7f7f7\"],[0.6,\"#e6f5d0\"],[0.7,\"#b8e186\"],[0.8,\"#7fbc41\"],[0.9,\"#4d9221\"],[1,\"#276419\"]]},\"xaxis\":{\"gridcolor\":\"white\",\"linecolor\":\"white\",\"ticks\":\"\",\"title\":{\"standoff\":15},\"zerolinecolor\":\"white\",\"automargin\":true,\"zerolinewidth\":2},\"yaxis\":{\"gridcolor\":\"white\",\"linecolor\":\"white\",\"ticks\":\"\",\"title\":{\"standoff\":15},\"zerolinecolor\":\"white\",\"automargin\":true,\"zerolinewidth\":2},\"scene\":{\"xaxis\":{\"backgroundcolor\":\"#E5ECF6\",\"gridcolor\":\"white\",\"linecolor\":\"white\",\"showbackground\":true,\"ticks\":\"\",\"zerolinecolor\":\"white\",\"gridwidth\":2},\"yaxis\":{\"backgroundcolor\":\"#E5ECF6\",\"gridcolor\":\"white\",\"linecolor\":\"white\",\"showbackground\":true,\"ticks\":\"\",\"zerolinecolor\":\"white\",\"gridwidth\":2},\"zaxis\":{\"backgroundcolor\":\"#E5ECF6\",\"gridcolor\":\"white\",\"linecolor\":\"white\",\"showbackground\":true,\"ticks\":\"\",\"zerolinecolor\":\"white\",\"gridwidth\":2}},\"shapedefaults\":{\"line\":{\"color\":\"#2a3f5f\"}},\"annotationdefaults\":{\"arrowcolor\":\"#2a3f5f\",\"arrowhead\":0,\"arrowwidth\":1},\"geo\":{\"bgcolor\":\"white\",\"landcolor\":\"#E5ECF6\",\"subunitcolor\":\"white\",\"showland\":true,\"showlakes\":true,\"lakecolor\":\"white\"},\"title\":{\"x\":0.05},\"mapbox\":{\"style\":\"light\"}}},\"updatemenus\":[{\"buttons\":[{\"args\":[{\"visible\":[true,false]},{\"title\":\"Top 10 Artists by Total Streams\"}],\"label\":\"Total Streams\",\"method\":\"update\"},{\"args\":[{\"visible\":[false,true]},{\"title\":\"Top 10 Artists by Average Streams\"}],\"label\":\"Average Streams\",\"method\":\"update\"}],\"direction\":\"down\",\"showactive\":true,\"type\":\"buttons\"}],\"title\":{\"text\":\"Top 10 Artists by Total Streams\"}},                        {\"responsive\": true}                    ).then(function(){\n",
              "                            \n",
              "var gd = document.getElementById('f961ba4f-1088-409f-90e3-354afdb95ea4');\n",
              "var x = new MutationObserver(function (mutations, observer) {{\n",
              "        var display = window.getComputedStyle(gd).display;\n",
              "        if (!display || display === 'none') {{\n",
              "            console.log([gd, 'removed!']);\n",
              "            Plotly.purge(gd);\n",
              "            observer.disconnect();\n",
              "        }}\n",
              "}});\n",
              "\n",
              "// Listen for the removal of the full notebook cells\n",
              "var notebookContainer = gd.closest('#notebook-container');\n",
              "if (notebookContainer) {{\n",
              "    x.observe(notebookContainer, {childList: true});\n",
              "}}\n",
              "\n",
              "// Listen for the clearing of the current output cell\n",
              "var outputEl = gd.closest('.output');\n",
              "if (outputEl) {{\n",
              "    x.observe(outputEl, {childList: true});\n",
              "}}\n",
              "\n",
              "                        })                };                            </script>        </div>\n",
              "</body>\n",
              "</html>"
            ]
          },
          "metadata": {}
        }
      ]
    },
    {
      "cell_type": "code",
      "source": [
        "# Group by song name and artist name, then sum the streams\n",
        "top_songs = df.groupby(['song_name', 'artist_name1'])['streams'].sum().reset_index()\n",
        "\n",
        "# Sort the songs by total streams and select the top 10\n",
        "top_songs = top_songs.sort_values(by='streams', ascending=False).head(10)\n",
        "\n",
        "\n",
        "# Create the bar plot\n",
        "fig = px.bar(top_songs, x='song_name', y='streams',\n",
        "             hover_data=['artist_name1'],\n",
        "             title='Top 10 Most Streamed Songs',\n",
        "             labels={'song_name': 'Song Name', 'streams': 'Total Streams', 'artist_name1': 'Main Artist'})\n",
        "\n",
        "# Show the plot\n",
        "fig.show()"
      ],
      "metadata": {
        "colab": {
          "base_uri": "https://localhost:8080/",
          "height": 542
        },
        "id": "fkSmnntQ2Bmf",
        "outputId": "e555b1ab-5425-46d9-8065-9afc249cbdab"
      },
      "execution_count": null,
      "outputs": [
        {
          "output_type": "display_data",
          "data": {
            "text/html": [
              "<html>\n",
              "<head><meta charset=\"utf-8\" /></head>\n",
              "<body>\n",
              "    <div>            <script src=\"https://cdnjs.cloudflare.com/ajax/libs/mathjax/2.7.5/MathJax.js?config=TeX-AMS-MML_SVG\"></script><script type=\"text/javascript\">if (window.MathJax && window.MathJax.Hub && window.MathJax.Hub.Config) {window.MathJax.Hub.Config({SVG: {font: \"STIX-Web\"}});}</script>                <script type=\"text/javascript\">window.PlotlyConfig = {MathJaxConfig: 'local'};</script>\n",
              "        <script charset=\"utf-8\" src=\"https://cdn.plot.ly/plotly-2.24.1.min.js\"></script>                <div id=\"7c484a37-a57e-4082-91ab-d92b05478e4a\" class=\"plotly-graph-div\" style=\"height:525px; width:100%;\"></div>            <script type=\"text/javascript\">                                    window.PLOTLYENV=window.PLOTLYENV || {};                                    if (document.getElementById(\"7c484a37-a57e-4082-91ab-d92b05478e4a\")) {                    Plotly.newPlot(                        \"7c484a37-a57e-4082-91ab-d92b05478e4a\",                        [{\"alignmentgroup\":\"True\",\"customdata\":[[\"The Weeknd\"],[\"Ed Sheeran\"],[\"Lewis Capaldi\"],[\"Tones And I\"],[\"Post Malone\"],[\"Drake\"],[\"The Kid LAROI\"],[\"Imagine Dragons\"],[\"The Chainsmokers\"],[\"The Weeknd\"]],\"hovertemplate\":\"Song Name=%{x}\\u003cbr\\u003eTotal Streams=%{y}\\u003cbr\\u003eMain Artist=%{customdata[0]}\\u003cextra\\u003e\\u003c\\u002fextra\\u003e\",\"legendgroup\":\"\",\"marker\":{\"color\":\"#636efa\",\"pattern\":{\"shape\":\"\"}},\"name\":\"\",\"offsetgroup\":\"\",\"orientation\":\"v\",\"showlegend\":false,\"textposition\":\"auto\",\"x\":[\"Blinding Lights\",\"Shape of You\",\"Someone You Loved\",\"Dance Monkey\",\"Sunflower - Spider-Man: Into the Spider-Verse\",\"One Dance\",\"STAY (with Justin Bieber)\",\"Believer\",\"Closer\",\"Starboy\"],\"xaxis\":\"x\",\"y\":[3703895074,3562543890,2887241814,2864791672,2808096550,2713922350,2665343922,2594040133,2591224264,2565529693],\"yaxis\":\"y\",\"type\":\"bar\"}],                        {\"template\":{\"data\":{\"histogram2dcontour\":[{\"type\":\"histogram2dcontour\",\"colorbar\":{\"outlinewidth\":0,\"ticks\":\"\"},\"colorscale\":[[0.0,\"#0d0887\"],[0.1111111111111111,\"#46039f\"],[0.2222222222222222,\"#7201a8\"],[0.3333333333333333,\"#9c179e\"],[0.4444444444444444,\"#bd3786\"],[0.5555555555555556,\"#d8576b\"],[0.6666666666666666,\"#ed7953\"],[0.7777777777777778,\"#fb9f3a\"],[0.8888888888888888,\"#fdca26\"],[1.0,\"#f0f921\"]]}],\"choropleth\":[{\"type\":\"choropleth\",\"colorbar\":{\"outlinewidth\":0,\"ticks\":\"\"}}],\"histogram2d\":[{\"type\":\"histogram2d\",\"colorbar\":{\"outlinewidth\":0,\"ticks\":\"\"},\"colorscale\":[[0.0,\"#0d0887\"],[0.1111111111111111,\"#46039f\"],[0.2222222222222222,\"#7201a8\"],[0.3333333333333333,\"#9c179e\"],[0.4444444444444444,\"#bd3786\"],[0.5555555555555556,\"#d8576b\"],[0.6666666666666666,\"#ed7953\"],[0.7777777777777778,\"#fb9f3a\"],[0.8888888888888888,\"#fdca26\"],[1.0,\"#f0f921\"]]}],\"heatmap\":[{\"type\":\"heatmap\",\"colorbar\":{\"outlinewidth\":0,\"ticks\":\"\"},\"colorscale\":[[0.0,\"#0d0887\"],[0.1111111111111111,\"#46039f\"],[0.2222222222222222,\"#7201a8\"],[0.3333333333333333,\"#9c179e\"],[0.4444444444444444,\"#bd3786\"],[0.5555555555555556,\"#d8576b\"],[0.6666666666666666,\"#ed7953\"],[0.7777777777777778,\"#fb9f3a\"],[0.8888888888888888,\"#fdca26\"],[1.0,\"#f0f921\"]]}],\"heatmapgl\":[{\"type\":\"heatmapgl\",\"colorbar\":{\"outlinewidth\":0,\"ticks\":\"\"},\"colorscale\":[[0.0,\"#0d0887\"],[0.1111111111111111,\"#46039f\"],[0.2222222222222222,\"#7201a8\"],[0.3333333333333333,\"#9c179e\"],[0.4444444444444444,\"#bd3786\"],[0.5555555555555556,\"#d8576b\"],[0.6666666666666666,\"#ed7953\"],[0.7777777777777778,\"#fb9f3a\"],[0.8888888888888888,\"#fdca26\"],[1.0,\"#f0f921\"]]}],\"contourcarpet\":[{\"type\":\"contourcarpet\",\"colorbar\":{\"outlinewidth\":0,\"ticks\":\"\"}}],\"contour\":[{\"type\":\"contour\",\"colorbar\":{\"outlinewidth\":0,\"ticks\":\"\"},\"colorscale\":[[0.0,\"#0d0887\"],[0.1111111111111111,\"#46039f\"],[0.2222222222222222,\"#7201a8\"],[0.3333333333333333,\"#9c179e\"],[0.4444444444444444,\"#bd3786\"],[0.5555555555555556,\"#d8576b\"],[0.6666666666666666,\"#ed7953\"],[0.7777777777777778,\"#fb9f3a\"],[0.8888888888888888,\"#fdca26\"],[1.0,\"#f0f921\"]]}],\"surface\":[{\"type\":\"surface\",\"colorbar\":{\"outlinewidth\":0,\"ticks\":\"\"},\"colorscale\":[[0.0,\"#0d0887\"],[0.1111111111111111,\"#46039f\"],[0.2222222222222222,\"#7201a8\"],[0.3333333333333333,\"#9c179e\"],[0.4444444444444444,\"#bd3786\"],[0.5555555555555556,\"#d8576b\"],[0.6666666666666666,\"#ed7953\"],[0.7777777777777778,\"#fb9f3a\"],[0.8888888888888888,\"#fdca26\"],[1.0,\"#f0f921\"]]}],\"mesh3d\":[{\"type\":\"mesh3d\",\"colorbar\":{\"outlinewidth\":0,\"ticks\":\"\"}}],\"scatter\":[{\"fillpattern\":{\"fillmode\":\"overlay\",\"size\":10,\"solidity\":0.2},\"type\":\"scatter\"}],\"parcoords\":[{\"type\":\"parcoords\",\"line\":{\"colorbar\":{\"outlinewidth\":0,\"ticks\":\"\"}}}],\"scatterpolargl\":[{\"type\":\"scatterpolargl\",\"marker\":{\"colorbar\":{\"outlinewidth\":0,\"ticks\":\"\"}}}],\"bar\":[{\"error_x\":{\"color\":\"#2a3f5f\"},\"error_y\":{\"color\":\"#2a3f5f\"},\"marker\":{\"line\":{\"color\":\"#E5ECF6\",\"width\":0.5},\"pattern\":{\"fillmode\":\"overlay\",\"size\":10,\"solidity\":0.2}},\"type\":\"bar\"}],\"scattergeo\":[{\"type\":\"scattergeo\",\"marker\":{\"colorbar\":{\"outlinewidth\":0,\"ticks\":\"\"}}}],\"scatterpolar\":[{\"type\":\"scatterpolar\",\"marker\":{\"colorbar\":{\"outlinewidth\":0,\"ticks\":\"\"}}}],\"histogram\":[{\"marker\":{\"pattern\":{\"fillmode\":\"overlay\",\"size\":10,\"solidity\":0.2}},\"type\":\"histogram\"}],\"scattergl\":[{\"type\":\"scattergl\",\"marker\":{\"colorbar\":{\"outlinewidth\":0,\"ticks\":\"\"}}}],\"scatter3d\":[{\"type\":\"scatter3d\",\"line\":{\"colorbar\":{\"outlinewidth\":0,\"ticks\":\"\"}},\"marker\":{\"colorbar\":{\"outlinewidth\":0,\"ticks\":\"\"}}}],\"scattermapbox\":[{\"type\":\"scattermapbox\",\"marker\":{\"colorbar\":{\"outlinewidth\":0,\"ticks\":\"\"}}}],\"scatterternary\":[{\"type\":\"scatterternary\",\"marker\":{\"colorbar\":{\"outlinewidth\":0,\"ticks\":\"\"}}}],\"scattercarpet\":[{\"type\":\"scattercarpet\",\"marker\":{\"colorbar\":{\"outlinewidth\":0,\"ticks\":\"\"}}}],\"carpet\":[{\"aaxis\":{\"endlinecolor\":\"#2a3f5f\",\"gridcolor\":\"white\",\"linecolor\":\"white\",\"minorgridcolor\":\"white\",\"startlinecolor\":\"#2a3f5f\"},\"baxis\":{\"endlinecolor\":\"#2a3f5f\",\"gridcolor\":\"white\",\"linecolor\":\"white\",\"minorgridcolor\":\"white\",\"startlinecolor\":\"#2a3f5f\"},\"type\":\"carpet\"}],\"table\":[{\"cells\":{\"fill\":{\"color\":\"#EBF0F8\"},\"line\":{\"color\":\"white\"}},\"header\":{\"fill\":{\"color\":\"#C8D4E3\"},\"line\":{\"color\":\"white\"}},\"type\":\"table\"}],\"barpolar\":[{\"marker\":{\"line\":{\"color\":\"#E5ECF6\",\"width\":0.5},\"pattern\":{\"fillmode\":\"overlay\",\"size\":10,\"solidity\":0.2}},\"type\":\"barpolar\"}],\"pie\":[{\"automargin\":true,\"type\":\"pie\"}]},\"layout\":{\"autotypenumbers\":\"strict\",\"colorway\":[\"#636efa\",\"#EF553B\",\"#00cc96\",\"#ab63fa\",\"#FFA15A\",\"#19d3f3\",\"#FF6692\",\"#B6E880\",\"#FF97FF\",\"#FECB52\"],\"font\":{\"color\":\"#2a3f5f\"},\"hovermode\":\"closest\",\"hoverlabel\":{\"align\":\"left\"},\"paper_bgcolor\":\"white\",\"plot_bgcolor\":\"#E5ECF6\",\"polar\":{\"bgcolor\":\"#E5ECF6\",\"angularaxis\":{\"gridcolor\":\"white\",\"linecolor\":\"white\",\"ticks\":\"\"},\"radialaxis\":{\"gridcolor\":\"white\",\"linecolor\":\"white\",\"ticks\":\"\"}},\"ternary\":{\"bgcolor\":\"#E5ECF6\",\"aaxis\":{\"gridcolor\":\"white\",\"linecolor\":\"white\",\"ticks\":\"\"},\"baxis\":{\"gridcolor\":\"white\",\"linecolor\":\"white\",\"ticks\":\"\"},\"caxis\":{\"gridcolor\":\"white\",\"linecolor\":\"white\",\"ticks\":\"\"}},\"coloraxis\":{\"colorbar\":{\"outlinewidth\":0,\"ticks\":\"\"}},\"colorscale\":{\"sequential\":[[0.0,\"#0d0887\"],[0.1111111111111111,\"#46039f\"],[0.2222222222222222,\"#7201a8\"],[0.3333333333333333,\"#9c179e\"],[0.4444444444444444,\"#bd3786\"],[0.5555555555555556,\"#d8576b\"],[0.6666666666666666,\"#ed7953\"],[0.7777777777777778,\"#fb9f3a\"],[0.8888888888888888,\"#fdca26\"],[1.0,\"#f0f921\"]],\"sequentialminus\":[[0.0,\"#0d0887\"],[0.1111111111111111,\"#46039f\"],[0.2222222222222222,\"#7201a8\"],[0.3333333333333333,\"#9c179e\"],[0.4444444444444444,\"#bd3786\"],[0.5555555555555556,\"#d8576b\"],[0.6666666666666666,\"#ed7953\"],[0.7777777777777778,\"#fb9f3a\"],[0.8888888888888888,\"#fdca26\"],[1.0,\"#f0f921\"]],\"diverging\":[[0,\"#8e0152\"],[0.1,\"#c51b7d\"],[0.2,\"#de77ae\"],[0.3,\"#f1b6da\"],[0.4,\"#fde0ef\"],[0.5,\"#f7f7f7\"],[0.6,\"#e6f5d0\"],[0.7,\"#b8e186\"],[0.8,\"#7fbc41\"],[0.9,\"#4d9221\"],[1,\"#276419\"]]},\"xaxis\":{\"gridcolor\":\"white\",\"linecolor\":\"white\",\"ticks\":\"\",\"title\":{\"standoff\":15},\"zerolinecolor\":\"white\",\"automargin\":true,\"zerolinewidth\":2},\"yaxis\":{\"gridcolor\":\"white\",\"linecolor\":\"white\",\"ticks\":\"\",\"title\":{\"standoff\":15},\"zerolinecolor\":\"white\",\"automargin\":true,\"zerolinewidth\":2},\"scene\":{\"xaxis\":{\"backgroundcolor\":\"#E5ECF6\",\"gridcolor\":\"white\",\"linecolor\":\"white\",\"showbackground\":true,\"ticks\":\"\",\"zerolinecolor\":\"white\",\"gridwidth\":2},\"yaxis\":{\"backgroundcolor\":\"#E5ECF6\",\"gridcolor\":\"white\",\"linecolor\":\"white\",\"showbackground\":true,\"ticks\":\"\",\"zerolinecolor\":\"white\",\"gridwidth\":2},\"zaxis\":{\"backgroundcolor\":\"#E5ECF6\",\"gridcolor\":\"white\",\"linecolor\":\"white\",\"showbackground\":true,\"ticks\":\"\",\"zerolinecolor\":\"white\",\"gridwidth\":2}},\"shapedefaults\":{\"line\":{\"color\":\"#2a3f5f\"}},\"annotationdefaults\":{\"arrowcolor\":\"#2a3f5f\",\"arrowhead\":0,\"arrowwidth\":1},\"geo\":{\"bgcolor\":\"white\",\"landcolor\":\"#E5ECF6\",\"subunitcolor\":\"white\",\"showland\":true,\"showlakes\":true,\"lakecolor\":\"white\"},\"title\":{\"x\":0.05},\"mapbox\":{\"style\":\"light\"}}},\"xaxis\":{\"anchor\":\"y\",\"domain\":[0.0,1.0],\"title\":{\"text\":\"Song Name\"}},\"yaxis\":{\"anchor\":\"x\",\"domain\":[0.0,1.0],\"title\":{\"text\":\"Total Streams\"}},\"legend\":{\"tracegroupgap\":0},\"title\":{\"text\":\"Top 10 Most Streamed Songs\"},\"barmode\":\"relative\"},                        {\"responsive\": true}                    ).then(function(){\n",
              "                            \n",
              "var gd = document.getElementById('7c484a37-a57e-4082-91ab-d92b05478e4a');\n",
              "var x = new MutationObserver(function (mutations, observer) {{\n",
              "        var display = window.getComputedStyle(gd).display;\n",
              "        if (!display || display === 'none') {{\n",
              "            console.log([gd, 'removed!']);\n",
              "            Plotly.purge(gd);\n",
              "            observer.disconnect();\n",
              "        }}\n",
              "}});\n",
              "\n",
              "// Listen for the removal of the full notebook cells\n",
              "var notebookContainer = gd.closest('#notebook-container');\n",
              "if (notebookContainer) {{\n",
              "    x.observe(notebookContainer, {childList: true});\n",
              "}}\n",
              "\n",
              "// Listen for the clearing of the current output cell\n",
              "var outputEl = gd.closest('.output');\n",
              "if (outputEl) {{\n",
              "    x.observe(outputEl, {childList: true});\n",
              "}}\n",
              "\n",
              "                        })                };                            </script>        </div>\n",
              "</body>\n",
              "</html>"
            ]
          },
          "metadata": {}
        }
      ]
    }
  ]
}